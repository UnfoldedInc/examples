{
 "cells": [
  {
   "cell_type": "markdown",
   "id": "bb890dbc",
   "metadata": {},
   "source": [
    "# Cloud maps\n",
    "\n",
    "[![open_in_colab][colab_badge]][colab_notebook_link]\n",
    "[![open_in_binder][binder_badge]][binder_notebook_link]\n",
    "\n",
    "[colab_badge]: https://colab.research.google.com/assets/colab-badge.svg\n",
    "[colab_notebook_link]: https://colab.research.google.com/github/UnfoldedInc/examples/blob/master/notebooks/03%20-%20Cloud%20maps.ipynb\n",
    "[binder_badge]: https://mybinder.org/badge_logo.svg\n",
    "[binder_notebook_link]: https://mybinder.org/v2/gh/UnfoldedInc/examples/master?urlpath=lab/tree/notebooks/03%20-%20Cloud%20maps.ipynb\n",
    "\n",
    "Clouds maps are those which are uploaded and [published in Unfolded Cloud](https://docs.unfolded.ai/studio/user-guide/publish).  Every map in Unfolded Cloud has a unique identifier `UUID` which you can see in the map URL. For example, the `UUID` of [this published map](http://studio.unfolded.ai/public/ae4f5345-8507-49ec-85f6-a1f8c7bc2219) is `ae4f5345-8507-49ec-85f6-a1f8c7bc2219`."
   ]
  },
  {
   "cell_type": "markdown",
   "id": "9e4c4ba7",
   "metadata": {},
   "source": [
    "## Dependencies\n",
    "\n",
    "This notebook requires the following Python dependencies:\n",
    "\n",
    "- `unfolded.map-sdk`: The Unfolded Map SDK\n",
    "\n",
    "If running this notebook in Binder, these dependencies should already be installed. If running in Colab, the next cell will install these dependencies."
   ]
  },
  {
   "cell_type": "code",
   "execution_count": null,
   "id": "1f30f157",
   "metadata": {},
   "outputs": [],
   "source": [
    "# If in Colab, install this notebook's required dependencies\n",
    "import sys\n",
    "if \"google.colab\" in sys.modules:\n",
    "    !pip install 'unfolded.map_sdk>=0.6.0'"
   ]
  },
  {
   "cell_type": "markdown",
   "id": "1c40cad7",
   "metadata": {},
   "source": [
    "## Imports"
   ]
  },
  {
   "cell_type": "code",
   "execution_count": null,
   "id": "00c58066",
   "metadata": {},
   "outputs": [],
   "source": [
    "from unfolded.map_sdk import UnfoldedMap"
   ]
  },
  {
   "cell_type": "markdown",
   "id": "3812502e",
   "metadata": {},
   "source": [
    "## Displaying a published map\n",
    "\n",
    "If we know the `UUID` (unique identifier) of a published map, we can embed it into a notebook:"
   ]
  },
  {
   "cell_type": "code",
   "execution_count": null,
   "id": "8ef3a29d",
   "metadata": {},
   "outputs": [],
   "source": [
    "unfolded_map = UnfoldedMap(\n",
    "    mapUUID='ae4f5345-8507-49ec-85f6-a1f8c7bc2219'\n",
    ")"
   ]
  },
  {
   "cell_type": "markdown",
   "id": "143a4175",
   "metadata": {},
   "source": [
    "The easiest way to find the UUID of a published map is to inspect the URL in Unfolded Studio in a browser. Alternatively, you can use the [Unfolded Data SDK](https://docs.unfolded.ai/data-sdk) to [list your own datasets](https://docs.unfolded.ai/data-sdk/api/list-datasets). The `id` field of the returned datasets represents the UUID that you can pass to the `UnfoldedMap` constructor. Note that to use a map here, it must be published."
   ]
  },
  {
   "cell_type": "markdown",
   "id": "22182086-6ec1-4614-8142-436dabc98f0c",
   "metadata": {},
   "source": [
    "Now, let's display the map:"
   ]
  },
  {
   "cell_type": "code",
   "execution_count": null,
   "id": "79a5845c-d90a-42c4-9803-636d490e0bbe",
   "metadata": {},
   "outputs": [],
   "source": [
    "unfolded_map"
   ]
  }
 ],
 "metadata": {
  "kernelspec": {
   "display_name": "Python 3",
   "language": "python",
   "name": "python3"
  },
  "language_info": {
   "codemirror_mode": {
    "name": "ipython",
    "version": 3
   },
   "file_extension": ".py",
   "mimetype": "text/x-python",
   "name": "python",
   "nbconvert_exporter": "python",
   "pygments_lexer": "ipython3",
   "version": "3.9.2"
  }
 },
 "nbformat": 4,
 "nbformat_minor": 5
}
