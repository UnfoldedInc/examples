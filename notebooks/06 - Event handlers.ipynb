{
 "cells": [
  {
   "cell_type": "markdown",
   "id": "810a72e5-6928-47e1-bdbe-5ff5c58cb8b0",
   "metadata": {},
   "source": [
    "# Event handlers"
   ]
  },
  {
   "cell_type": "markdown",
   "id": "a5890a22-9d6d-4a0b-9e5e-c77ff03881e3",
   "metadata": {},
   "source": [
    "This example demonstrate how Unfolded Map SDK makes it possible to register event handlers to receive notifications for specific map events."
   ]
  },
  {
   "cell_type": "markdown",
   "id": "2ddf92a9-2dfd-45d0-8edf-32cbca14bd0c",
   "metadata": {},
   "source": [
    "## Creating a map"
   ]
  },
  {
   "cell_type": "code",
   "execution_count": 57,
   "id": "928756e8-94ad-41be-8590-6da1a495c7de",
   "metadata": {},
   "outputs": [],
   "source": [
    "from unfolded.map_sdk import UnfoldedMap\n",
    "unfolded_map = UnfoldedMap()"
   ]
  },
  {
   "cell_type": "code",
   "execution_count": 58,
   "id": "f14794d3-b596-4568-ad6b-4005cd3e472f",
   "metadata": {},
   "outputs": [],
   "source": [
    "from sidecar import Sidecar\n",
    "sc = Sidecar(title='Earthquakes', anchor='split-right')\n",
    "with sc:\n",
    "    display(unfolded_map)"
   ]
  },
  {
   "cell_type": "markdown",
   "id": "34c2509f-ed30-40b5-86b0-54857a45eeff",
   "metadata": {},
   "source": [
    "## Data loading"
   ]
  },
  {
   "cell_type": "code",
   "execution_count": 59,
   "id": "d854e55b-83ed-4a58-a861-9a31f18dfe08",
   "metadata": {},
   "outputs": [],
   "source": [
    "import pandas as pd\n",
    "df = pd.read_csv('./data/earthquakes.csv')"
   ]
  },
  {
   "cell_type": "markdown",
   "id": "d406b478-3d3c-490f-9a24-ab7e88b9af43",
   "metadata": {},
   "source": [
    "## Adding the data to the map"
   ]
  },
  {
   "cell_type": "code",
   "execution_count": 60,
   "id": "93c4b4ca-5842-44b5-a8c4-7edf96b64929",
   "metadata": {},
   "outputs": [
    {
     "data": {
      "text/plain": [
       "<Future pending>"
      ]
     },
     "execution_count": 60,
     "metadata": {},
     "output_type": "execute_result"
    }
   ],
   "source": [
    "unfolded_map.add_dataset({\n",
    "    'label': 'Earthquakes',\n",
    "    'data': df\n",
    "})"
   ]
  },
  {
   "cell_type": "markdown",
   "id": "ce89a216-1d6d-404f-8bd6-9fde9fc6bfa8",
   "metadata": {},
   "source": [
    "## Adding a filter"
   ]
  },
  {
   "cell_type": "code",
   "execution_count": 8,
   "id": "24699be3-3cf8-4769-b72d-988443fba713",
   "metadata": {},
   "outputs": [],
   "source": [
    "magnitude_extent = [df['Magnitude'].min(), df['Magnitude'].max()]\n",
    "\n",
    "unfolded_map.set_filter({\n",
    "    'id': 'magnitude_filter',\n",
    "    'field': 'Magnitude',\n",
    "    'value': [5, magnitude_extent[1]]\n",
    "})"
   ]
  },
  {
   "cell_type": "markdown",
   "id": "3713bd44-c347-4286-88fc-559e0f085f69",
   "metadata": {},
   "source": [
    "## Controlling the filter with a range slider"
   ]
  },
  {
   "cell_type": "code",
   "execution_count": 9,
   "id": "c6428eaf-11cb-4e58-9371-3f85110b28ad",
   "metadata": {},
   "outputs": [],
   "source": [
    "import ipywidgets as widgets\n",
    "\n",
    "slider = widgets.FloatRangeSlider(\n",
    "    value=magnitude_extent,\n",
    "    min=magnitude_extent[0],\n",
    "    max=magnitude_extent[1],\n",
    "    step=0.1,\n",
    "    description='Magnitude:',\n",
    "    continuous_update=True\n",
    ")"
   ]
  },
  {
   "cell_type": "code",
   "execution_count": 47,
   "id": "72c1f908-5fdb-435e-a907-296ee2d3daed",
   "metadata": {},
   "outputs": [],
   "source": [
    "def update_value_filter(change):\n",
    "    if 'new' in change and 'value' in change['new']:\n",
    "        unfolded_map.set_filter({\n",
    "            'id': 'magnitude_filter',\n",
    "            'field': 'Magnitude',\n",
    "            'value': change['new']['value']\n",
    "        })"
   ]
  },
  {
   "cell_type": "code",
   "execution_count": 48,
   "id": "fb9c4fb1-cb36-45ae-b95a-f78ea8b31bd5",
   "metadata": {},
   "outputs": [
    {
     "data": {
      "application/vnd.jupyter.widget-view+json": {
       "model_id": "e7407038de75435591e39cfe6f54d0cd",
       "version_major": 2,
       "version_minor": 0
      },
      "text/plain": [
       "FloatRangeSlider(value=(3.9, 5.9), description='Magnitude:', max=7.39, min=2.5)"
      ]
     },
     "metadata": {},
     "output_type": "display_data"
    }
   ],
   "source": [
    "slider.observe(update_value_filter)\n",
    "display(slider)"
   ]
  },
  {
   "cell_type": "markdown",
   "id": "64c6dedc-b794-4229-99e7-7c2cd8973ad3",
   "metadata": {},
   "source": [
    "The following will unregister the observer:"
   ]
  },
  {
   "cell_type": "code",
   "execution_count": 45,
   "id": "d59b23c1-2249-4bd8-bf98-df0e11c5fd15",
   "metadata": {},
   "outputs": [],
   "source": [
    "slider.unobserve(None)"
   ]
  },
  {
   "cell_type": "markdown",
   "id": "b045eaab-120a-44a8-94ff-7244deca7aa3",
   "metadata": {},
   "source": [
    "## Listening to filter change events"
   ]
  },
  {
   "cell_type": "markdown",
   "id": "a8530cd1-15d3-48d1-8b63-93bbc43005ec",
   "metadata": {},
   "source": [
    "You can register event handlers to be notified of filter changes in the map. Here's how we can syncronize the above range slider with the Magnitude filter in the map:"
   ]
  },
  {
   "cell_type": "code",
   "execution_count": 52,
   "id": "fc8ec0f8-a9bc-4b6c-9556-230e7bc50c35",
   "metadata": {},
   "outputs": [],
   "source": [
    "def on_filter_sync(info):\n",
    "    if 'Magnitude' in info['name'] and info['prop'] == 'value':\n",
    "        slider.value = info['value']\n",
    "\n",
    "unfolded_map.set_map_event_handlers({\n",
    "    'on_filter': on_filter_sync\n",
    "})"
   ]
  },
  {
   "cell_type": "markdown",
   "id": "5be7be1c-a9cd-4767-93ac-93c03a693dcf",
   "metadata": {},
   "source": [
    "Now try changing the \"Magnitude\" filter in the \"Filter\" pane of the left sidebar in the map. You should see the slider above in the notebook update. "
   ]
  },
  {
   "cell_type": "markdown",
   "id": "6ff338f4-b09e-4732-8269-9ba89351faf0",
   "metadata": {},
   "source": [
    "##  Debugging a filter event handler"
   ]
  },
  {
   "cell_type": "markdown",
   "id": "344b0e0f-72b7-47dc-94d4-f2093e8351fd",
   "metadata": {},
   "source": [
    "Here's how you can output the event info when filter events are triggered:"
   ]
  },
  {
   "cell_type": "code",
   "execution_count": 20,
   "id": "db244886-f74c-4134-a957-8fd4a56e0238",
   "metadata": {},
   "outputs": [
    {
     "data": {
      "application/vnd.jupyter.widget-view+json": {
       "model_id": "fb3f0014f08d4f1fa81e1f8903dcc114",
       "version_major": 2,
       "version_minor": 0
      },
      "text/plain": [
       "Output()"
      ]
     },
     "metadata": {},
     "output_type": "display_data"
    }
   ],
   "source": [
    "import ipywidgets as widgets\n",
    "output = widgets.Output()\n",
    "@output.capture(clear_output=True)\n",
    "def on_filter_output(info):\n",
    "    print(info)\n",
    "output"
   ]
  },
  {
   "cell_type": "code",
   "execution_count": 36,
   "id": "186bd1f7-d918-4132-8c76-28ebc2a3d8a7",
   "metadata": {},
   "outputs": [],
   "source": [
    "unfolded_map.set_map_event_handlers({\n",
    "    'on_filter': on_filter_output\n",
    "})"
   ]
  }
 ],
 "metadata": {
  "kernelspec": {
   "display_name": "Python 3",
   "language": "python",
   "name": "python3"
  },
  "language_info": {
   "codemirror_mode": {
    "name": "ipython",
    "version": 3
   },
   "file_extension": ".py",
   "mimetype": "text/x-python",
   "name": "python",
   "nbconvert_exporter": "python",
   "pygments_lexer": "ipython3",
   "version": "3.9.2"
  }
 },
 "nbformat": 4,
 "nbformat_minor": 5
}
