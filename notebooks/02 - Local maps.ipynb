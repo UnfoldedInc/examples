{
 "cells": [
  {
   "cell_type": "markdown",
   "id": "49cc9cb0-7fb2-43dd-9ea7-e255661d8429",
   "metadata": {},
   "source": [
    "# Local maps"
   ]
  },
  {
   "cell_type": "markdown",
   "id": "fca583fc-260c-495c-8abc-9ca3b4e0b420",
   "metadata": {},
   "source": [
    "Local maps are designed to support ongoing iterative data analysis. You can add data and layers to a local map. Neither the map itself nor any data you add to it is uploaded to the Unfolded cloud. Note that you still need to use a valid Unfolded token to create local maps."
   ]
  },
  {
   "cell_type": "markdown",
   "id": "f3c40e00-ce0e-4234-b948-b455b969ec28",
   "metadata": {},
   "source": [
    "To create a local map you just need to instantiate an `UnfoldedMap` object:"
   ]
  },
  {
   "cell_type": "code",
   "execution_count": null,
   "id": "71c77df9-1d42-4993-9a0a-d311064d03c9",
   "metadata": {},
   "outputs": [],
   "source": [
    "import requests\n",
    "from unfolded.map_sdk import UnfoldedMap\n",
    "unfolded_map = UnfoldedMap(height=500)"
   ]
  },
  {
   "cell_type": "markdown",
   "id": "c8aadd48-012b-4063-8eea-36f6856ae30d",
   "metadata": {},
   "source": [
    "Now we can display the empty map:"
   ]
  },
  {
   "cell_type": "code",
   "execution_count": null,
   "id": "67fbd3d3-2eb6-45f4-b3e4-7391fc5282a7",
   "metadata": {},
   "outputs": [],
   "source": [
    "from sidecar import Sidecar\n",
    "sc = Sidecar(title='Unfolded map demo', anchor='split-right')\n",
    "with sc:\n",
    "    display(unfolded_map)"
   ]
  },
  {
   "cell_type": "markdown",
   "id": "05b6f62b",
   "metadata": {},
   "source": [
    "## Adding datasets"
   ]
  },
  {
   "cell_type": "markdown",
   "id": "d8b6d266-bf79-4e4a-8704-98b0af95aec3",
   "metadata": {},
   "source": [
    "We can add a dataframe as a dataset to the map. To do this we first create a unique identifier for the dataset, so that we can refer to it later:"
   ]
  },
  {
   "cell_type": "code",
   "execution_count": null,
   "id": "3366a68b",
   "metadata": {},
   "outputs": [],
   "source": [
    "from uuid import uuid4\n",
    "dataset_id=uuid4()"
   ]
  },
  {
   "cell_type": "markdown",
   "id": "6a9b3c46-3f3a-4b5d-a980-7ef3e998513b",
   "metadata": {},
   "source": [
    "### Dataframe"
   ]
  },
  {
   "cell_type": "markdown",
   "id": "9d85dc99-18d2-454c-a476-dab41aaf156c",
   "metadata": {},
   "source": [
    "Now let's add load a CSV into a dataframe and add it as a dataset to the map:"
   ]
  },
  {
   "cell_type": "code",
   "execution_count": null,
   "id": "37ebfcb5",
   "metadata": {},
   "outputs": [],
   "source": [
    "import pandas as pd\n",
    "url = 'https://raw.githubusercontent.com/UnfoldedInc/examples/master/notebooks/data/earthquakes.csv'\n",
    "unfolded_map.add_dataset({\n",
    "    'uuid': dataset_id,\n",
    "    'label': 'Earthquakes dataset',\n",
    "    'data': pd.read_csv(url)\n",
    "})"
   ]
  },
  {
   "cell_type": "markdown",
   "id": "4d913c14-4de8-49d2-b401-78527f3069c9",
   "metadata": {},
   "source": [
    "To remove the dataset you can call passing its `id`:"
   ]
  },
  {
   "cell_type": "code",
   "execution_count": null,
   "id": "0ab8deca",
   "metadata": {},
   "outputs": [],
   "source": [
    "unfolded_map.remove_dataset(dataset_id)"
   ]
  },
  {
   "cell_type": "markdown",
   "id": "8d137c8a",
   "metadata": {},
   "source": [
    "### GeoJSON"
   ]
  },
  {
   "cell_type": "markdown",
   "id": "ed3a921b-7438-4974-a7ca-1064c372f5ab",
   "metadata": {},
   "source": [
    "The `add_dataset` method also supports GeoJSON in a string:"
   ]
  },
  {
   "cell_type": "code",
   "execution_count": null,
   "id": "0e891430",
   "metadata": {},
   "outputs": [],
   "source": [
    "url = 'https://raw.githubusercontent.com/UnfoldedInc/examples/master/notebooks/data/nyc-census.json'\n",
    "r = requests.get(url)\n",
    "census_tracts_geojson = r.text\n",
    "unfolded_map.add_dataset({'data': census_tracts_geojson})"
   ]
  },
  {
   "cell_type": "markdown",
   "id": "b5cfea1e-64fc-4d01-9cf2-6e7596e024c6",
   "metadata": {},
   "source": [
    "### CSV"
   ]
  },
  {
   "cell_type": "markdown",
   "id": "3bc09be9-4dfa-422c-b649-1325f3afdfdb",
   "metadata": {},
   "source": [
    "Or CSV passed as a string:"
   ]
  },
  {
   "cell_type": "code",
   "execution_count": null,
   "id": "2d08931d-7e7b-4901-bf48-ea55e78bcd2f",
   "metadata": {},
   "outputs": [],
   "source": [
    "url = 'https://raw.githubusercontent.com/UnfoldedInc/examples/master/notebooks/data/earthquakes.csv'\n",
    "r = requests.get(url)\n",
    "earthquakes_csv = r.text\n",
    "unfolded_map.add_dataset({'data': earthquakes_csv})"
   ]
  }
 ],
 "metadata": {
  "kernelspec": {
   "display_name": "Python 3",
   "language": "python",
   "name": "python3"
  },
  "language_info": {
   "codemirror_mode": {
    "name": "ipython",
    "version": 3
   },
   "file_extension": ".py",
   "mimetype": "text/x-python",
   "name": "python",
   "nbconvert_exporter": "python",
   "pygments_lexer": "ipython3",
   "version": "3.9.2"
  }
 },
 "nbformat": 4,
 "nbformat_minor": 5
}
