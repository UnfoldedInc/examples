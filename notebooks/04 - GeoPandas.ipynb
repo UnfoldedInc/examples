{
 "cells": [
  {
   "cell_type": "code",
   "execution_count": 1,
   "id": "bb0c17a0-993f-4291-a69e-a9ac6c872e6e",
   "metadata": {},
   "outputs": [],
   "source": [
    "from unfolded.map_sdk import UnfoldedMap\n",
    "unfolded_map = UnfoldedMap()"
   ]
  },
  {
   "cell_type": "code",
   "execution_count": null,
   "id": "fe85aaf1-c4aa-4651-8457-9134db385c54",
   "metadata": {},
   "outputs": [],
   "source": []
  },
  {
   "cell_type": "code",
   "execution_count": 2,
   "id": "f14794d3-b596-4568-ad6b-4005cd3e472f",
   "metadata": {},
   "outputs": [],
   "source": [
    "from sidecar import Sidecar\n",
    "sc = Sidecar(title='Unfolded Map', anchor='split-right')\n",
    "with sc:\n",
    "    display(unfolded_map)"
   ]
  },
  {
   "cell_type": "markdown",
   "id": "838cfc8b-57ef-4bc7-9913-35e90fd41bc2",
   "metadata": {},
   "source": [
    "## Load GeoDataFrame"
   ]
  },
  {
   "cell_type": "code",
   "execution_count": 8,
   "id": "61332e2f-08ed-46ce-a69c-29d7473dcad6",
   "metadata": {},
   "outputs": [
    {
     "data": {
      "text/plain": [
       "<Future pending>"
      ]
     },
     "execution_count": 8,
     "metadata": {},
     "output_type": "execute_result"
    }
   ],
   "source": [
    "import geopandas\n",
    "country_gdf = geopandas.read_file(\"http://eric.clst.org/assets/wiki/uploads/Stuff/gz_2010_us_040_00_500k.json\")\n",
    "unfolded_map.add_dataset({'data': country_gdf})"
   ]
  }
 ],
 "metadata": {
  "kernelspec": {
   "display_name": "Python 3",
   "language": "python",
   "name": "python3"
  },
  "language_info": {
   "codemirror_mode": {
    "name": "ipython",
    "version": 3
   },
   "file_extension": ".py",
   "mimetype": "text/x-python",
   "name": "python",
   "nbconvert_exporter": "python",
   "pygments_lexer": "ipython3",
   "version": "3.9.2"
  }
 },
 "nbformat": 4,
 "nbformat_minor": 5
}
