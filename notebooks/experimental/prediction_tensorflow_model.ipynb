{
 "cells": [
  {
   "cell_type": "markdown",
   "id": "de84a707-c5e0-45af-a66a-66787b417872",
   "metadata": {},
   "source": [
    "# House Price Prediction With TensorFlow"
   ]
  },
  {
   "cell_type": "markdown",
   "id": "05c04f6f-6bdb-4cf6-8a4e-64639c262a74",
   "metadata": {},
   "source": [
    "This example demonstrates how Unfolded Map SDK can be used in the process of building a machine learning model for predicting median house prices in California."
   ]
  },
  {
   "cell_type": "markdown",
   "id": "db1cc8d4-69cb-412f-8727-233d26ad954f",
   "metadata": {},
   "source": [
    "## Dependencies "
   ]
  },
  {
   "cell_type": "code",
   "execution_count": null,
   "id": "2c740a25-f70d-4d6c-bb8c-369d386095b8",
   "metadata": {
    "tags": []
   },
   "outputs": [],
   "source": [
    "!pip install pandas==1.3.2 numpy==1.19.5 sklearn==0.0 geopy==2.2.0 scipy==1.7.1 seaborn==0.11.2 matplotlib==3.4.3 tensorflow==2.6.0 unfolded.map-sdk==0.3.0"
   ]
  },
  {
   "cell_type": "markdown",
   "id": "a3f5160c-4f05-4dc1-9e6a-d044dd81947f",
   "metadata": {},
   "source": [
    "## Imports"
   ]
  },
  {
   "cell_type": "code",
   "execution_count": null,
   "id": "b45c477b-a2e3-4783-b4d7-6771126de879",
   "metadata": {},
   "outputs": [],
   "source": [
    "from uuid import uuid4\n",
    "import requests\n",
    "\n",
    "import matplotlib.pyplot as plt\n",
    "import numpy as np\n",
    "import pandas as pd\n",
    "import seaborn as sns\n",
    "import tensorflow as tf\n",
    "from geopy.distance import geodesic\n",
    "from scipy.cluster.vq import vq\n",
    "from sklearn.cluster import KMeans\n",
    "from sklearn.model_selection import train_test_split\n",
    "from sklearn.preprocessing import StandardScaler\n",
    "\n",
    "from tensorflow import keras\n",
    "from tensorflow.keras import Sequential, optimizers\n",
    "from tensorflow.keras.layers import Dense, Flatten, Softmax\n",
    "\n",
    "from unfolded.map_sdk import UnfoldedMap"
   ]
  },
  {
   "cell_type": "markdown",
   "id": "6fd123df-3aa2-4610-b02e-b555c152cf5e",
   "metadata": {},
   "source": [
    "Check package versions: "
   ]
  },
  {
   "cell_type": "code",
   "execution_count": null,
   "id": "652baff7-ebde-4e0c-a189-4ce9b9f70495",
   "metadata": {},
   "outputs": [],
   "source": [
    "print(f\"pandas version: {pd.__version__}\")\n",
    "print(f\"numpy version: {np.__version__}\")\n",
    "print(f\"seaborn version: {sns.__version__}\")\n",
    "print(f\"tensorflow: {tf.__version__}\")"
   ]
  },
  {
   "cell_type": "markdown",
   "id": "a794e22f-8b77-4fe5-899e-1f8cb4604099",
   "metadata": {},
   "source": [
    "## Data Loading"
   ]
  },
  {
   "cell_type": "code",
   "execution_count": null,
   "id": "3367c4bc-2b9e-4442-a51b-3fb2a2afac78",
   "metadata": {},
   "outputs": [],
   "source": [
    "dataset_url = \"https://actionengine-public.s3.us-east-2.amazonaws.com/housing.csv\"\n",
    "dataset_path = \"housing.csv\"\n",
    "\n",
    "dataset_data = requests.get(dataset_url, allow_redirects=True)\n",
    "with open(dataset_path, \"wb\") as dataset_file:\n",
    "    dataset_file.write(dataset_data.content)\n",
    "\n",
    "housing = pd.read_csv(dataset_path)\n",
    "housing.head()"
   ]
  },
  {
   "cell_type": "markdown",
   "id": "db55a1df-8e19-405c-a28a-f61eb42d8167",
   "metadata": {},
   "source": [
    "## Feature Engineering"
   ]
  },
  {
   "cell_type": "markdown",
   "id": "ab58b8d8",
   "metadata": {},
   "source": [
    "First, let's have a glance at the input data and try to visualize different aspects of them in a map."
   ]
  },
  {
   "cell_type": "markdown",
   "id": "36ddbd66-1710-45f0-a4bc-fc11754720f1",
   "metadata": {},
   "source": [
    "### Population Clustering"
   ]
  },
  {
   "cell_type": "markdown",
   "id": "ea9f810c",
   "metadata": {},
   "source": [
    "Here we'll look at cities clustered by the population:"
   ]
  },
  {
   "cell_type": "code",
   "execution_count": null,
   "id": "a7bd568b",
   "metadata": {},
   "outputs": [],
   "source": [
    "population_in_CA = UnfoldedMap()\n",
    "dataset_id = uuid4()\n",
    "\n",
    "population_in_CA.add_dataset(\n",
    "    {\"uuid\": dataset_id, \"label\": \"Population_in_CA\", \"data\": housing},\n",
    "    auto_create_layers=False,\n",
    ")\n",
    "\n",
    "population_in_CA.add_layer(\n",
    "    {\n",
    "        \"id\": \"population_CA\",\n",
    "        \"type\": \"cluster\",\n",
    "        \"config\": {\n",
    "            \"label\": \"population in CA\",\n",
    "            \"data_id\": dataset_id,\n",
    "            \"columns\": {\"lat\": \"latitude\", \"lng\": \"longitude\"},\n",
    "            \"is_visible\": True,\n",
    "            \"color_scale\": \"quantize\",\n",
    "            \"color_field\": {\"name\": \"population\", \"type\": \"real\"},\n",
    "        },\n",
    "    }\n",
    ")\n",
    "\n",
    "population_in_CA.set_view_state(\n",
    "    {\"longitude\": -119.417931, \"latitude\": 36.778259, \"zoom\": 5}\n",
    ")\n",
    "\n",
    "population_in_CA"
   ]
  },
  {
   "cell_type": "markdown",
   "id": "0587cfaf-a1be-4940-9c60-d00c31203131",
   "metadata": {},
   "source": [
    "### Distance To Largest Cities"
   ]
  },
  {
   "cell_type": "markdown",
   "id": "77d9f9a7",
   "metadata": {},
   "source": [
    "Here we can represent the closest large city for every location in the input data:"
   ]
  },
  {
   "cell_type": "code",
   "execution_count": null,
   "id": "f81cec6d",
   "metadata": {},
   "outputs": [],
   "source": [
    "big_cities = {\n",
    "    \"Los Angeles\": (34.052, -118.244),\n",
    "    \"San Diego\": (32.716, -117.165),\n",
    "    \"San Jose\": (37.339, -121.895),\n",
    "    \"San Francisco\": (37.775, -122.419),\n",
    "    \"Fresno\": (36.748, -119.772),\n",
    "}"
   ]
  },
  {
   "cell_type": "markdown",
   "id": "a9bcee73-45b5-4fd8-b668-a2618157a561",
   "metadata": {},
   "source": [
    "Create function to calculate nearest city"
   ]
  },
  {
   "cell_type": "code",
   "execution_count": null,
   "id": "f7794620",
   "metadata": {},
   "outputs": [],
   "source": [
    "def closest_point(location, location_dict):\n",
    "    shortest_distance = None\n",
    "    shortest_distance_coordinates = None\n",
    "\n",
    "    for loc in location_dict.values():\n",
    "        distance = geodesic(location, loc).kilometers\n",
    "        if shortest_distance is None or distance < shortest_distance:\n",
    "            shortest_distance = distance\n",
    "            shortest_distance_coordinates = loc\n",
    "    return shortest_distance, shortest_distance_coordinates"
   ]
  },
  {
   "cell_type": "markdown",
   "id": "ba16d039-317d-4a45-ae8b-581c4c4c9e51",
   "metadata": {},
   "source": [
    "Find and calculate the distances between each location in the input data and their closest big cities"
   ]
  },
  {
   "cell_type": "code",
   "execution_count": null,
   "id": "1a1c8cdd",
   "metadata": {
    "scrolled": true
   },
   "outputs": [],
   "source": [
    "housing[\"big_city\"] = housing.apply(\n",
    "    lambda x: closest_point((x[\"latitude\"], x[\"longitude\"]), big_cities), axis=1\n",
    ")\n",
    "housing[\"closest_location\"] = [x[0] for x in housing[\"big_city\"].values]\n",
    "housing[\"big_city_dist\"] = [x[1] for x in housing[\"big_city\"].values]\n",
    "\n",
    "housing = housing.drop(\"big_city\", axis=1)"
   ]
  },
  {
   "cell_type": "markdown",
   "id": "6609f3d6-5e64-46fa-a35b-16c2cba4fbaa",
   "metadata": {},
   "source": [
    "Make a dataframe from the data obtained above with the coordinates of the nearest big city"
   ]
  },
  {
   "cell_type": "code",
   "execution_count": null,
   "id": "f7f1446c",
   "metadata": {},
   "outputs": [],
   "source": [
    "lat = []\n",
    "lon = []\n",
    "target_lat = []\n",
    "target_lon = []\n",
    "\n",
    "for row in housing.itertuples():\n",
    "    lon.append(row.longitude)\n",
    "    lat.append(row.latitude)\n",
    "    target_city = row.big_city_dist\n",
    "    target_lat.append(target_city[0])\n",
    "    target_lon.append(target_city[1])\n",
    "\n",
    "coords_df = pd.DataFrame(\n",
    "    {\"lat\": lat, \"lon\": lon, \"target_lat\": target_lat, \"target_lon\": target_lon}\n",
    ")"
   ]
  },
  {
   "cell_type": "markdown",
   "id": "e7c0da2d",
   "metadata": {},
   "source": [
    "This map shows the distances between the locations and their nearest big cities"
   ]
  },
  {
   "cell_type": "code",
   "execution_count": null,
   "id": "cf5a6291",
   "metadata": {},
   "outputs": [],
   "source": [
    "distance_to_big_cities = UnfoldedMap()\n",
    "dist_data_id = uuid4()\n",
    "\n",
    "distance_to_big_cities.add_dataset(\n",
    "    {\n",
    "        \"uuid\": dist_data_id,\n",
    "        \"label\": \"Distance to closest big cities\",\n",
    "        \"data\": coords_df,\n",
    "    },\n",
    "    auto_create_layers=False,\n",
    ")\n",
    "\n",
    "distance_to_big_cities.add_layer(\n",
    "    {\n",
    "        \"id\": \"closest_distance\",\n",
    "        \"type\": \"arc\",\n",
    "        \"config\": {\n",
    "            \"data_id\": dist_data_id,\n",
    "            \"label\": \"distance to closest big cities\",\n",
    "            \"columns\": {\n",
    "                \"lng0\": \"lon\",\n",
    "                \"lng1\": \"target_lon\",\n",
    "                \"lat0\": \"lat\",\n",
    "                \"lat1\": \"target_lat\",\n",
    "            },\n",
    "            \"visConfig\": {\"opacity\": 0.8, \"thickness\": 0.3},\n",
    "            \"is_visible\": True,\n",
    "        },\n",
    "    }\n",
    ")\n",
    "\n",
    "distance_to_big_cities.set_view_state(\n",
    "    {\"longitude\": -119.417931, \"latitude\": 36.778259, \"zoom\": 4.5}\n",
    ")\n",
    "\n",
    "distance_to_big_cities"
   ]
  },
  {
   "cell_type": "markdown",
   "id": "7ada3234-1d8e-4371-a913-956c009433af",
   "metadata": {},
   "source": [
    "## Data Preprocessing"
   ]
  },
  {
   "cell_type": "markdown",
   "id": "5fd3191d",
   "metadata": {},
   "source": [
    "Here we are preparing data for training a TensorFlow model:"
   ]
  },
  {
   "cell_type": "code",
   "execution_count": null,
   "id": "edb0c5d1",
   "metadata": {},
   "outputs": [],
   "source": [
    "# we can drop null values as their count is less than 5 %\n",
    "housing.dropna(inplace=True)\n",
    "\n",
    "X = pd.DataFrame(\n",
    "    columns=[\n",
    "        \"longitude\",\n",
    "        \"latitude\",\n",
    "        \"housing_median_age\",\n",
    "        \"total_rooms\",\n",
    "        \"total_bedrooms\",\n",
    "        \"population\",\n",
    "        \"households\",\n",
    "        \"median_income\",\n",
    "        \"ocean_proximity\",\n",
    "    ],\n",
    "    data=housing,\n",
    ")\n",
    "y = pd.DataFrame(columns=[\"median_house_value\"], data=housing)\n",
    "\n",
    "# converting ocean_proximity into new separate columns ('NEAR BAY', '<1H OCEAN', 'INLAND', 'NEAR OCEAN', 'ISLAND')\n",
    "X = pd.get_dummies(\n",
    "    data=X, columns=[\"ocean_proximity\"], prefix=[\"ocean_proximity\"], drop_first=True\n",
    ")"
   ]
  },
  {
   "cell_type": "markdown",
   "id": "40993536-76e3-4503-af0c-ef26f2676bcc",
   "metadata": {},
   "source": [
    "## Data Splitting"
   ]
  },
  {
   "cell_type": "markdown",
   "id": "e7673a78-81da-4bf4-bbca-ba15b2135597",
   "metadata": {
    "tags": []
   },
   "source": [
    "Splitting the data into training, validation and test sets"
   ]
  },
  {
   "cell_type": "code",
   "execution_count": null,
   "id": "9fe20ec3",
   "metadata": {},
   "outputs": [],
   "source": [
    "# dividing training data into test, validation and train\n",
    "X_train, X_test, y_train, y_test = train_test_split(X, y, test_size=0.2, random_state=1)\n",
    "\n",
    "X_train, X_val, y_train, y_val = train_test_split(\n",
    "    X_train, y_train, test_size=0.25, random_state=1\n",
    ")\n",
    "\n",
    "start_values = X_test.copy(deep=True)"
   ]
  },
  {
   "cell_type": "markdown",
   "id": "969d9cf3",
   "metadata": {},
   "source": [
    "## Feature Scaling"
   ]
  },
  {
   "cell_type": "markdown",
   "id": "33cd6962-258d-4c18-bb8a-270d03f6aa9f",
   "metadata": {},
   "source": [
    "Using standart scaling with mean and standard deviation from training dataset to avoid data leak"
   ]
  },
  {
   "cell_type": "code",
   "execution_count": null,
   "id": "03e62a28",
   "metadata": {},
   "outputs": [],
   "source": [
    "# feature standardization\n",
    "scaler = StandardScaler()\n",
    "X_train = scaler.fit_transform(X_train)\n",
    "X_val = scaler.transform(X_val)\n",
    "X_test = scaler.transform(X_test)"
   ]
  },
  {
   "cell_type": "markdown",
   "id": "0a8f9308-6d91-475a-83c1-dfbbef814272",
   "metadata": {},
   "source": [
    "## Price Prediction Model"
   ]
  },
  {
   "cell_type": "markdown",
   "id": "f812992b",
   "metadata": {},
   "source": [
    "Here we are specify the parameters for the TensorFlow model:"
   ]
  },
  {
   "cell_type": "code",
   "execution_count": null,
   "id": "75f697f5",
   "metadata": {},
   "outputs": [],
   "source": [
    "model = Sequential()\n",
    "\n",
    "number_of_features = X.shape[1]\n",
    "\n",
    "# input Layer\n",
    "model.add(Dense(number_of_features, activation=\"relu\", input_dim=number_of_features))\n",
    "\n",
    "# hidden Layer\n",
    "model.add(Dense(512, activation=\"relu\"))\n",
    "model.add(Dense(512, activation=\"relu\"))\n",
    "model.add(Dense(256, activation=\"relu\"))\n",
    "model.add(Dense(128, activation=\"relu\"))\n",
    "model.add(Dense(64, activation=\"relu\"))\n",
    "model.add(Dense(32, activation=\"relu\"))\n",
    "\n",
    "# output Layer\n",
    "model.add(Dense(1, activation=\"linear\"))"
   ]
  },
  {
   "cell_type": "code",
   "execution_count": null,
   "id": "6fc6cb8e",
   "metadata": {
    "tags": []
   },
   "outputs": [],
   "source": [
    "model.compile(loss=\"mse\", optimizer=\"adam\", metrics=[\"mse\", \"mae\"])\n",
    "model.summary()"
   ]
  },
  {
   "cell_type": "markdown",
   "id": "313d0bd8-e34d-427e-b150-53a33a5357f4",
   "metadata": {},
   "source": [
    "### Training"
   ]
  },
  {
   "cell_type": "markdown",
   "id": "276f24ea",
   "metadata": {},
   "source": [
    "Here we are starting the model training:"
   ]
  },
  {
   "cell_type": "code",
   "execution_count": null,
   "id": "8a020f49",
   "metadata": {
    "scrolled": false,
    "tags": []
   },
   "outputs": [],
   "source": [
    "history = model.fit(\n",
    "    X_train,\n",
    "    y_train.to_numpy(),\n",
    "    batch_size=10,\n",
    "    epochs=70,\n",
    "    verbose=1,\n",
    "    validation_data=(X_val, y_val),\n",
    ")"
   ]
  },
  {
   "cell_type": "markdown",
   "id": "ed8bdd26-7a6a-4564-af3b-c2c0cac3f5b2",
   "metadata": {},
   "source": [
    "### Evaluation"
   ]
  },
  {
   "cell_type": "markdown",
   "id": "2acb6304",
   "metadata": {},
   "source": [
    "Here we are looking how well the model was trained:"
   ]
  },
  {
   "cell_type": "code",
   "execution_count": null,
   "id": "4076a3a4-c154-43ea-a833-6d91ce123bde",
   "metadata": {
    "tags": []
   },
   "outputs": [],
   "source": [
    "# summarize history for loss\n",
    "loss_train = history.history[\"loss\"]\n",
    "loss_val = history.history[\"val_loss\"]\n",
    "epochs = range(1, 71)\n",
    "plt.figure(figsize=(10, 8))\n",
    "plt.plot(epochs, loss_train, \"g\", label=\"Training loss\")\n",
    "plt.plot(epochs, loss_val, \"b\", label=\"Validation loss\")\n",
    "plt.title(\"Training and Validation loss\")\n",
    "plt.xlabel(\"Epochs\")\n",
    "plt.ylabel(\"Loss\")\n",
    "plt.legend()\n",
    "plt.show()"
   ]
  },
  {
   "cell_type": "markdown",
   "id": "d65e5e9e",
   "metadata": {},
   "source": [
    "In the above chart we can see that the training loss and validation loss are quite close to each other."
   ]
  },
  {
   "cell_type": "markdown",
   "id": "a3474c70",
   "metadata": {},
   "source": [
    "Now we can use the model to predict prices on unseen data"
   ]
  },
  {
   "cell_type": "code",
   "execution_count": null,
   "id": "7c742425",
   "metadata": {},
   "outputs": [],
   "source": [
    "y_pred = model.predict(X_test)"
   ]
  },
  {
   "cell_type": "markdown",
   "id": "0d6cbc56",
   "metadata": {},
   "source": [
    "We can see that loss function value on the test data is similar to the loss value on the training data"
   ]
  },
  {
   "cell_type": "code",
   "execution_count": null,
   "id": "18756b3f",
   "metadata": {},
   "outputs": [],
   "source": [
    "model.evaluate(X_test, y_test)"
   ]
  },
  {
   "cell_type": "markdown",
   "id": "a87db7d6-d1a3-420d-9ab2-e6e3223a4aeb",
   "metadata": {},
   "source": [
    "### Prediction"
   ]
  },
  {
   "cell_type": "markdown",
   "id": "4ea00a7f",
   "metadata": {},
   "source": [
    "Let's now visualize the predicted numbers on the map"
   ]
  },
  {
   "cell_type": "markdown",
   "id": "7120a0d3-d5d6-4485-aa5b-62275aba026f",
   "metadata": {},
   "source": [
    "First, create a dataframe with predicted values obtained from the model"
   ]
  },
  {
   "cell_type": "code",
   "execution_count": null,
   "id": "33d3366a",
   "metadata": {},
   "outputs": [],
   "source": [
    "predict_data = pd.DataFrame(\n",
    "    columns=[\"longitude\", \"latitude\"], data=start_values[[\"longitude\", \"latitude\"]]\n",
    ")\n",
    "predict_data[\"price\"] = y_pred"
   ]
  },
  {
   "cell_type": "markdown",
   "id": "bb728127-0c64-4b4e-ab6b-71d451f33513",
   "metadata": {},
   "source": [
    "### Visualization"
   ]
  },
  {
   "cell_type": "markdown",
   "id": "94536742",
   "metadata": {},
   "source": [
    "This map shows the predicted prices on houses in CA"
   ]
  },
  {
   "cell_type": "code",
   "execution_count": null,
   "id": "9b15e7f3",
   "metadata": {
    "tags": []
   },
   "outputs": [],
   "source": [
    "housing_predict_prices = UnfoldedMap()\n",
    "price_data_id = uuid4()\n",
    "\n",
    "housing_predict_prices.add_dataset(\n",
    "    {\n",
    "        \"uuid\": price_data_id,\n",
    "        \"label\": \"Predict housing prices in CA\",\n",
    "        \"data\": predict_data,\n",
    "    },\n",
    "    auto_create_layers=False,\n",
    ")\n",
    "\n",
    "housing_predict_prices.add_layer(\n",
    "    {\n",
    "        \"id\": \"housing_prices\",\n",
    "        \"type\": \"hexagon\",\n",
    "        \"config\": {\n",
    "            \"label\": \"housing prices\",\n",
    "            \"data_id\": price_data_id,\n",
    "            \"columns\": {\"lat\": \"latitude\", \"lng\": \"longitude\"},\n",
    "            \"is_visible\": True,\n",
    "            \"color_scale\": \"quantize\",\n",
    "            \"color_field\": {\"name\": \"price\", \"type\": \"real\"},\n",
    "            \"vis_config\": {\n",
    "                \"colorRange\": {\n",
    "                    \"colors\": [\n",
    "                        \"#E6F598\",\n",
    "                        \"#ABDDA4\",\n",
    "                        \"#66C2A5\",\n",
    "                        \"#3288BD\",\n",
    "                        \"#5E4FA2\",\n",
    "                        \"#9E0142\",\n",
    "                        \"#D53E4F\",\n",
    "                        \"#F46D43\",\n",
    "                        \"#FDAE61\",\n",
    "                        \"#FEE08B\",\n",
    "                    ]\n",
    "                }\n",
    "            },\n",
    "        },\n",
    "    }\n",
    ")\n",
    "\n",
    "housing_predict_prices.set_view_state(\n",
    "    {\"longitude\": -119.417931, \"latitude\": 36.6, \"zoom\": 6}\n",
    ")\n",
    "\n",
    "housing_predict_prices"
   ]
  },
  {
   "cell_type": "markdown",
   "id": "e9b897ea-3a74-47bf-bf56-e006e4e0bae8",
   "metadata": {
    "tags": []
   },
   "source": [
    "## Clustering Model"
   ]
  },
  {
   "cell_type": "markdown",
   "id": "ae748c09-3336-4b5d-9d7b-f6b5cd8a3674",
   "metadata": {},
   "source": [
    "Let's cluster the predicted data by price levels using the KMeans algorithm"
   ]
  },
  {
   "cell_type": "code",
   "execution_count": null,
   "id": "f477d583",
   "metadata": {},
   "outputs": [],
   "source": [
    "k = 5\n",
    "km = KMeans(n_clusters=k, init=\"k-means++\")\n",
    "X = predict_data[[\"latitude\", \"longitude\", \"price\"]]\n",
    "\n",
    "# clustering\n",
    "dtf_X = X.copy()\n",
    "dtf_X[\"cluster\"] = km.fit_predict(X)\n",
    "\n",
    "# add clustering info to the original dataset\n",
    "predict_data[[\"cluster\"]] = dtf_X[[\"cluster\"]]"
   ]
  },
  {
   "cell_type": "markdown",
   "id": "cc816d7f-67c1-4b83-abbb-22784a511164",
   "metadata": {},
   "source": [
    "### Visualization"
   ]
  },
  {
   "cell_type": "markdown",
   "id": "0e502b33",
   "metadata": {},
   "source": [
    "Let's show the price clusters in a chart"
   ]
  },
  {
   "cell_type": "code",
   "execution_count": null,
   "id": "b0b4943a",
   "metadata": {},
   "outputs": [],
   "source": [
    "fig, ax = plt.subplots()\n",
    "sns.scatterplot(\n",
    "    x=\"latitude\",\n",
    "    y=\"longitude\",\n",
    "    data=predict_data,\n",
    "    palette=sns.color_palette(\"bright\", k),\n",
    "    hue=\"cluster\",\n",
    "    size_order=[1, 0],\n",
    "    ax=ax,\n",
    ").set_title(\"Clustering (k=\" + str(k) + \")\")"
   ]
  },
  {
   "cell_type": "markdown",
   "id": "619dcb6a",
   "metadata": {},
   "source": [
    "This map shows the same clusters in the geographic context\n",
    "\n",
    "Here we can see that the prices for cities close to the largest cities are the highest, in contrast to those that are far from them and, moreover, far from the ocean."
   ]
  },
  {
   "cell_type": "code",
   "execution_count": null,
   "id": "a2897425",
   "metadata": {},
   "outputs": [],
   "source": [
    "prices_dataset_id = uuid4()\n",
    "unfolded_map_prices = UnfoldedMap()\n",
    "\n",
    "unfolded_map_prices.add_dataset(\n",
    "    {\"uuid\": prices_dataset_id, \"label\": \"Prices\", \"data\": predict_data},\n",
    "    auto_create_layers=False,\n",
    ")\n",
    "\n",
    "unfolded_map_prices.add_layer(\n",
    "    {\n",
    "        \"id\": \"prices_CA\",\n",
    "        \"type\": \"point\",\n",
    "        \"config\": {\n",
    "            \"data_id\": prices_dataset_id,\n",
    "            \"label\": \"clustering of prices\",\n",
    "            \"columns\": {\"lat\": \"latitude\", \"lng\": \"longitude\"},\n",
    "            \"is_visible\": True,\n",
    "            \"color_scale\": \"quantize\",\n",
    "            \"color_field\": {\"name\": \"cluster\", \"type\": \"real\"},\n",
    "            \"vis_config\": {\n",
    "                \"colorRange\": {\n",
    "                    \"colors\": [\"#7FFFD4\", \"#8A2BE2\", \"#00008B\", \"#FF8C00\", \"#FF1493\"]\n",
    "                }\n",
    "            },\n",
    "        },\n",
    "    }\n",
    ")\n",
    "\n",
    "unfolded_map_prices.set_view_state(\n",
    "    {\"longitude\": -119.417931, \"latitude\": 36.778259, \"zoom\": 4}\n",
    ")\n",
    "\n",
    "unfolded_map_prices"
   ]
  }
 ],
 "metadata": {
  "kernelspec": {
   "display_name": "Python 3 (ipykernel)",
   "language": "python",
   "name": "python3"
  },
  "language_info": {
   "codemirror_mode": {
    "name": "ipython",
    "version": 3
   },
   "file_extension": ".py",
   "mimetype": "text/x-python",
   "name": "python",
   "nbconvert_exporter": "python",
   "pygments_lexer": "ipython3",
   "version": "3.9.5"
  }
 },
 "nbformat": 4,
 "nbformat_minor": 5
}
