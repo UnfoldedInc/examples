{
 "cells": [
  {
   "cell_type": "markdown",
   "id": "de84a707-c5e0-45af-a66a-66787b417872",
   "metadata": {},
   "source": [
    "# Unfolded SDK Machine Learning Demo"
   ]
  },
  {
   "cell_type": "markdown",
   "id": "05c04f6f-6bdb-4cf6-8a4e-64639c262a74",
   "metadata": {},
   "source": [
    "The purpose of the model is to predict the median_house_value in California and then clustering it by the predicted prices."
   ]
  },
  {
   "cell_type": "markdown",
   "id": "db1cc8d4-69cb-412f-8727-233d26ad954f",
   "metadata": {},
   "source": [
    "## Dependencies "
   ]
  },
  {
   "cell_type": "code",
   "execution_count": 1,
   "id": "2c740a25-f70d-4d6c-bb8c-369d386095b8",
   "metadata": {
    "tags": []
   },
   "outputs": [
    {
     "name": "stdout",
     "output_type": "stream",
     "text": [
      "/usr/lib/python3/dist-packages/secretstorage/dhcrypto.py:15: CryptographyDeprecationWarning: int_from_bytes is deprecated, use int.from_bytes instead\n",
      "  from cryptography.utils import int_from_bytes\n",
      "/usr/lib/python3/dist-packages/secretstorage/util.py:19: CryptographyDeprecationWarning: int_from_bytes is deprecated, use int.from_bytes instead\n",
      "  from cryptography.utils import int_from_bytes\n",
      "Requirement already satisfied: pandas==1.3.2 in /home/ksenia-evin/.local/lib/python3.8/site-packages (1.3.2)\n",
      "Requirement already satisfied: numpy==1.19.5 in /home/ksenia-evin/.local/lib/python3.8/site-packages (1.19.5)\n",
      "Requirement already satisfied: sklearn==0.0 in /home/ksenia-evin/.local/lib/python3.8/site-packages (0.0)\n",
      "Requirement already satisfied: geopy==2.2.0 in /home/ksenia-evin/.local/lib/python3.8/site-packages (2.2.0)\n",
      "Requirement already satisfied: scipy==1.7.1 in /home/ksenia-evin/.local/lib/python3.8/site-packages (1.7.1)\n",
      "Requirement already satisfied: seaborn==0.11.2 in /home/ksenia-evin/.local/lib/python3.8/site-packages (0.11.2)\n",
      "Requirement already satisfied: matplotlib==3.4.3 in /home/ksenia-evin/.local/lib/python3.8/site-packages (3.4.3)\n",
      "Requirement already satisfied: tensorflow==2.6.0 in /home/ksenia-evin/.local/lib/python3.8/site-packages (2.6.0)\n",
      "Requirement already satisfied: unfolded.map-sdk==0.3.0 in /home/ksenia-evin/.local/lib/python3.8/site-packages (0.3.0)\n",
      "Requirement already satisfied: pytz>=2017.3 in /usr/lib/python3/dist-packages (from pandas==1.3.2) (2019.3)\n",
      "Requirement already satisfied: python-dateutil>=2.7.3 in /usr/lib/python3/dist-packages (from pandas==1.3.2) (2.7.3)\n",
      "Requirement already satisfied: scikit-learn in /home/ksenia-evin/.local/lib/python3.8/site-packages (from sklearn==0.0) (0.24.2)\n",
      "Requirement already satisfied: geographiclib<2,>=1.49 in /home/ksenia-evin/.local/lib/python3.8/site-packages (from geopy==2.2.0) (1.52)\n",
      "Requirement already satisfied: pyparsing>=2.2.1 in /home/ksenia-evin/.local/lib/python3.8/site-packages (from matplotlib==3.4.3) (2.4.7)\n",
      "Requirement already satisfied: cycler>=0.10 in /home/ksenia-evin/.local/lib/python3.8/site-packages (from matplotlib==3.4.3) (0.10.0)\n",
      "Requirement already satisfied: kiwisolver>=1.0.1 in /home/ksenia-evin/.local/lib/python3.8/site-packages (from matplotlib==3.4.3) (1.3.1)\n",
      "Requirement already satisfied: pillow>=6.2.0 in /usr/lib/python3/dist-packages (from matplotlib==3.4.3) (7.0.0)\n",
      "Requirement already satisfied: protobuf>=3.9.2 in /home/ksenia-evin/.local/lib/python3.8/site-packages (from tensorflow==2.6.0) (3.17.3)\n",
      "Requirement already satisfied: absl-py~=0.10 in /home/ksenia-evin/.local/lib/python3.8/site-packages (from tensorflow==2.6.0) (0.13.0)\n",
      "Requirement already satisfied: termcolor~=1.1.0 in /home/ksenia-evin/.local/lib/python3.8/site-packages (from tensorflow==2.6.0) (1.1.0)\n",
      "Requirement already satisfied: h5py~=3.1.0 in /home/ksenia-evin/.local/lib/python3.8/site-packages (from tensorflow==2.6.0) (3.1.0)\n",
      "Requirement already satisfied: six~=1.15.0 in /home/ksenia-evin/.local/lib/python3.8/site-packages (from tensorflow==2.6.0) (1.15.0)\n",
      "Requirement already satisfied: grpcio<2.0,>=1.37.0 in /home/ksenia-evin/.local/lib/python3.8/site-packages (from tensorflow==2.6.0) (1.39.0)\n",
      "Requirement already satisfied: clang~=5.0 in /home/ksenia-evin/.local/lib/python3.8/site-packages (from tensorflow==2.6.0) (5.0)\n",
      "Requirement already satisfied: wrapt~=1.12.1 in /home/ksenia-evin/.local/lib/python3.8/site-packages (from tensorflow==2.6.0) (1.12.1)\n",
      "Requirement already satisfied: typing-extensions~=3.7.4 in /home/ksenia-evin/.local/lib/python3.8/site-packages (from tensorflow==2.6.0) (3.7.4.3)\n",
      "Requirement already satisfied: opt-einsum~=3.3.0 in /home/ksenia-evin/.local/lib/python3.8/site-packages (from tensorflow==2.6.0) (3.3.0)\n",
      "Requirement already satisfied: keras~=2.6 in /home/ksenia-evin/.local/lib/python3.8/site-packages (from tensorflow==2.6.0) (2.6.0)\n",
      "Requirement already satisfied: keras-preprocessing~=1.1.2 in /home/ksenia-evin/.local/lib/python3.8/site-packages (from tensorflow==2.6.0) (1.1.2)\n",
      "Requirement already satisfied: tensorboard~=2.6 in /home/ksenia-evin/.local/lib/python3.8/site-packages (from tensorflow==2.6.0) (2.6.0)\n",
      "Requirement already satisfied: flatbuffers~=1.12.0 in /home/ksenia-evin/.local/lib/python3.8/site-packages (from tensorflow==2.6.0) (1.12)\n",
      "Requirement already satisfied: astunparse~=1.6.3 in /home/ksenia-evin/.local/lib/python3.8/site-packages (from tensorflow==2.6.0) (1.6.3)\n",
      "Requirement already satisfied: tensorflow-estimator~=2.6 in /home/ksenia-evin/.local/lib/python3.8/site-packages (from tensorflow==2.6.0) (2.6.0)\n",
      "Requirement already satisfied: gast==0.4.0 in /home/ksenia-evin/.local/lib/python3.8/site-packages (from tensorflow==2.6.0) (0.4.0)\n",
      "Requirement already satisfied: google-pasta~=0.2 in /home/ksenia-evin/.local/lib/python3.8/site-packages (from tensorflow==2.6.0) (0.2.0)\n",
      "Requirement already satisfied: wheel~=0.35 in /home/ksenia-evin/.local/lib/python3.8/site-packages (from tensorflow==2.6.0) (0.37.0)\n",
      "Requirement already satisfied: pydantic in /home/ksenia-evin/.local/lib/python3.8/site-packages (from unfolded.map-sdk==0.3.0) (1.8.2)\n",
      "Requirement already satisfied: ipywidgets>=7.0.0 in /home/ksenia-evin/.local/lib/python3.8/site-packages (from unfolded.map-sdk==0.3.0) (7.0.0)\n",
      "Requirement already satisfied: deprecated in /home/ksenia-evin/.local/lib/python3.8/site-packages (from unfolded.map-sdk==0.3.0) (1.2.12)\n",
      "Requirement already satisfied: joblib>=0.11 in /home/ksenia-evin/.local/lib/python3.8/site-packages (from scikit-learn->sklearn==0.0) (1.0.1)\n",
      "Requirement already satisfied: threadpoolctl>=2.0.0 in /home/ksenia-evin/.local/lib/python3.8/site-packages (from scikit-learn->sklearn==0.0) (2.2.0)\n",
      "Requirement already satisfied: google-auth-oauthlib<0.5,>=0.4.1 in /home/ksenia-evin/.local/lib/python3.8/site-packages (from tensorboard~=2.6->tensorflow==2.6.0) (0.4.5)\n",
      "Requirement already satisfied: google-auth<2,>=1.6.3 in /home/ksenia-evin/.local/lib/python3.8/site-packages (from tensorboard~=2.6->tensorflow==2.6.0) (1.35.0)\n",
      "Requirement already satisfied: markdown>=2.6.8 in /home/ksenia-evin/.local/lib/python3.8/site-packages (from tensorboard~=2.6->tensorflow==2.6.0) (3.3.4)\n",
      "Requirement already satisfied: werkzeug>=0.11.15 in /home/ksenia-evin/.local/lib/python3.8/site-packages (from tensorboard~=2.6->tensorflow==2.6.0) (2.0.1)\n",
      "Requirement already satisfied: tensorboard-plugin-wit>=1.6.0 in /home/ksenia-evin/.local/lib/python3.8/site-packages (from tensorboard~=2.6->tensorflow==2.6.0) (1.8.0)\n",
      "Requirement already satisfied: requests<3,>=2.21.0 in /home/ksenia-evin/.local/lib/python3.8/site-packages (from tensorboard~=2.6->tensorflow==2.6.0) (2.26.0)\n",
      "Requirement already satisfied: tensorboard-data-server<0.7.0,>=0.6.0 in /home/ksenia-evin/.local/lib/python3.8/site-packages (from tensorboard~=2.6->tensorflow==2.6.0) (0.6.1)\n",
      "Requirement already satisfied: setuptools>=41.0.0 in /usr/lib/python3/dist-packages (from tensorboard~=2.6->tensorflow==2.6.0) (45.2.0)\n",
      "Requirement already satisfied: ipykernel>=4.5.1 in /home/ksenia-evin/.local/lib/python3.8/site-packages (from ipywidgets>=7.0.0->unfolded.map-sdk==0.3.0) (6.2.0)\n",
      "Requirement already satisfied: traitlets>=4.3.1 in /home/ksenia-evin/.local/lib/python3.8/site-packages (from ipywidgets>=7.0.0->unfolded.map-sdk==0.3.0) (5.0.5)\n",
      "Requirement already satisfied: widgetsnbextension~=3.0.0 in /home/ksenia-evin/.local/lib/python3.8/site-packages (from ipywidgets>=7.0.0->unfolded.map-sdk==0.3.0) (3.0.8)\n",
      "Requirement already satisfied: nbformat>=4.2.0 in /home/ksenia-evin/.local/lib/python3.8/site-packages (from ipywidgets>=7.0.0->unfolded.map-sdk==0.3.0) (5.1.3)\n",
      "Requirement already satisfied: ipython>=4.0.0; python_version >= \"3.3\" in /home/ksenia-evin/.local/lib/python3.8/site-packages (from ipywidgets>=7.0.0->unfolded.map-sdk==0.3.0) (7.26.0)\n",
      "Requirement already satisfied: requests-oauthlib>=0.7.0 in /home/ksenia-evin/.local/lib/python3.8/site-packages (from google-auth-oauthlib<0.5,>=0.4.1->tensorboard~=2.6->tensorflow==2.6.0) (1.3.0)\n",
      "Requirement already satisfied: rsa<5,>=3.1.4; python_version >= \"3.6\" in /home/ksenia-evin/.local/lib/python3.8/site-packages (from google-auth<2,>=1.6.3->tensorboard~=2.6->tensorflow==2.6.0) (4.7.2)\n",
      "Requirement already satisfied: cachetools<5.0,>=2.0.0 in /home/ksenia-evin/.local/lib/python3.8/site-packages (from google-auth<2,>=1.6.3->tensorboard~=2.6->tensorflow==2.6.0) (4.2.2)\n",
      "Requirement already satisfied: pyasn1-modules>=0.2.1 in /home/ksenia-evin/.local/lib/python3.8/site-packages (from google-auth<2,>=1.6.3->tensorboard~=2.6->tensorflow==2.6.0) (0.2.8)\n",
      "Requirement already satisfied: urllib3<1.27,>=1.21.1 in /usr/lib/python3/dist-packages (from requests<3,>=2.21.0->tensorboard~=2.6->tensorflow==2.6.0) (1.25.8)\n",
      "Requirement already satisfied: charset-normalizer~=2.0.0; python_version >= \"3\" in /home/ksenia-evin/.local/lib/python3.8/site-packages (from requests<3,>=2.21.0->tensorboard~=2.6->tensorflow==2.6.0) (2.0.4)\n",
      "Requirement already satisfied: certifi>=2017.4.17 in /usr/lib/python3/dist-packages (from requests<3,>=2.21.0->tensorboard~=2.6->tensorflow==2.6.0) (2019.11.28)\n",
      "Requirement already satisfied: idna<4,>=2.5; python_version >= \"3\" in /usr/lib/python3/dist-packages (from requests<3,>=2.21.0->tensorboard~=2.6->tensorflow==2.6.0) (2.8)\n",
      "Requirement already satisfied: tornado<7.0,>=4.2 in /home/ksenia-evin/.local/lib/python3.8/site-packages (from ipykernel>=4.5.1->ipywidgets>=7.0.0->unfolded.map-sdk==0.3.0) (6.1)\n",
      "Requirement already satisfied: jupyter-client<8.0 in /home/ksenia-evin/.local/lib/python3.8/site-packages (from ipykernel>=4.5.1->ipywidgets>=7.0.0->unfolded.map-sdk==0.3.0) (6.1.12)\n",
      "Requirement already satisfied: matplotlib-inline<0.2.0,>=0.1.0 in /home/ksenia-evin/.local/lib/python3.8/site-packages (from ipykernel>=4.5.1->ipywidgets>=7.0.0->unfolded.map-sdk==0.3.0) (0.1.2)\n",
      "Requirement already satisfied: debugpy<2.0,>=1.0.0 in /home/ksenia-evin/.local/lib/python3.8/site-packages (from ipykernel>=4.5.1->ipywidgets>=7.0.0->unfolded.map-sdk==0.3.0) (1.4.1)\n",
      "Requirement already satisfied: ipython-genutils in /home/ksenia-evin/.local/lib/python3.8/site-packages (from traitlets>=4.3.1->ipywidgets>=7.0.0->unfolded.map-sdk==0.3.0) (0.2.0)\n",
      "Requirement already satisfied: notebook>=4.4.1 in /home/ksenia-evin/.local/lib/python3.8/site-packages (from widgetsnbextension~=3.0.0->ipywidgets>=7.0.0->unfolded.map-sdk==0.3.0) (6.4.3)\n",
      "Requirement already satisfied: jupyter-core in /home/ksenia-evin/.local/lib/python3.8/site-packages (from nbformat>=4.2.0->ipywidgets>=7.0.0->unfolded.map-sdk==0.3.0) (4.7.1)\n",
      "Requirement already satisfied: jsonschema!=2.5.0,>=2.4 in /home/ksenia-evin/.local/lib/python3.8/site-packages (from nbformat>=4.2.0->ipywidgets>=7.0.0->unfolded.map-sdk==0.3.0) (3.2.0)\n",
      "Requirement already satisfied: pickleshare in /home/ksenia-evin/.local/lib/python3.8/site-packages (from ipython>=4.0.0; python_version >= \"3.3\"->ipywidgets>=7.0.0->unfolded.map-sdk==0.3.0) (0.7.5)\n",
      "Requirement already satisfied: jedi>=0.16 in /home/ksenia-evin/.local/lib/python3.8/site-packages (from ipython>=4.0.0; python_version >= \"3.3\"->ipywidgets>=7.0.0->unfolded.map-sdk==0.3.0) (0.18.0)\n",
      "Requirement already satisfied: backcall in /home/ksenia-evin/.local/lib/python3.8/site-packages (from ipython>=4.0.0; python_version >= \"3.3\"->ipywidgets>=7.0.0->unfolded.map-sdk==0.3.0) (0.2.0)\n",
      "Requirement already satisfied: prompt-toolkit!=3.0.0,!=3.0.1,<3.1.0,>=2.0.0 in /home/ksenia-evin/.local/lib/python3.8/site-packages (from ipython>=4.0.0; python_version >= \"3.3\"->ipywidgets>=7.0.0->unfolded.map-sdk==0.3.0) (3.0.19)\n",
      "Requirement already satisfied: pexpect>4.3; sys_platform != \"win32\" in /usr/lib/python3/dist-packages (from ipython>=4.0.0; python_version >= \"3.3\"->ipywidgets>=7.0.0->unfolded.map-sdk==0.3.0) (4.6.0)\n",
      "Requirement already satisfied: pygments in /home/ksenia-evin/.local/lib/python3.8/site-packages (from ipython>=4.0.0; python_version >= \"3.3\"->ipywidgets>=7.0.0->unfolded.map-sdk==0.3.0) (2.10.0)\n",
      "Requirement already satisfied: decorator in /home/ksenia-evin/.local/lib/python3.8/site-packages (from ipython>=4.0.0; python_version >= \"3.3\"->ipywidgets>=7.0.0->unfolded.map-sdk==0.3.0) (5.0.9)\n",
      "Requirement already satisfied: oauthlib>=3.0.0 in /usr/lib/python3/dist-packages (from requests-oauthlib>=0.7.0->google-auth-oauthlib<0.5,>=0.4.1->tensorboard~=2.6->tensorflow==2.6.0) (3.1.0)\n",
      "Requirement already satisfied: pyasn1>=0.1.3 in /home/ksenia-evin/.local/lib/python3.8/site-packages (from rsa<5,>=3.1.4; python_version >= \"3.6\"->google-auth<2,>=1.6.3->tensorboard~=2.6->tensorflow==2.6.0) (0.4.8)\n",
      "Requirement already satisfied: pyzmq>=13 in /home/ksenia-evin/.local/lib/python3.8/site-packages (from jupyter-client<8.0->ipykernel>=4.5.1->ipywidgets>=7.0.0->unfolded.map-sdk==0.3.0) (22.2.1)\n",
      "Requirement already satisfied: argon2-cffi in /home/ksenia-evin/.local/lib/python3.8/site-packages (from notebook>=4.4.1->widgetsnbextension~=3.0.0->ipywidgets>=7.0.0->unfolded.map-sdk==0.3.0) (20.1.0)\n",
      "Requirement already satisfied: jinja2 in /home/ksenia-evin/.local/lib/python3.8/site-packages (from notebook>=4.4.1->widgetsnbextension~=3.0.0->ipywidgets>=7.0.0->unfolded.map-sdk==0.3.0) (3.0.1)\n",
      "Requirement already satisfied: prometheus-client in /home/ksenia-evin/.local/lib/python3.8/site-packages (from notebook>=4.4.1->widgetsnbextension~=3.0.0->ipywidgets>=7.0.0->unfolded.map-sdk==0.3.0) (0.11.0)\n",
      "Requirement already satisfied: terminado>=0.8.3 in /home/ksenia-evin/.local/lib/python3.8/site-packages (from notebook>=4.4.1->widgetsnbextension~=3.0.0->ipywidgets>=7.0.0->unfolded.map-sdk==0.3.0) (0.11.0)\n",
      "Requirement already satisfied: Send2Trash>=1.5.0 in /home/ksenia-evin/.local/lib/python3.8/site-packages (from notebook>=4.4.1->widgetsnbextension~=3.0.0->ipywidgets>=7.0.0->unfolded.map-sdk==0.3.0) (1.8.0)\n",
      "Requirement already satisfied: nbconvert in /home/ksenia-evin/.local/lib/python3.8/site-packages (from notebook>=4.4.1->widgetsnbextension~=3.0.0->ipywidgets>=7.0.0->unfolded.map-sdk==0.3.0) (6.1.0)\n",
      "Requirement already satisfied: attrs>=17.4.0 in /home/ksenia-evin/.local/lib/python3.8/site-packages (from jsonschema!=2.5.0,>=2.4->nbformat>=4.2.0->ipywidgets>=7.0.0->unfolded.map-sdk==0.3.0) (21.2.0)\n",
      "Requirement already satisfied: pyrsistent>=0.14.0 in /home/ksenia-evin/.local/lib/python3.8/site-packages (from jsonschema!=2.5.0,>=2.4->nbformat>=4.2.0->ipywidgets>=7.0.0->unfolded.map-sdk==0.3.0) (0.18.0)\n",
      "Requirement already satisfied: parso<0.9.0,>=0.8.0 in /home/ksenia-evin/.local/lib/python3.8/site-packages (from jedi>=0.16->ipython>=4.0.0; python_version >= \"3.3\"->ipywidgets>=7.0.0->unfolded.map-sdk==0.3.0) (0.8.2)\n",
      "Requirement already satisfied: wcwidth in /home/ksenia-evin/.local/lib/python3.8/site-packages (from prompt-toolkit!=3.0.0,!=3.0.1,<3.1.0,>=2.0.0->ipython>=4.0.0; python_version >= \"3.3\"->ipywidgets>=7.0.0->unfolded.map-sdk==0.3.0) (0.2.5)\n",
      "Requirement already satisfied: cffi>=1.0.0 in /home/ksenia-evin/.local/lib/python3.8/site-packages (from argon2-cffi->notebook>=4.4.1->widgetsnbextension~=3.0.0->ipywidgets>=7.0.0->unfolded.map-sdk==0.3.0) (1.14.6)\n",
      "Requirement already satisfied: MarkupSafe>=2.0 in /home/ksenia-evin/.local/lib/python3.8/site-packages (from jinja2->notebook>=4.4.1->widgetsnbextension~=3.0.0->ipywidgets>=7.0.0->unfolded.map-sdk==0.3.0) (2.0.1)\n",
      "Requirement already satisfied: ptyprocess; os_name != \"nt\" in /home/ksenia-evin/.local/lib/python3.8/site-packages (from terminado>=0.8.3->notebook>=4.4.1->widgetsnbextension~=3.0.0->ipywidgets>=7.0.0->unfolded.map-sdk==0.3.0) (0.7.0)\n",
      "Requirement already satisfied: pandocfilters>=1.4.1 in /home/ksenia-evin/.local/lib/python3.8/site-packages (from nbconvert->notebook>=4.4.1->widgetsnbextension~=3.0.0->ipywidgets>=7.0.0->unfolded.map-sdk==0.3.0) (1.4.3)\n",
      "Requirement already satisfied: jupyterlab-pygments in /home/ksenia-evin/.local/lib/python3.8/site-packages (from nbconvert->notebook>=4.4.1->widgetsnbextension~=3.0.0->ipywidgets>=7.0.0->unfolded.map-sdk==0.3.0) (0.1.2)\n",
      "Requirement already satisfied: bleach in /home/ksenia-evin/.local/lib/python3.8/site-packages (from nbconvert->notebook>=4.4.1->widgetsnbextension~=3.0.0->ipywidgets>=7.0.0->unfolded.map-sdk==0.3.0) (4.0.0)\n",
      "Requirement already satisfied: defusedxml in /home/ksenia-evin/.local/lib/python3.8/site-packages (from nbconvert->notebook>=4.4.1->widgetsnbextension~=3.0.0->ipywidgets>=7.0.0->unfolded.map-sdk==0.3.0) (0.7.1)\n",
      "Requirement already satisfied: entrypoints>=0.2.2 in /usr/lib/python3/dist-packages (from nbconvert->notebook>=4.4.1->widgetsnbextension~=3.0.0->ipywidgets>=7.0.0->unfolded.map-sdk==0.3.0) (0.3)\n",
      "Requirement already satisfied: nbclient<0.6.0,>=0.5.0 in /home/ksenia-evin/.local/lib/python3.8/site-packages (from nbconvert->notebook>=4.4.1->widgetsnbextension~=3.0.0->ipywidgets>=7.0.0->unfolded.map-sdk==0.3.0) (0.5.4)\n",
      "Requirement already satisfied: testpath in /home/ksenia-evin/.local/lib/python3.8/site-packages (from nbconvert->notebook>=4.4.1->widgetsnbextension~=3.0.0->ipywidgets>=7.0.0->unfolded.map-sdk==0.3.0) (0.5.0)\n",
      "Requirement already satisfied: mistune<2,>=0.8.1 in /home/ksenia-evin/.local/lib/python3.8/site-packages (from nbconvert->notebook>=4.4.1->widgetsnbextension~=3.0.0->ipywidgets>=7.0.0->unfolded.map-sdk==0.3.0) (0.8.4)\n",
      "Requirement already satisfied: pycparser in /home/ksenia-evin/.local/lib/python3.8/site-packages (from cffi>=1.0.0->argon2-cffi->notebook>=4.4.1->widgetsnbextension~=3.0.0->ipywidgets>=7.0.0->unfolded.map-sdk==0.3.0) (2.20)\n",
      "Requirement already satisfied: webencodings in /home/ksenia-evin/.local/lib/python3.8/site-packages (from bleach->nbconvert->notebook>=4.4.1->widgetsnbextension~=3.0.0->ipywidgets>=7.0.0->unfolded.map-sdk==0.3.0) (0.5.1)\n",
      "Requirement already satisfied: packaging in /home/ksenia-evin/.local/lib/python3.8/site-packages (from bleach->nbconvert->notebook>=4.4.1->widgetsnbextension~=3.0.0->ipywidgets>=7.0.0->unfolded.map-sdk==0.3.0) (21.0)\n",
      "Requirement already satisfied: nest-asyncio in /home/ksenia-evin/.local/lib/python3.8/site-packages (from nbclient<0.6.0,>=0.5.0->nbconvert->notebook>=4.4.1->widgetsnbextension~=3.0.0->ipywidgets>=7.0.0->unfolded.map-sdk==0.3.0) (1.5.1)\n"
     ]
    }
   ],
   "source": [
    "!pip install pandas==1.3.2 numpy==1.19.5 sklearn==0.0 geopy==2.2.0 scipy==1.7.1 seaborn==0.11.2 matplotlib==3.4.3 tensorflow==2.6.0 unfolded.map-sdk==0.3.0"
   ]
  },
  {
   "cell_type": "markdown",
   "id": "a3f5160c-4f05-4dc1-9e6a-d044dd81947f",
   "metadata": {},
   "source": [
    "## Imports"
   ]
  },
  {
   "cell_type": "code",
   "execution_count": 2,
   "id": "b45c477b-a2e3-4783-b4d7-6771126de879",
   "metadata": {},
   "outputs": [
    {
     "name": "stderr",
     "output_type": "stream",
     "text": [
      "2021-09-16 10:22:01.401975: W tensorflow/stream_executor/platform/default/dso_loader.cc:64] Could not load dynamic library 'libcudart.so.11.0'; dlerror: libcudart.so.11.0: cannot open shared object file: No such file or directory\n",
      "2021-09-16 10:22:01.402005: I tensorflow/stream_executor/cuda/cudart_stub.cc:29] Ignore above cudart dlerror if you do not have a GPU set up on your machine.\n"
     ]
    }
   ],
   "source": [
    "from uuid import uuid4\n",
    "import requests\n",
    "\n",
    "import matplotlib.pyplot as plt\n",
    "import numpy as np\n",
    "import pandas as pd\n",
    "import seaborn as sns\n",
    "import tensorflow as tf\n",
    "from geopy.distance import geodesic\n",
    "from scipy.cluster.vq import vq\n",
    "from sklearn.cluster import KMeans\n",
    "from sklearn.model_selection import train_test_split\n",
    "from sklearn.preprocessing import StandardScaler\n",
    "\n",
    "from tensorflow import keras\n",
    "from tensorflow.keras import Sequential, optimizers\n",
    "from tensorflow.keras.layers import Dense, Flatten, Softmax\n",
    "\n",
    "from unfolded.map_sdk import UnfoldedMap"
   ]
  },
  {
   "cell_type": "markdown",
   "id": "6fd123df-3aa2-4610-b02e-b555c152cf5e",
   "metadata": {},
   "source": [
    "Check package versions: "
   ]
  },
  {
   "cell_type": "code",
   "execution_count": 3,
   "id": "652baff7-ebde-4e0c-a189-4ce9b9f70495",
   "metadata": {},
   "outputs": [
    {
     "name": "stdout",
     "output_type": "stream",
     "text": [
      "pandas version: 1.3.2\n",
      "numpy version: 1.19.5\n",
      "seaborn version: 0.11.2\n",
      "tensorflow: 2.6.0\n"
     ]
    }
   ],
   "source": [
    "print(f\"pandas version: {pd.__version__}\")\n",
    "print(f\"numpy version: {np.__version__}\")\n",
    "print(f\"seaborn version: {sns.__version__}\")\n",
    "print(f\"tensorflow: {tf.__version__}\")"
   ]
  },
  {
   "cell_type": "markdown",
   "id": "a794e22f-8b77-4fe5-899e-1f8cb4604099",
   "metadata": {},
   "source": [
    "## Data Loading"
   ]
  },
  {
   "cell_type": "code",
   "execution_count": 4,
   "id": "3367c4bc-2b9e-4442-a51b-3fb2a2afac78",
   "metadata": {},
   "outputs": [
    {
     "data": {
      "text/html": [
       "<div>\n",
       "<style scoped>\n",
       "    .dataframe tbody tr th:only-of-type {\n",
       "        vertical-align: middle;\n",
       "    }\n",
       "\n",
       "    .dataframe tbody tr th {\n",
       "        vertical-align: top;\n",
       "    }\n",
       "\n",
       "    .dataframe thead th {\n",
       "        text-align: right;\n",
       "    }\n",
       "</style>\n",
       "<table border=\"1\" class=\"dataframe\">\n",
       "  <thead>\n",
       "    <tr style=\"text-align: right;\">\n",
       "      <th></th>\n",
       "      <th>longitude</th>\n",
       "      <th>latitude</th>\n",
       "      <th>housing_median_age</th>\n",
       "      <th>total_rooms</th>\n",
       "      <th>total_bedrooms</th>\n",
       "      <th>population</th>\n",
       "      <th>households</th>\n",
       "      <th>median_income</th>\n",
       "      <th>median_house_value</th>\n",
       "      <th>ocean_proximity</th>\n",
       "    </tr>\n",
       "  </thead>\n",
       "  <tbody>\n",
       "    <tr>\n",
       "      <th>0</th>\n",
       "      <td>-122.23</td>\n",
       "      <td>37.88</td>\n",
       "      <td>41.0</td>\n",
       "      <td>880.0</td>\n",
       "      <td>129.0</td>\n",
       "      <td>322.0</td>\n",
       "      <td>126.0</td>\n",
       "      <td>8.3252</td>\n",
       "      <td>452600.0</td>\n",
       "      <td>NEAR BAY</td>\n",
       "    </tr>\n",
       "    <tr>\n",
       "      <th>1</th>\n",
       "      <td>-122.22</td>\n",
       "      <td>37.86</td>\n",
       "      <td>21.0</td>\n",
       "      <td>7099.0</td>\n",
       "      <td>1106.0</td>\n",
       "      <td>2401.0</td>\n",
       "      <td>1138.0</td>\n",
       "      <td>8.3014</td>\n",
       "      <td>358500.0</td>\n",
       "      <td>NEAR BAY</td>\n",
       "    </tr>\n",
       "    <tr>\n",
       "      <th>2</th>\n",
       "      <td>-122.24</td>\n",
       "      <td>37.85</td>\n",
       "      <td>52.0</td>\n",
       "      <td>1467.0</td>\n",
       "      <td>190.0</td>\n",
       "      <td>496.0</td>\n",
       "      <td>177.0</td>\n",
       "      <td>7.2574</td>\n",
       "      <td>352100.0</td>\n",
       "      <td>NEAR BAY</td>\n",
       "    </tr>\n",
       "    <tr>\n",
       "      <th>3</th>\n",
       "      <td>-122.25</td>\n",
       "      <td>37.85</td>\n",
       "      <td>52.0</td>\n",
       "      <td>1274.0</td>\n",
       "      <td>235.0</td>\n",
       "      <td>558.0</td>\n",
       "      <td>219.0</td>\n",
       "      <td>5.6431</td>\n",
       "      <td>341300.0</td>\n",
       "      <td>NEAR BAY</td>\n",
       "    </tr>\n",
       "    <tr>\n",
       "      <th>4</th>\n",
       "      <td>-122.25</td>\n",
       "      <td>37.85</td>\n",
       "      <td>52.0</td>\n",
       "      <td>1627.0</td>\n",
       "      <td>280.0</td>\n",
       "      <td>565.0</td>\n",
       "      <td>259.0</td>\n",
       "      <td>3.8462</td>\n",
       "      <td>342200.0</td>\n",
       "      <td>NEAR BAY</td>\n",
       "    </tr>\n",
       "  </tbody>\n",
       "</table>\n",
       "</div>"
      ],
      "text/plain": [
       "   longitude  latitude  housing_median_age  total_rooms  total_bedrooms  \\\n",
       "0    -122.23     37.88                41.0        880.0           129.0   \n",
       "1    -122.22     37.86                21.0       7099.0          1106.0   \n",
       "2    -122.24     37.85                52.0       1467.0           190.0   \n",
       "3    -122.25     37.85                52.0       1274.0           235.0   \n",
       "4    -122.25     37.85                52.0       1627.0           280.0   \n",
       "\n",
       "   population  households  median_income  median_house_value ocean_proximity  \n",
       "0       322.0       126.0         8.3252            452600.0        NEAR BAY  \n",
       "1      2401.0      1138.0         8.3014            358500.0        NEAR BAY  \n",
       "2       496.0       177.0         7.2574            352100.0        NEAR BAY  \n",
       "3       558.0       219.0         5.6431            341300.0        NEAR BAY  \n",
       "4       565.0       259.0         3.8462            342200.0        NEAR BAY  "
      ]
     },
     "execution_count": 4,
     "metadata": {},
     "output_type": "execute_result"
    }
   ],
   "source": [
    "dataset_url = \"https://actionengine-public.s3.us-east-2.amazonaws.com/housing.csv\"\n",
    "dataset_path = \"housing.csv\"\n",
    "\n",
    "dataset_data = requests.get(dataset_url, allow_redirects=True)\n",
    "with open(dataset_path, \"wb\") as dataset_file:\n",
    "    dataset_file.write(dataset_data.content)\n",
    "\n",
    "housing = pd.read_csv(dataset_path)\n",
    "housing.head()"
   ]
  },
  {
   "cell_type": "markdown",
   "id": "db55a1df-8e19-405c-a28a-f61eb42d8167",
   "metadata": {},
   "source": [
    "## Feature Engineering"
   ]
  },
  {
   "cell_type": "markdown",
   "id": "36ddbd66-1710-45f0-a4bc-fc11754720f1",
   "metadata": {},
   "source": [
    "### Population Clustering"
   ]
  },
  {
   "cell_type": "code",
   "execution_count": 5,
   "id": "a7bd568b",
   "metadata": {},
   "outputs": [
    {
     "data": {
      "application/vnd.jupyter.widget-view+json": {
       "model_id": "8fce27aa30c845fc9feaeb2be0773bf6",
       "version_major": 2,
       "version_minor": 0
      },
      "text/plain": [
       "UnfoldedMap()"
      ]
     },
     "metadata": {},
     "output_type": "display_data"
    }
   ],
   "source": [
    "population_in_CA = UnfoldedMap()\n",
    "dataset_id = uuid4()\n",
    "\n",
    "population_in_CA.add_dataset(\n",
    "    {\"uuid\": dataset_id, \"label\": \"Population_in_CA\", \"data\": housing},\n",
    "    auto_create_layers=False,\n",
    ")\n",
    "\n",
    "population_in_CA.add_layer(\n",
    "    {\n",
    "        \"id\": \"population_CA\",\n",
    "        \"type\": \"cluster\",\n",
    "        \"config\": {\n",
    "            \"label\": \"population in CA\",\n",
    "            \"data_id\": dataset_id,\n",
    "            \"columns\": {\"lat\": \"latitude\", \"lng\": \"longitude\"},\n",
    "            \"is_visible\": True,\n",
    "            \"color_scale\": \"quantize\",\n",
    "            \"color_field\": {\"name\": \"population\", \"type\": \"real\"},\n",
    "        },\n",
    "    }\n",
    ")\n",
    "\n",
    "population_in_CA.set_view_state(\n",
    "    {\"longitude\": -119.417931, \"latitude\": 36.778259, \"zoom\": 5}\n",
    ")\n",
    "\n",
    "population_in_CA"
   ]
  },
  {
   "cell_type": "markdown",
   "id": "99ac9567-396c-429e-86a1-aa7de70f3f7c",
   "metadata": {},
   "source": [
    "This map shows clustering by city with the largest population "
   ]
  },
  {
   "cell_type": "markdown",
   "id": "57e6dce9-abc9-43a4-975d-4b84902851d6",
   "metadata": {},
   "source": [
    "Create a dictionary with latitude and longitude of the first 5 largest cities in CA"
   ]
  },
  {
   "cell_type": "code",
   "execution_count": 6,
   "id": "f81cec6d",
   "metadata": {},
   "outputs": [],
   "source": [
    "big_cities = {\n",
    "    \"Los Angeles\": (34.052, -118.244),\n",
    "    \"San Diego\": (32.716, -117.165),\n",
    "    \"San Jose\": (37.339, -121.895),\n",
    "    \"San Francisco\": (37.775, -122.419),\n",
    "    \"Fresno\": (36.748, -119.772),\n",
    "}"
   ]
  },
  {
   "cell_type": "markdown",
   "id": "0587cfaf-a1be-4940-9c60-d00c31203131",
   "metadata": {},
   "source": [
    "### Distance To Largest Cities"
   ]
  },
  {
   "cell_type": "markdown",
   "id": "a9bcee73-45b5-4fd8-b668-a2618157a561",
   "metadata": {},
   "source": [
    "Create function to calculate nearest city"
   ]
  },
  {
   "cell_type": "code",
   "execution_count": 7,
   "id": "f7794620",
   "metadata": {},
   "outputs": [],
   "source": [
    "def closest_point(location, location_dict):\n",
    "    shortest_distance = None\n",
    "    shortest_distance_coordinates = None\n",
    "\n",
    "    for loc in location_dict.values():\n",
    "        distance = geodesic(location, loc).kilometers\n",
    "        if shortest_distance is None or distance < shortest_distance:\n",
    "            shortest_distance = distance\n",
    "            shortest_distance_coordinates = loc\n",
    "    return shortest_distance, shortest_distance_coordinates"
   ]
  },
  {
   "cell_type": "markdown",
   "id": "ba16d039-317d-4a45-ae8b-581c4c4c9e51",
   "metadata": {},
   "source": [
    "Find and calculate the distance between each city in dataframe and nearest big city to it"
   ]
  },
  {
   "cell_type": "code",
   "execution_count": 8,
   "id": "1a1c8cdd",
   "metadata": {
    "scrolled": true
   },
   "outputs": [],
   "source": [
    "housing[\"big_city\"] = housing.apply(\n",
    "    lambda x: closest_point((x[\"latitude\"], x[\"longitude\"]), big_cities), axis=1\n",
    ")\n",
    "housing[\"closest_location\"] = [x[0] for x in housing[\"big_city\"].values]\n",
    "housing[\"big_city_dist\"] = [x[1] for x in housing[\"big_city\"].values]\n",
    "\n",
    "housing = housing.drop(\"big_city\", axis=1)"
   ]
  },
  {
   "cell_type": "markdown",
   "id": "6609f3d6-5e64-46fa-a35b-16c2cba4fbaa",
   "metadata": {},
   "source": [
    "Make a dataframe from the data obtained above, with the coordinates of the nearest big city"
   ]
  },
  {
   "cell_type": "code",
   "execution_count": 9,
   "id": "f7f1446c",
   "metadata": {},
   "outputs": [],
   "source": [
    "lat = []\n",
    "lon = []\n",
    "target_lat = []\n",
    "target_lon = []\n",
    "\n",
    "for row in housing.itertuples():\n",
    "    lon.append(row.longitude)\n",
    "    lat.append(row.latitude)\n",
    "    target_city = row.big_city_dist\n",
    "    target_lat.append(target_city[0])\n",
    "    target_lon.append(target_city[1])\n",
    "\n",
    "coords_df = pd.DataFrame(\n",
    "    {\"lat\": lat, \"lon\": lon, \"target_lat\": target_lat, \"target_lon\": target_lon}\n",
    ")"
   ]
  },
  {
   "cell_type": "code",
   "execution_count": 10,
   "id": "cf5a6291",
   "metadata": {},
   "outputs": [
    {
     "data": {
      "application/vnd.jupyter.widget-view+json": {
       "model_id": "f2d0d189e03341599ffe6bf20b7e602f",
       "version_major": 2,
       "version_minor": 0
      },
      "text/plain": [
       "UnfoldedMap()"
      ]
     },
     "metadata": {},
     "output_type": "display_data"
    }
   ],
   "source": [
    "distance_to_big_cities = UnfoldedMap()\n",
    "dist_data_id = uuid4()\n",
    "\n",
    "distance_to_big_cities.add_dataset(\n",
    "    {\n",
    "        \"uuid\": dist_data_id,\n",
    "        \"label\": \"Distance to closest big cities\",\n",
    "        \"data\": coords_df,\n",
    "    },\n",
    "    auto_create_layers=False,\n",
    ")\n",
    "\n",
    "distance_to_big_cities.add_layer(\n",
    "    {\n",
    "        \"id\": \"closest_distance\",\n",
    "        \"type\": \"arc\",\n",
    "        \"config\": {\n",
    "            \"data_id\": dist_data_id,\n",
    "            \"label\": \"distance to closest big cities\",\n",
    "            \"columns\": {\n",
    "                \"lng0\": \"lon\",\n",
    "                \"lng1\": \"target_lon\",\n",
    "                \"lat0\": \"lat\",\n",
    "                \"lat1\": \"target_lat\",\n",
    "            },\n",
    "            \"visConfig\": {\"opacity\": 0.8, \"thickness\": 0.3},\n",
    "            \"is_visible\": True,\n",
    "        },\n",
    "    }\n",
    ")\n",
    "\n",
    "distance_to_big_cities.set_view_state(\n",
    "    {\"longitude\": -119.417931, \"latitude\": 36.778259, \"zoom\": 4.5}\n",
    ")\n",
    "\n",
    "distance_to_big_cities"
   ]
  },
  {
   "cell_type": "markdown",
   "id": "93d4660b-396d-4f17-afbc-fc2717f65125",
   "metadata": {},
   "source": [
    "This map shows a distance from each city to the nearest big city"
   ]
  },
  {
   "cell_type": "markdown",
   "id": "7ada3234-1d8e-4371-a913-956c009433af",
   "metadata": {},
   "source": [
    "## Data Preprocessing"
   ]
  },
  {
   "cell_type": "code",
   "execution_count": 11,
   "id": "edb0c5d1",
   "metadata": {},
   "outputs": [],
   "source": [
    "# we can drop null values as their count is less than 5 %\n",
    "housing.dropna(inplace=True)\n",
    "\n",
    "X = pd.DataFrame(\n",
    "    columns=[\n",
    "        \"longitude\",\n",
    "        \"latitude\",\n",
    "        \"housing_median_age\",\n",
    "        \"total_rooms\",\n",
    "        \"total_bedrooms\",\n",
    "        \"population\",\n",
    "        \"households\",\n",
    "        \"median_income\",\n",
    "        \"ocean_proximity\",\n",
    "    ],\n",
    "    data=housing,\n",
    ")\n",
    "y = pd.DataFrame(columns=[\"median_house_value\"], data=housing)\n",
    "\n",
    "# creating dummy values for ocean_proximity\n",
    "X = pd.get_dummies(\n",
    "    data=X, columns=[\"ocean_proximity\"], prefix=[\"ocean_proximity\"], drop_first=True\n",
    ")"
   ]
  },
  {
   "cell_type": "markdown",
   "id": "40993536-76e3-4503-af0c-ef26f2676bcc",
   "metadata": {},
   "source": [
    "## Data Splitting"
   ]
  },
  {
   "cell_type": "markdown",
   "id": "e7673a78-81da-4bf4-bbca-ba15b2135597",
   "metadata": {
    "tags": []
   },
   "source": [
    "Feature Scaling and split to test, train and validation"
   ]
  },
  {
   "cell_type": "code",
   "execution_count": 12,
   "id": "9fe20ec3",
   "metadata": {},
   "outputs": [],
   "source": [
    "# dividing training data into test, validation and train\n",
    "X_train, X_test, y_train, y_test = train_test_split(X, y, test_size=0.2, random_state=1)\n",
    "\n",
    "X_train, X_val, y_train, y_val = train_test_split(\n",
    "    X_train, y_train, test_size=0.25, random_state=1\n",
    ")\n",
    "\n",
    "start_values = X_test.copy(deep=True)"
   ]
  },
  {
   "cell_type": "markdown",
   "id": "33cd6962-258d-4c18-bb8a-270d03f6aa9f",
   "metadata": {},
   "source": [
    "Using standart scaling with mean and standard deviation from training dataset to avoid data leak"
   ]
  },
  {
   "cell_type": "code",
   "execution_count": 13,
   "id": "03e62a28",
   "metadata": {},
   "outputs": [],
   "source": [
    "# feature standardization\n",
    "scaler = StandardScaler()\n",
    "X_train = scaler.fit_transform(X_train)\n",
    "X_val = scaler.transform(X_val)\n",
    "X_test = scaler.transform(X_test)"
   ]
  },
  {
   "cell_type": "markdown",
   "id": "0a8f9308-6d91-475a-83c1-dfbbef814272",
   "metadata": {},
   "source": [
    "## Price Prediction Model"
   ]
  },
  {
   "cell_type": "code",
   "execution_count": 14,
   "id": "75f697f5",
   "metadata": {},
   "outputs": [
    {
     "name": "stderr",
     "output_type": "stream",
     "text": [
      "2021-09-16 10:22:30.487998: W tensorflow/stream_executor/platform/default/dso_loader.cc:64] Could not load dynamic library 'libcuda.so.1'; dlerror: libcuda.so.1: cannot open shared object file: No such file or directory\n",
      "2021-09-16 10:22:30.488036: W tensorflow/stream_executor/cuda/cuda_driver.cc:269] failed call to cuInit: UNKNOWN ERROR (303)\n",
      "2021-09-16 10:22:30.488065: I tensorflow/stream_executor/cuda/cuda_diagnostics.cc:156] kernel driver does not appear to be running on this host (kseniaevin-G3-3500): /proc/driver/nvidia/version does not exist\n",
      "2021-09-16 10:22:30.488346: I tensorflow/core/platform/cpu_feature_guard.cc:142] This TensorFlow binary is optimized with oneAPI Deep Neural Network Library (oneDNN) to use the following CPU instructions in performance-critical operations:  AVX2 FMA\n",
      "To enable them in other operations, rebuild TensorFlow with the appropriate compiler flags.\n"
     ]
    }
   ],
   "source": [
    "model = Sequential()\n",
    "\n",
    "# input Layer\n",
    "model.add(Dense(X.shape[1], activation=\"relu\", input_dim=X.shape[1]))\n",
    "\n",
    "# hidden Layer\n",
    "model.add(Dense(512, activation=\"relu\"))\n",
    "model.add(Dense(512, activation=\"relu\"))\n",
    "model.add(Dense(256, activation=\"relu\"))\n",
    "model.add(Dense(128, activation=\"relu\"))\n",
    "model.add(Dense(64, activation=\"relu\"))\n",
    "model.add(Dense(32, activation=\"relu\"))\n",
    "\n",
    "# output Layer\n",
    "model.add(Dense(1, activation=\"linear\"))"
   ]
  },
  {
   "cell_type": "code",
   "execution_count": 15,
   "id": "6fc6cb8e",
   "metadata": {
    "tags": []
   },
   "outputs": [
    {
     "name": "stdout",
     "output_type": "stream",
     "text": [
      "Model: \"sequential\"\n",
      "_________________________________________________________________\n",
      "Layer (type)                 Output Shape              Param #   \n",
      "=================================================================\n",
      "dense (Dense)                (None, 12)                156       \n",
      "_________________________________________________________________\n",
      "dense_1 (Dense)              (None, 512)               6656      \n",
      "_________________________________________________________________\n",
      "dense_2 (Dense)              (None, 512)               262656    \n",
      "_________________________________________________________________\n",
      "dense_3 (Dense)              (None, 256)               131328    \n",
      "_________________________________________________________________\n",
      "dense_4 (Dense)              (None, 128)               32896     \n",
      "_________________________________________________________________\n",
      "dense_5 (Dense)              (None, 64)                8256      \n",
      "_________________________________________________________________\n",
      "dense_6 (Dense)              (None, 32)                2080      \n",
      "_________________________________________________________________\n",
      "dense_7 (Dense)              (None, 1)                 33        \n",
      "=================================================================\n",
      "Total params: 444,061\n",
      "Trainable params: 444,061\n",
      "Non-trainable params: 0\n",
      "_________________________________________________________________\n"
     ]
    }
   ],
   "source": [
    "model.compile(loss=\"mse\", optimizer=\"adam\", metrics=[\"mse\", \"mae\"])\n",
    "model.summary()"
   ]
  },
  {
   "cell_type": "markdown",
   "id": "313d0bd8-e34d-427e-b150-53a33a5357f4",
   "metadata": {},
   "source": [
    "### Training"
   ]
  },
  {
   "cell_type": "code",
   "execution_count": 16,
   "id": "8a020f49",
   "metadata": {
    "tags": []
   },
   "outputs": [
    {
     "name": "stderr",
     "output_type": "stream",
     "text": [
      "2021-09-16 10:22:30.630464: I tensorflow/compiler/mlir/mlir_graph_optimization_pass.cc:185] None of the MLIR Optimization Passes are enabled (registered 2)\n"
     ]
    },
    {
     "name": "stdout",
     "output_type": "stream",
     "text": [
      "Epoch 1/70\n",
      "1226/1226 [==============================] - 4s 3ms/step - loss: 8364029440.0000 - mse: 8364029440.0000 - mae: 62775.0195 - val_loss: 5121113600.0000 - val_mse: 5121113600.0000 - val_mae: 53995.3359\n",
      "Epoch 2/70\n",
      "1226/1226 [==============================] - 3s 3ms/step - loss: 4301112832.0000 - mse: 4301112832.0000 - mae: 46895.2109 - val_loss: 4391387648.0000 - val_mse: 4391387648.0000 - val_mae: 46966.8672\n",
      "Epoch 3/70\n",
      "1226/1226 [==============================] - 5s 4ms/step - loss: 4103281664.0000 - mse: 4103281664.0000 - mae: 45341.2578 - val_loss: 4230914816.0000 - val_mse: 4230914816.0000 - val_mae: 44658.6719\n",
      "Epoch 4/70\n",
      "1226/1226 [==============================] - 5s 4ms/step - loss: 3987891456.0000 - mse: 3987891456.0000 - mae: 44562.0742 - val_loss: 4351267328.0000 - val_mse: 4351267840.0000 - val_mae: 44839.9844\n",
      "Epoch 5/70\n",
      "1226/1226 [==============================] - 4s 3ms/step - loss: 3809381120.0000 - mse: 3809381120.0000 - mae: 43413.4688 - val_loss: 4413275648.0000 - val_mse: 4413275648.0000 - val_mae: 48521.6094\n",
      "Epoch 6/70\n",
      "1226/1226 [==============================] - 3s 3ms/step - loss: 3803670784.0000 - mse: 3803670784.0000 - mae: 43335.9219 - val_loss: 3987503872.0000 - val_mse: 3987503872.0000 - val_mae: 44790.5625\n",
      "Epoch 7/70\n",
      "1226/1226 [==============================] - 3s 3ms/step - loss: 3677082880.0000 - mse: 3677082880.0000 - mae: 42528.1094 - val_loss: 3883961344.0000 - val_mse: 3883961344.0000 - val_mae: 42979.3828\n",
      "Epoch 8/70\n",
      "1226/1226 [==============================] - 3s 3ms/step - loss: 3584418816.0000 - mse: 3584418816.0000 - mae: 41746.3086 - val_loss: 3750721024.0000 - val_mse: 3750721024.0000 - val_mae: 42673.9062\n",
      "Epoch 9/70\n",
      "1226/1226 [==============================] - 3s 2ms/step - loss: 3462821376.0000 - mse: 3462821376.0000 - mae: 41041.3438 - val_loss: 3863240192.0000 - val_mse: 3863240192.0000 - val_mae: 43555.6133\n",
      "Epoch 10/70\n",
      "1226/1226 [==============================] - 3s 3ms/step - loss: 3425309952.0000 - mse: 3425309952.0000 - mae: 40813.6406 - val_loss: 3730500096.0000 - val_mse: 3730500096.0000 - val_mae: 41591.5117\n",
      "Epoch 11/70\n",
      "1226/1226 [==============================] - 3s 3ms/step - loss: 3363574784.0000 - mse: 3363574784.0000 - mae: 40372.1602 - val_loss: 3576898048.0000 - val_mse: 3576898048.0000 - val_mae: 40963.7031\n",
      "Epoch 12/70\n",
      "1226/1226 [==============================] - 3s 3ms/step - loss: 3284108544.0000 - mse: 3284108544.0000 - mae: 39771.5352 - val_loss: 3636378368.0000 - val_mse: 3636378368.0000 - val_mae: 41526.5391\n",
      "Epoch 13/70\n",
      "1226/1226 [==============================] - 3s 3ms/step - loss: 3259039488.0000 - mse: 3259039488.0000 - mae: 39669.1797 - val_loss: 3601609216.0000 - val_mse: 3601609216.0000 - val_mae: 40760.4453\n",
      "Epoch 14/70\n",
      "1226/1226 [==============================] - 3s 2ms/step - loss: 3203571712.0000 - mse: 3203571712.0000 - mae: 39221.1680 - val_loss: 4346718720.0000 - val_mse: 4346718720.0000 - val_mae: 43767.3281\n",
      "Epoch 15/70\n",
      "1226/1226 [==============================] - 3s 3ms/step - loss: 3172266240.0000 - mse: 3172266240.0000 - mae: 38875.8320 - val_loss: 3596132864.0000 - val_mse: 3596132864.0000 - val_mae: 40129.8750\n",
      "Epoch 16/70\n",
      "1226/1226 [==============================] - 4s 3ms/step - loss: 3144743424.0000 - mse: 3144743424.0000 - mae: 38723.4102 - val_loss: 3414453248.0000 - val_mse: 3414453248.0000 - val_mae: 39097.8164\n",
      "Epoch 17/70\n",
      "1226/1226 [==============================] - 3s 3ms/step - loss: 3106600192.0000 - mse: 3106600192.0000 - mae: 38456.2148 - val_loss: 3384940032.0000 - val_mse: 3384940032.0000 - val_mae: 38969.4492\n",
      "Epoch 18/70\n",
      "1226/1226 [==============================] - 3s 3ms/step - loss: 3052807936.0000 - mse: 3052807936.0000 - mae: 37999.9922 - val_loss: 3340078080.0000 - val_mse: 3340078080.0000 - val_mae: 39131.1914\n",
      "Epoch 19/70\n",
      "1226/1226 [==============================] - 3s 3ms/step - loss: 3034878208.0000 - mse: 3034878208.0000 - mae: 37897.2383 - val_loss: 3301246720.0000 - val_mse: 3301246720.0000 - val_mae: 39312.5977\n",
      "Epoch 20/70\n",
      "1226/1226 [==============================] - 3s 3ms/step - loss: 2981379328.0000 - mse: 2981379328.0000 - mae: 37624.9961 - val_loss: 4030600192.0000 - val_mse: 4030600192.0000 - val_mae: 42430.7656\n",
      "Epoch 21/70\n",
      "1226/1226 [==============================] - 4s 3ms/step - loss: 3011823616.0000 - mse: 3011823616.0000 - mae: 37694.8516 - val_loss: 3367700736.0000 - val_mse: 3367700736.0000 - val_mae: 38677.2422\n",
      "Epoch 22/70\n",
      "1226/1226 [==============================] - 4s 3ms/step - loss: 2947008512.0000 - mse: 2947008512.0000 - mae: 37395.6914 - val_loss: 3310847488.0000 - val_mse: 3310847488.0000 - val_mae: 38863.9570\n",
      "Epoch 23/70\n",
      "1226/1226 [==============================] - 3s 3ms/step - loss: 2916518656.0000 - mse: 2916518656.0000 - mae: 37067.3203 - val_loss: 3222185216.0000 - val_mse: 3222185216.0000 - val_mae: 38363.6328\n",
      "Epoch 24/70\n",
      "1226/1226 [==============================] - 3s 3ms/step - loss: 2916637952.0000 - mse: 2916637952.0000 - mae: 36996.7695 - val_loss: 3248554496.0000 - val_mse: 3248554752.0000 - val_mae: 38384.9727\n",
      "Epoch 25/70\n",
      "1226/1226 [==============================] - 3s 3ms/step - loss: 2890118656.0000 - mse: 2890118656.0000 - mae: 36883.8242 - val_loss: 3227992576.0000 - val_mse: 3227992576.0000 - val_mae: 38136.9023\n",
      "Epoch 26/70\n",
      "1226/1226 [==============================] - 3s 3ms/step - loss: 2885509376.0000 - mse: 2885509376.0000 - mae: 36963.7812 - val_loss: 3331316224.0000 - val_mse: 3331316224.0000 - val_mae: 38152.5977\n",
      "Epoch 27/70\n",
      "1226/1226 [==============================] - 3s 3ms/step - loss: 2848274688.0000 - mse: 2848274688.0000 - mae: 36685.3477 - val_loss: 3553827072.0000 - val_mse: 3553827072.0000 - val_mae: 42137.7383\n",
      "Epoch 28/70\n",
      "1226/1226 [==============================] - 3s 3ms/step - loss: 2823818496.0000 - mse: 2823818240.0000 - mae: 36525.4062 - val_loss: 3221218048.0000 - val_mse: 3221218048.0000 - val_mae: 38957.2891\n",
      "Epoch 29/70\n",
      "1226/1226 [==============================] - 3s 3ms/step - loss: 2823848704.0000 - mse: 2823848448.0000 - mae: 36499.5195 - val_loss: 3300647680.0000 - val_mse: 3300647680.0000 - val_mae: 38482.9414\n",
      "Epoch 30/70\n",
      "1226/1226 [==============================] - 3s 3ms/step - loss: 2781115392.0000 - mse: 2781115392.0000 - mae: 36240.0391 - val_loss: 3236540160.0000 - val_mse: 3236540160.0000 - val_mae: 38488.9453\n",
      "Epoch 31/70\n",
      "1226/1226 [==============================] - 3s 3ms/step - loss: 2813119232.0000 - mse: 2813119232.0000 - mae: 36375.1328 - val_loss: 3143820544.0000 - val_mse: 3143820544.0000 - val_mae: 37600.9219\n",
      "Epoch 32/70\n",
      "1226/1226 [==============================] - 3s 3ms/step - loss: 2775714816.0000 - mse: 2775714816.0000 - mae: 36151.1836 - val_loss: 3387385856.0000 - val_mse: 3387385856.0000 - val_mae: 38408.0039\n",
      "Epoch 33/70\n",
      "1226/1226 [==============================] - 3s 3ms/step - loss: 2744385280.0000 - mse: 2744385280.0000 - mae: 35966.9805 - val_loss: 3743395584.0000 - val_mse: 3743395584.0000 - val_mae: 42997.4961\n",
      "Epoch 34/70\n",
      "1226/1226 [==============================] - 4s 3ms/step - loss: 2735859200.0000 - mse: 2735859200.0000 - mae: 35771.0781 - val_loss: 3388126208.0000 - val_mse: 3388126208.0000 - val_mae: 38514.5117\n",
      "Epoch 35/70\n",
      "1226/1226 [==============================] - 3s 3ms/step - loss: 2739971584.0000 - mse: 2739971584.0000 - mae: 35893.3594 - val_loss: 3209859072.0000 - val_mse: 3209859072.0000 - val_mae: 39340.3594\n",
      "Epoch 36/70\n",
      "1226/1226 [==============================] - 3s 3ms/step - loss: 2707344128.0000 - mse: 2707344128.0000 - mae: 35751.9062 - val_loss: 3183596288.0000 - val_mse: 3183596288.0000 - val_mae: 38344.9297\n",
      "Epoch 37/70\n",
      "1226/1226 [==============================] - 3s 3ms/step - loss: 2684952320.0000 - mse: 2684952320.0000 - mae: 35535.0312 - val_loss: 3299007488.0000 - val_mse: 3299007488.0000 - val_mae: 38256.9648\n",
      "Epoch 38/70\n",
      "1226/1226 [==============================] - 3s 3ms/step - loss: 2716354048.0000 - mse: 2716354048.0000 - mae: 35651.8125 - val_loss: 3105925888.0000 - val_mse: 3105925888.0000 - val_mae: 37508.0664\n",
      "Epoch 39/70\n",
      "1226/1226 [==============================] - 3s 3ms/step - loss: 2689206016.0000 - mse: 2689206016.0000 - mae: 35550.7852 - val_loss: 3255697408.0000 - val_mse: 3255697408.0000 - val_mae: 38352.7266\n",
      "Epoch 40/70\n",
      "1226/1226 [==============================] - 3s 3ms/step - loss: 2661647104.0000 - mse: 2661647104.0000 - mae: 35350.0469 - val_loss: 3021588736.0000 - val_mse: 3021588480.0000 - val_mae: 37368.2734\n",
      "Epoch 41/70\n",
      "1226/1226 [==============================] - 3s 3ms/step - loss: 2660301312.0000 - mse: 2660301312.0000 - mae: 35210.4922 - val_loss: 3081700608.0000 - val_mse: 3081700608.0000 - val_mae: 38044.9570\n",
      "Epoch 42/70\n",
      "1226/1226 [==============================] - 3s 3ms/step - loss: 2658597120.0000 - mse: 2658597120.0000 - mae: 35414.3828 - val_loss: 3525756416.0000 - val_mse: 3525756416.0000 - val_mae: 43619.7734\n",
      "Epoch 43/70\n",
      "1226/1226 [==============================] - 3s 3ms/step - loss: 2636973824.0000 - mse: 2636973824.0000 - mae: 35152.6016 - val_loss: 3069822464.0000 - val_mse: 3069822208.0000 - val_mae: 37440.0156\n",
      "Epoch 44/70\n",
      "1226/1226 [==============================] - 3s 3ms/step - loss: 2620411904.0000 - mse: 2620411904.0000 - mae: 35023.9688 - val_loss: 3072911360.0000 - val_mse: 3072911360.0000 - val_mae: 36741.8398\n",
      "Epoch 45/70\n",
      "1226/1226 [==============================] - 3s 3ms/step - loss: 2625024256.0000 - mse: 2625024256.0000 - mae: 35007.9961 - val_loss: 3043831040.0000 - val_mse: 3043831040.0000 - val_mae: 36253.5625\n",
      "Epoch 46/70\n",
      "1226/1226 [==============================] - 3s 3ms/step - loss: 2610712064.0000 - mse: 2610712064.0000 - mae: 35019.7695 - val_loss: 2996861440.0000 - val_mse: 2996861440.0000 - val_mae: 37208.3203\n",
      "Epoch 47/70\n",
      "1226/1226 [==============================] - 3s 3ms/step - loss: 2574522112.0000 - mse: 2574522112.0000 - mae: 34838.2812 - val_loss: 3192472064.0000 - val_mse: 3192472064.0000 - val_mae: 38538.7734\n",
      "Epoch 48/70\n",
      "1226/1226 [==============================] - 3s 3ms/step - loss: 2578245120.0000 - mse: 2578245120.0000 - mae: 34702.2930 - val_loss: 3055756032.0000 - val_mse: 3055756032.0000 - val_mae: 38209.6836\n",
      "Epoch 49/70\n",
      "1226/1226 [==============================] - 3s 3ms/step - loss: 2621981952.0000 - mse: 2621981952.0000 - mae: 34876.7812 - val_loss: 3080547840.0000 - val_mse: 3080547840.0000 - val_mae: 37625.1562\n",
      "Epoch 50/70\n",
      "1226/1226 [==============================] - 3s 3ms/step - loss: 2582235136.0000 - mse: 2582235136.0000 - mae: 34783.7422 - val_loss: 3000187136.0000 - val_mse: 3000187136.0000 - val_mae: 36847.7969\n",
      "Epoch 51/70\n",
      "1226/1226 [==============================] - 4s 3ms/step - loss: 2568039424.0000 - mse: 2568039424.0000 - mae: 34441.3516 - val_loss: 3358012928.0000 - val_mse: 3358012928.0000 - val_mae: 40131.2734\n",
      "Epoch 52/70\n",
      "1226/1226 [==============================] - 3s 3ms/step - loss: 2558561280.0000 - mse: 2558561280.0000 - mae: 34486.5508 - val_loss: 2974386944.0000 - val_mse: 2974386944.0000 - val_mae: 36461.0938\n",
      "Epoch 53/70\n",
      "1226/1226 [==============================] - 3s 3ms/step - loss: 2549573120.0000 - mse: 2549573120.0000 - mae: 34509.3164 - val_loss: 3126509312.0000 - val_mse: 3126509312.0000 - val_mae: 36822.9688\n",
      "Epoch 54/70\n",
      "1226/1226 [==============================] - 3s 3ms/step - loss: 2526898688.0000 - mse: 2526898688.0000 - mae: 34219.0586 - val_loss: 3139416320.0000 - val_mse: 3139416320.0000 - val_mae: 39684.2109\n",
      "Epoch 55/70\n",
      "1226/1226 [==============================] - 3s 3ms/step - loss: 2554872832.0000 - mse: 2554873088.0000 - mae: 34584.2070 - val_loss: 2923075328.0000 - val_mse: 2923075328.0000 - val_mae: 35931.0273\n",
      "Epoch 56/70\n",
      "1226/1226 [==============================] - 3s 3ms/step - loss: 2518027264.0000 - mse: 2518027264.0000 - mae: 34123.9961 - val_loss: 2938990848.0000 - val_mse: 2938990848.0000 - val_mae: 36064.0859\n",
      "Epoch 57/70\n",
      "1226/1226 [==============================] - 3s 3ms/step - loss: 2509857792.0000 - mse: 2509857792.0000 - mae: 34034.0781 - val_loss: 3225707776.0000 - val_mse: 3225707776.0000 - val_mae: 37315.6445\n",
      "Epoch 58/70\n",
      "1226/1226 [==============================] - 3s 3ms/step - loss: 2499944448.0000 - mse: 2499944704.0000 - mae: 34120.8203 - val_loss: 3085842176.0000 - val_mse: 3085842432.0000 - val_mae: 36547.4102\n",
      "Epoch 59/70\n",
      "1226/1226 [==============================] - 3s 3ms/step - loss: 2489812224.0000 - mse: 2489812224.0000 - mae: 34099.9961 - val_loss: 3200621312.0000 - val_mse: 3200621312.0000 - val_mae: 37229.4570\n",
      "Epoch 60/70\n",
      "1226/1226 [==============================] - 3s 3ms/step - loss: 2486185472.0000 - mse: 2486185472.0000 - mae: 34012.8789 - val_loss: 3060163072.0000 - val_mse: 3060163328.0000 - val_mae: 36978.8125\n",
      "Epoch 61/70\n",
      "1226/1226 [==============================] - 3s 3ms/step - loss: 2446694400.0000 - mse: 2446694400.0000 - mae: 33864.4375 - val_loss: 3103677440.0000 - val_mse: 3103677440.0000 - val_mae: 37783.2031\n",
      "Epoch 62/70\n",
      "1226/1226 [==============================] - 3s 3ms/step - loss: 2462433792.0000 - mse: 2462433792.0000 - mae: 33907.6367 - val_loss: 2974144256.0000 - val_mse: 2974144256.0000 - val_mae: 37250.1484\n",
      "Epoch 63/70\n",
      "1226/1226 [==============================] - 3s 3ms/step - loss: 2444123392.0000 - mse: 2444123392.0000 - mae: 33723.4570 - val_loss: 3004658944.0000 - val_mse: 3004658944.0000 - val_mae: 36936.4531\n",
      "Epoch 64/70\n",
      "1226/1226 [==============================] - 3s 3ms/step - loss: 2470235904.0000 - mse: 2470235904.0000 - mae: 33847.7812 - val_loss: 2929002752.0000 - val_mse: 2929002752.0000 - val_mae: 36394.8867\n",
      "Epoch 65/70\n",
      "1226/1226 [==============================] - 3s 3ms/step - loss: 2454085120.0000 - mse: 2454085120.0000 - mae: 33755.1016 - val_loss: 2995331584.0000 - val_mse: 2995331584.0000 - val_mae: 36808.0195\n",
      "Epoch 66/70\n",
      "1226/1226 [==============================] - 3s 3ms/step - loss: 2438804736.0000 - mse: 2438804736.0000 - mae: 33661.1328 - val_loss: 3679928320.0000 - val_mse: 3679928320.0000 - val_mae: 44372.8516\n",
      "Epoch 67/70\n",
      "1226/1226 [==============================] - 3s 3ms/step - loss: 2434037248.0000 - mse: 2434037248.0000 - mae: 33703.8906 - val_loss: 2970770944.0000 - val_mse: 2970770944.0000 - val_mae: 35823.9883\n",
      "Epoch 68/70\n",
      "1226/1226 [==============================] - 3s 3ms/step - loss: 2438018560.0000 - mse: 2438018560.0000 - mae: 33679.1016 - val_loss: 3035855872.0000 - val_mse: 3035855872.0000 - val_mae: 36087.2188\n",
      "Epoch 69/70\n",
      "1226/1226 [==============================] - 4s 3ms/step - loss: 2426738688.0000 - mse: 2426738688.0000 - mae: 33472.3398 - val_loss: 3118977536.0000 - val_mse: 3118977536.0000 - val_mae: 37915.1211\n",
      "Epoch 70/70\n",
      "1226/1226 [==============================] - 4s 3ms/step - loss: 2427199232.0000 - mse: 2427199232.0000 - mae: 33650.8633 - val_loss: 3040465408.0000 - val_mse: 3040465408.0000 - val_mae: 36142.8047\n"
     ]
    }
   ],
   "source": [
    "history = model.fit(\n",
    "    X_train,\n",
    "    y_train.to_numpy(),\n",
    "    batch_size=10,\n",
    "    epochs=70,\n",
    "    verbose=1,\n",
    "    validation_data=(X_val, y_val),\n",
    ")"
   ]
  },
  {
   "cell_type": "code",
   "execution_count": 17,
   "id": "4076a3a4-c154-43ea-a833-6d91ce123bde",
   "metadata": {
    "tags": []
   },
   "outputs": [
    {
     "data": {
      "image/png": "[encoded data removed]",
      "text/plain": [
       "<Figure size 720x576 with 1 Axes>"
      ]
     },
     "metadata": {
      "needs_background": "light"
     },
     "output_type": "display_data"
    }
   ],
   "source": [
    "# summarize history for loss\n",
    "loss_train = history.history[\"loss\"]\n",
    "loss_val = history.history[\"val_loss\"]\n",
    "epochs = range(1, 71)\n",
    "plt.figure(figsize=(10, 8))\n",
    "plt.plot(epochs, loss_train, \"g\", label=\"Training loss\")\n",
    "plt.plot(epochs, loss_val, \"b\", label=\"Validation loss\")\n",
    "plt.title(\"Training and Validation loss\")\n",
    "plt.xlabel(\"Epochs\")\n",
    "plt.ylabel(\"Loss\")\n",
    "plt.legend()\n",
    "plt.show()"
   ]
  },
  {
   "cell_type": "markdown",
   "id": "ed8bdd26-7a6a-4564-af3b-c2c0cac3f5b2",
   "metadata": {},
   "source": [
    "### Evaluation"
   ]
  },
  {
   "cell_type": "code",
   "execution_count": 18,
   "id": "18756b3f",
   "metadata": {},
   "outputs": [
    {
     "name": "stdout",
     "output_type": "stream",
     "text": [
      "128/128 [==============================] - 0s 681us/step - loss: 2807665920.0000 - mse: 2807665920.0000 - mae: 35259.3047\n"
     ]
    },
    {
     "data": {
      "text/plain": [
       "[2807665920.0, 2807665920.0, 35259.3046875]"
      ]
     },
     "execution_count": 18,
     "metadata": {},
     "output_type": "execute_result"
    }
   ],
   "source": [
    "y_pred = model.predict(X_test)\n",
    "model.evaluate(X_test, y_test)"
   ]
  },
  {
   "cell_type": "markdown",
   "id": "a87db7d6-d1a3-420d-9ab2-e6e3223a4aeb",
   "metadata": {},
   "source": [
    "### Prediction"
   ]
  },
  {
   "cell_type": "markdown",
   "id": "7120a0d3-d5d6-4485-aa5b-62275aba026f",
   "metadata": {},
   "source": [
    "Create a dataframe with predicted values obtained from the model"
   ]
  },
  {
   "cell_type": "code",
   "execution_count": 19,
   "id": "33d3366a",
   "metadata": {},
   "outputs": [],
   "source": [
    "predict_data = pd.DataFrame(\n",
    "    columns=[\"longitude\", \"latitude\"], data=start_values[[\"longitude\", \"latitude\"]]\n",
    ")\n",
    "predict_data[\"price\"] = y_pred"
   ]
  },
  {
   "cell_type": "markdown",
   "id": "bb728127-0c64-4b4e-ab6b-71d451f33513",
   "metadata": {},
   "source": [
    "### Visualization"
   ]
  },
  {
   "cell_type": "code",
   "execution_count": 20,
   "id": "9b15e7f3",
   "metadata": {
    "tags": []
   },
   "outputs": [
    {
     "data": {
      "application/vnd.jupyter.widget-view+json": {
       "model_id": "4213142757864ed29971f842e78bde12",
       "version_major": 2,
       "version_minor": 0
      },
      "text/plain": [
       "UnfoldedMap()"
      ]
     },
     "metadata": {},
     "output_type": "display_data"
    }
   ],
   "source": [
    "housing_predict_prices = UnfoldedMap()\n",
    "price_data_id = uuid4()\n",
    "\n",
    "housing_predict_prices.add_dataset(\n",
    "    {\n",
    "        \"uuid\": price_data_id,\n",
    "        \"label\": \"Predict housing prices in CA\",\n",
    "        \"data\": predict_data,\n",
    "    },\n",
    "    auto_create_layers=False,\n",
    ")\n",
    "\n",
    "housing_predict_prices.add_layer(\n",
    "    {\n",
    "        \"id\": \"housing_prices\",\n",
    "        \"type\": \"hexagon\",\n",
    "        \"config\": {\n",
    "            \"label\": \"housing prices\",\n",
    "            \"data_id\": price_data_id,\n",
    "            \"columns\": {\"lat\": \"latitude\", \"lng\": \"longitude\"},\n",
    "            \"is_visible\": True,\n",
    "            \"color_scale\": \"quantize\",\n",
    "            \"color_field\": {\"name\": \"price\", \"type\": \"real\"},\n",
    "            \"vis_config\": {\n",
    "                \"colorRange\": {\n",
    "                    \"colors\": [\n",
    "                        \"#E6F598\",\n",
    "                        \"#ABDDA4\",\n",
    "                        \"#66C2A5\",\n",
    "                        \"#3288BD\",\n",
    "                        \"#5E4FA2\",\n",
    "                        \"#9E0142\",\n",
    "                        \"#D53E4F\",\n",
    "                        \"#F46D43\",\n",
    "                        \"#FDAE61\",\n",
    "                        \"#FEE08B\",\n",
    "                    ]\n",
    "                }\n",
    "            },\n",
    "        },\n",
    "    }\n",
    ")\n",
    "\n",
    "housing_predict_prices.set_view_state(\n",
    "    {\"longitude\": -119.417931, \"latitude\": 36.6, \"zoom\": 6}\n",
    ")\n",
    "\n",
    "housing_predict_prices"
   ]
  },
  {
   "cell_type": "markdown",
   "id": "ddd17fd8-9532-416e-b192-a2313ccfc19a",
   "metadata": {
    "tags": []
   },
   "source": [
    "This map shows obtained prices on houses in CA"
   ]
  },
  {
   "cell_type": "markdown",
   "id": "e9b897ea-3a74-47bf-bf56-e006e4e0bae8",
   "metadata": {
    "tags": []
   },
   "source": [
    "## Clustering Model"
   ]
  },
  {
   "cell_type": "markdown",
   "id": "ae748c09-3336-4b5d-9d7b-f6b5cd8a3674",
   "metadata": {},
   "source": [
    "Create clusters with different price levels using the KMeans algorithm"
   ]
  },
  {
   "cell_type": "code",
   "execution_count": 21,
   "id": "f477d583",
   "metadata": {},
   "outputs": [],
   "source": [
    "k = 5\n",
    "km = KMeans(n_clusters=k, init=\"k-means++\")\n",
    "X = predict_data[[\"latitude\", \"longitude\", \"price\"]]\n",
    "\n",
    "# clustering\n",
    "dtf_X = X.copy()\n",
    "dtf_X[\"cluster\"] = km.fit_predict(X)\n",
    "\n",
    "# add clustering info to the original dataset\n",
    "predict_data[[\"cluster\"]] = dtf_X[[\"cluster\"]]"
   ]
  },
  {
   "cell_type": "markdown",
   "id": "cc816d7f-67c1-4b83-abbb-22784a511164",
   "metadata": {},
   "source": [
    "### Visualization"
   ]
  },
  {
   "cell_type": "code",
   "execution_count": 22,
   "id": "b0b4943a",
   "metadata": {},
   "outputs": [
    {
     "data": {
      "text/plain": [
       "Text(0.5, 1.0, 'Clustering (k=5)')"
      ]
     },
     "execution_count": 22,
     "metadata": {},
     "output_type": "execute_result"
    },
    {
     "data": {
      "image/png": "[encoded data removed]",
      "text/plain": [
       "<Figure size 432x288 with 1 Axes>"
      ]
     },
     "metadata": {
      "needs_background": "light"
     },
     "output_type": "display_data"
    }
   ],
   "source": [
    "fig, ax = plt.subplots()\n",
    "sns.scatterplot(\n",
    "    x=\"latitude\",\n",
    "    y=\"longitude\",\n",
    "    data=predict_data,\n",
    "    palette=sns.color_palette(\"bright\", k),\n",
    "    hue=\"cluster\",\n",
    "    size_order=[1, 0],\n",
    "    ax=ax,\n",
    ").set_title(\"Clustering (k=\" + str(k) + \")\")"
   ]
  },
  {
   "cell_type": "code",
   "execution_count": 23,
   "id": "a2897425",
   "metadata": {},
   "outputs": [
    {
     "data": {
      "application/vnd.jupyter.widget-view+json": {
       "model_id": "9f746cb911e146f182ce459b5e024aac",
       "version_major": 2,
       "version_minor": 0
      },
      "text/plain": [
       "UnfoldedMap()"
      ]
     },
     "metadata": {},
     "output_type": "display_data"
    }
   ],
   "source": [
    "prices_dataset_id = uuid4()\n",
    "unfolded_map_prices = UnfoldedMap()\n",
    "\n",
    "unfolded_map_prices.add_dataset(\n",
    "    {\"uuid\": prices_dataset_id, \"label\": \"Prices\", \"data\": predict_data},\n",
    "    auto_create_layers=False,\n",
    ")\n",
    "\n",
    "unfolded_map_prices.add_layer(\n",
    "    {\n",
    "        \"id\": \"prices_CA\",\n",
    "        \"type\": \"point\",\n",
    "        \"config\": {\n",
    "            \"data_id\": prices_dataset_id,\n",
    "            \"label\": \"clustering of prices\",\n",
    "            \"columns\": {\"lat\": \"latitude\", \"lng\": \"longitude\"},\n",
    "            \"is_visible\": True,\n",
    "            \"color_scale\": \"quantize\",\n",
    "            \"color_field\": {\"name\": \"cluster\", \"type\": \"real\"},\n",
    "            \"vis_config\": {\n",
    "                \"colorRange\": {\n",
    "                    \"colors\": [\"#7FFFD4\", \"#8A2BE2\", \"#00008B\", \"#FF8C00\", \"#FF1493\"]\n",
    "                }\n",
    "            },\n",
    "        },\n",
    "    }\n",
    ")\n",
    "\n",
    "unfolded_map_prices.set_view_state(\n",
    "    {\"longitude\": -119.417931, \"latitude\": 36.778259, \"zoom\": 4}\n",
    ")\n",
    "\n",
    "unfolded_map_prices"
   ]
  },
  {
   "cell_type": "markdown",
   "id": "9dcdba5f-f809-4219-9247-060371857895",
   "metadata": {},
   "source": [
    "This map shows obtained clusters"
   ]
  }
 ],
 "metadata": {
  "kernelspec": {
   "display_name": "Python 3 (ipykernel)",
   "language": "python",
   "name": "python3"
  },
  "language_info": {
   "codemirror_mode": {
    "name": "ipython",
    "version": 3
   },
   "file_extension": ".py",
   "mimetype": "text/x-python",
   "name": "python",
   "nbconvert_exporter": "python",
   "pygments_lexer": "ipython3",
   "version": "3.9.5"
  }
 },
 "nbformat": 4,
 "nbformat_minor": 5
}
