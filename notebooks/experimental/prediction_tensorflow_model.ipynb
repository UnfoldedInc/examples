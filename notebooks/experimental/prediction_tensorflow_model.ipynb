{
 "cells": [
  {
   "cell_type": "markdown",
   "id": "de84a707-c5e0-45af-a66a-66787b417872",
   "metadata": {},
   "source": [
    "# Unfolded SDK Machine Learning Demo"
   ]
  },
  {
   "cell_type": "markdown",
   "id": "db1cc8d4-69cb-412f-8727-233d26ad954f",
   "metadata": {},
   "source": [
    "## Dependencies "
   ]
  },
  {
   "cell_type": "code",
   "execution_count": 1,
   "id": "2c740a25-f70d-4d6c-bb8c-369d386095b8",
   "metadata": {
    "tags": []
   },
   "outputs": [
    {
     "name": "stdout",
     "output_type": "stream",
     "text": [
      "/usr/lib/python3/dist-packages/secretstorage/dhcrypto.py:15: CryptographyDeprecationWarning: int_from_bytes is deprecated, use int.from_bytes instead\n",
      "  from cryptography.utils import int_from_bytes\n",
      "/usr/lib/python3/dist-packages/secretstorage/util.py:19: CryptographyDeprecationWarning: int_from_bytes is deprecated, use int.from_bytes instead\n",
      "  from cryptography.utils import int_from_bytes\n",
      "Requirement already satisfied: pandas==1.3.2 in /home/ksenia-evin/.local/lib/python3.8/site-packages (1.3.2)\n",
      "Requirement already satisfied: numpy==1.19.5 in /home/ksenia-evin/.local/lib/python3.8/site-packages (1.19.5)\n",
      "Requirement already satisfied: sklearn==0.0 in /home/ksenia-evin/.local/lib/python3.8/site-packages (0.0)\n",
      "Requirement already satisfied: geopy==2.2.0 in /home/ksenia-evin/.local/lib/python3.8/site-packages (2.2.0)\n",
      "Requirement already satisfied: scipy==1.7.1 in /home/ksenia-evin/.local/lib/python3.8/site-packages (1.7.1)\n",
      "Requirement already satisfied: seaborn==0.11.2 in /home/ksenia-evin/.local/lib/python3.8/site-packages (0.11.2)\n",
      "Requirement already satisfied: matplotlib==3.4.3 in /home/ksenia-evin/.local/lib/python3.8/site-packages (3.4.3)\n",
      "Requirement already satisfied: tensorflow==2.6.0 in /home/ksenia-evin/.local/lib/python3.8/site-packages (2.6.0)\n",
      "Requirement already satisfied: pytz>=2017.3 in /usr/lib/python3/dist-packages (from pandas==1.3.2) (2019.3)\n",
      "Requirement already satisfied: python-dateutil>=2.7.3 in /usr/lib/python3/dist-packages (from pandas==1.3.2) (2.7.3)\n",
      "Requirement already satisfied: scikit-learn in /home/ksenia-evin/.local/lib/python3.8/site-packages (from sklearn==0.0) (0.24.2)\n",
      "Requirement already satisfied: geographiclib<2,>=1.49 in /home/ksenia-evin/.local/lib/python3.8/site-packages (from geopy==2.2.0) (1.52)\n",
      "Requirement already satisfied: pyparsing>=2.2.1 in /home/ksenia-evin/.local/lib/python3.8/site-packages (from matplotlib==3.4.3) (2.4.7)\n",
      "Requirement already satisfied: pillow>=6.2.0 in /usr/lib/python3/dist-packages (from matplotlib==3.4.3) (7.0.0)\n",
      "Requirement already satisfied: cycler>=0.10 in /home/ksenia-evin/.local/lib/python3.8/site-packages (from matplotlib==3.4.3) (0.10.0)\n",
      "Requirement already satisfied: kiwisolver>=1.0.1 in /home/ksenia-evin/.local/lib/python3.8/site-packages (from matplotlib==3.4.3) (1.3.1)\n",
      "Requirement already satisfied: protobuf>=3.9.2 in /home/ksenia-evin/.local/lib/python3.8/site-packages (from tensorflow==2.6.0) (3.17.3)\n",
      "Requirement already satisfied: wrapt~=1.12.1 in /home/ksenia-evin/.local/lib/python3.8/site-packages (from tensorflow==2.6.0) (1.12.1)\n",
      "Requirement already satisfied: tensorflow-estimator~=2.6 in /home/ksenia-evin/.local/lib/python3.8/site-packages (from tensorflow==2.6.0) (2.6.0)\n",
      "Requirement already satisfied: grpcio<2.0,>=1.37.0 in /home/ksenia-evin/.local/lib/python3.8/site-packages (from tensorflow==2.6.0) (1.39.0)\n",
      "Requirement already satisfied: tensorboard~=2.6 in /home/ksenia-evin/.local/lib/python3.8/site-packages (from tensorflow==2.6.0) (2.6.0)\n",
      "Requirement already satisfied: keras~=2.6 in /home/ksenia-evin/.local/lib/python3.8/site-packages (from tensorflow==2.6.0) (2.6.0)\n",
      "Requirement already satisfied: opt-einsum~=3.3.0 in /home/ksenia-evin/.local/lib/python3.8/site-packages (from tensorflow==2.6.0) (3.3.0)\n",
      "Requirement already satisfied: h5py~=3.1.0 in /home/ksenia-evin/.local/lib/python3.8/site-packages (from tensorflow==2.6.0) (3.1.0)\n",
      "Requirement already satisfied: gast==0.4.0 in /home/ksenia-evin/.local/lib/python3.8/site-packages (from tensorflow==2.6.0) (0.4.0)\n",
      "Requirement already satisfied: absl-py~=0.10 in /home/ksenia-evin/.local/lib/python3.8/site-packages (from tensorflow==2.6.0) (0.13.0)\n",
      "Requirement already satisfied: termcolor~=1.1.0 in /home/ksenia-evin/.local/lib/python3.8/site-packages (from tensorflow==2.6.0) (1.1.0)\n",
      "Requirement already satisfied: six~=1.15.0 in /home/ksenia-evin/.local/lib/python3.8/site-packages (from tensorflow==2.6.0) (1.15.0)\n",
      "Requirement already satisfied: astunparse~=1.6.3 in /home/ksenia-evin/.local/lib/python3.8/site-packages (from tensorflow==2.6.0) (1.6.3)\n",
      "Requirement already satisfied: wheel~=0.35 in /home/ksenia-evin/.local/lib/python3.8/site-packages (from tensorflow==2.6.0) (0.37.0)\n",
      "Requirement already satisfied: flatbuffers~=1.12.0 in /home/ksenia-evin/.local/lib/python3.8/site-packages (from tensorflow==2.6.0) (1.12)\n",
      "Requirement already satisfied: clang~=5.0 in /home/ksenia-evin/.local/lib/python3.8/site-packages (from tensorflow==2.6.0) (5.0)\n",
      "Requirement already satisfied: google-pasta~=0.2 in /home/ksenia-evin/.local/lib/python3.8/site-packages (from tensorflow==2.6.0) (0.2.0)\n",
      "Requirement already satisfied: keras-preprocessing~=1.1.2 in /home/ksenia-evin/.local/lib/python3.8/site-packages (from tensorflow==2.6.0) (1.1.2)\n",
      "Requirement already satisfied: typing-extensions~=3.7.4 in /home/ksenia-evin/.local/lib/python3.8/site-packages (from tensorflow==2.6.0) (3.7.4.3)\n",
      "Requirement already satisfied: joblib>=0.11 in /home/ksenia-evin/.local/lib/python3.8/site-packages (from scikit-learn->sklearn==0.0) (1.0.1)\n",
      "Requirement already satisfied: threadpoolctl>=2.0.0 in /home/ksenia-evin/.local/lib/python3.8/site-packages (from scikit-learn->sklearn==0.0) (2.2.0)\n",
      "Requirement already satisfied: requests<3,>=2.21.0 in /home/ksenia-evin/.local/lib/python3.8/site-packages (from tensorboard~=2.6->tensorflow==2.6.0) (2.26.0)\n",
      "Requirement already satisfied: werkzeug>=0.11.15 in /home/ksenia-evin/.local/lib/python3.8/site-packages (from tensorboard~=2.6->tensorflow==2.6.0) (2.0.1)\n",
      "Requirement already satisfied: markdown>=2.6.8 in /home/ksenia-evin/.local/lib/python3.8/site-packages (from tensorboard~=2.6->tensorflow==2.6.0) (3.3.4)\n",
      "Requirement already satisfied: setuptools>=41.0.0 in /usr/lib/python3/dist-packages (from tensorboard~=2.6->tensorflow==2.6.0) (45.2.0)\n",
      "Requirement already satisfied: tensorboard-data-server<0.7.0,>=0.6.0 in /home/ksenia-evin/.local/lib/python3.8/site-packages (from tensorboard~=2.6->tensorflow==2.6.0) (0.6.1)\n",
      "Requirement already satisfied: google-auth-oauthlib<0.5,>=0.4.1 in /home/ksenia-evin/.local/lib/python3.8/site-packages (from tensorboard~=2.6->tensorflow==2.6.0) (0.4.5)\n",
      "Requirement already satisfied: tensorboard-plugin-wit>=1.6.0 in /home/ksenia-evin/.local/lib/python3.8/site-packages (from tensorboard~=2.6->tensorflow==2.6.0) (1.8.0)\n",
      "Requirement already satisfied: google-auth<2,>=1.6.3 in /home/ksenia-evin/.local/lib/python3.8/site-packages (from tensorboard~=2.6->tensorflow==2.6.0) (1.35.0)\n",
      "Requirement already satisfied: urllib3<1.27,>=1.21.1 in /usr/lib/python3/dist-packages (from requests<3,>=2.21.0->tensorboard~=2.6->tensorflow==2.6.0) (1.25.8)\n",
      "Requirement already satisfied: idna<4,>=2.5; python_version >= \"3\" in /usr/lib/python3/dist-packages (from requests<3,>=2.21.0->tensorboard~=2.6->tensorflow==2.6.0) (2.8)\n",
      "Requirement already satisfied: charset-normalizer~=2.0.0; python_version >= \"3\" in /home/ksenia-evin/.local/lib/python3.8/site-packages (from requests<3,>=2.21.0->tensorboard~=2.6->tensorflow==2.6.0) (2.0.4)\n",
      "Requirement already satisfied: certifi>=2017.4.17 in /usr/lib/python3/dist-packages (from requests<3,>=2.21.0->tensorboard~=2.6->tensorflow==2.6.0) (2019.11.28)\n",
      "Requirement already satisfied: requests-oauthlib>=0.7.0 in /home/ksenia-evin/.local/lib/python3.8/site-packages (from google-auth-oauthlib<0.5,>=0.4.1->tensorboard~=2.6->tensorflow==2.6.0) (1.3.0)\n",
      "Requirement already satisfied: pyasn1-modules>=0.2.1 in /home/ksenia-evin/.local/lib/python3.8/site-packages (from google-auth<2,>=1.6.3->tensorboard~=2.6->tensorflow==2.6.0) (0.2.8)\n",
      "Requirement already satisfied: rsa<5,>=3.1.4; python_version >= \"3.6\" in /home/ksenia-evin/.local/lib/python3.8/site-packages (from google-auth<2,>=1.6.3->tensorboard~=2.6->tensorflow==2.6.0) (4.7.2)\n",
      "Requirement already satisfied: cachetools<5.0,>=2.0.0 in /home/ksenia-evin/.local/lib/python3.8/site-packages (from google-auth<2,>=1.6.3->tensorboard~=2.6->tensorflow==2.6.0) (4.2.2)\n",
      "Requirement already satisfied: oauthlib>=3.0.0 in /usr/lib/python3/dist-packages (from requests-oauthlib>=0.7.0->google-auth-oauthlib<0.5,>=0.4.1->tensorboard~=2.6->tensorflow==2.6.0) (3.1.0)\n",
      "Requirement already satisfied: pyasn1<0.5.0,>=0.4.6 in /home/ksenia-evin/.local/lib/python3.8/site-packages (from pyasn1-modules>=0.2.1->google-auth<2,>=1.6.3->tensorboard~=2.6->tensorflow==2.6.0) (0.4.8)\n"
     ]
    }
   ],
   "source": [
    "!pip install pandas==1.3.2 numpy==1.19.5 sklearn==0.0 geopy==2.2.0 scipy==1.7.1 seaborn==0.11.2 matplotlib==3.4.3 tensorflow==2.6.0"
   ]
  },
  {
   "cell_type": "markdown",
   "id": "a3f5160c-4f05-4dc1-9e6a-d044dd81947f",
   "metadata": {},
   "source": [
    "## Imports"
   ]
  },
  {
   "cell_type": "code",
   "execution_count": 2,
   "id": "b45c477b-a2e3-4783-b4d7-6771126de879",
   "metadata": {},
   "outputs": [
    {
     "name": "stderr",
     "output_type": "stream",
     "text": [
      "2021-09-15 15:22:57.246682: W tensorflow/stream_executor/platform/default/dso_loader.cc:64] Could not load dynamic library 'libcudart.so.11.0'; dlerror: libcudart.so.11.0: cannot open shared object file: No such file or directory\n",
      "2021-09-15 15:22:57.246705: I tensorflow/stream_executor/cuda/cudart_stub.cc:29] Ignore above cudart dlerror if you do not have a GPU set up on your machine.\n"
     ]
    }
   ],
   "source": [
    "from uuid import uuid4\n",
    "import requests\n",
    "\n",
    "import matplotlib.pyplot as plt\n",
    "import numpy as np\n",
    "import pandas as pd\n",
    "import seaborn as sns\n",
    "import tensorflow as tf\n",
    "from geopy.distance import geodesic\n",
    "from scipy.cluster.vq import vq\n",
    "from sklearn.cluster import KMeans\n",
    "from sklearn.model_selection import train_test_split\n",
    "from sklearn.preprocessing import StandardScaler\n",
    "\n",
    "from tensorflow import keras\n",
    "from tensorflow.keras import Sequential, optimizers\n",
    "from tensorflow.keras.layers import Dense, Flatten, Softmax\n",
    "\n",
    "from unfolded.map_sdk import UnfoldedMap"
   ]
  },
  {
   "cell_type": "markdown",
   "id": "6fd123df-3aa2-4610-b02e-b555c152cf5e",
   "metadata": {},
   "source": [
    "Check package versions: "
   ]
  },
  {
   "cell_type": "code",
   "execution_count": 3,
   "id": "652baff7-ebde-4e0c-a189-4ce9b9f70495",
   "metadata": {},
   "outputs": [
    {
     "name": "stdout",
     "output_type": "stream",
     "text": [
      "pandas version: 1.3.2\n",
      "numpy version: 1.19.5\n",
      "seaborn version: 0.11.2\n",
      "tensorflow: 2.6.0\n"
     ]
    }
   ],
   "source": [
    "print(f\"pandas version: {pd.__version__}\")\n",
    "print(f\"numpy version: {np.__version__}\")\n",
    "print(f\"seaborn version: {sns.__version__}\")\n",
    "print(f\"tensorflow: {tf.__version__}\")"
   ]
  },
  {
   "cell_type": "markdown",
   "id": "a794e22f-8b77-4fe5-899e-1f8cb4604099",
   "metadata": {},
   "source": [
    "## Data Loading"
   ]
  },
  {
   "cell_type": "code",
   "execution_count": 4,
   "id": "3367c4bc-2b9e-4442-a51b-3fb2a2afac78",
   "metadata": {},
   "outputs": [
    {
     "data": {
      "text/html": [
       "<div>\n",
       "<style scoped>\n",
       "    .dataframe tbody tr th:only-of-type {\n",
       "        vertical-align: middle;\n",
       "    }\n",
       "\n",
       "    .dataframe tbody tr th {\n",
       "        vertical-align: top;\n",
       "    }\n",
       "\n",
       "    .dataframe thead th {\n",
       "        text-align: right;\n",
       "    }\n",
       "</style>\n",
       "<table border=\"1\" class=\"dataframe\">\n",
       "  <thead>\n",
       "    <tr style=\"text-align: right;\">\n",
       "      <th></th>\n",
       "      <th>longitude</th>\n",
       "      <th>latitude</th>\n",
       "      <th>housing_median_age</th>\n",
       "      <th>total_rooms</th>\n",
       "      <th>total_bedrooms</th>\n",
       "      <th>population</th>\n",
       "      <th>households</th>\n",
       "      <th>median_income</th>\n",
       "      <th>median_house_value</th>\n",
       "      <th>ocean_proximity</th>\n",
       "    </tr>\n",
       "  </thead>\n",
       "  <tbody>\n",
       "    <tr>\n",
       "      <th>0</th>\n",
       "      <td>-122.23</td>\n",
       "      <td>37.88</td>\n",
       "      <td>41.0</td>\n",
       "      <td>880.0</td>\n",
       "      <td>129.0</td>\n",
       "      <td>322.0</td>\n",
       "      <td>126.0</td>\n",
       "      <td>8.3252</td>\n",
       "      <td>452600.0</td>\n",
       "      <td>NEAR BAY</td>\n",
       "    </tr>\n",
       "    <tr>\n",
       "      <th>1</th>\n",
       "      <td>-122.22</td>\n",
       "      <td>37.86</td>\n",
       "      <td>21.0</td>\n",
       "      <td>7099.0</td>\n",
       "      <td>1106.0</td>\n",
       "      <td>2401.0</td>\n",
       "      <td>1138.0</td>\n",
       "      <td>8.3014</td>\n",
       "      <td>358500.0</td>\n",
       "      <td>NEAR BAY</td>\n",
       "    </tr>\n",
       "    <tr>\n",
       "      <th>2</th>\n",
       "      <td>-122.24</td>\n",
       "      <td>37.85</td>\n",
       "      <td>52.0</td>\n",
       "      <td>1467.0</td>\n",
       "      <td>190.0</td>\n",
       "      <td>496.0</td>\n",
       "      <td>177.0</td>\n",
       "      <td>7.2574</td>\n",
       "      <td>352100.0</td>\n",
       "      <td>NEAR BAY</td>\n",
       "    </tr>\n",
       "    <tr>\n",
       "      <th>3</th>\n",
       "      <td>-122.25</td>\n",
       "      <td>37.85</td>\n",
       "      <td>52.0</td>\n",
       "      <td>1274.0</td>\n",
       "      <td>235.0</td>\n",
       "      <td>558.0</td>\n",
       "      <td>219.0</td>\n",
       "      <td>5.6431</td>\n",
       "      <td>341300.0</td>\n",
       "      <td>NEAR BAY</td>\n",
       "    </tr>\n",
       "    <tr>\n",
       "      <th>4</th>\n",
       "      <td>-122.25</td>\n",
       "      <td>37.85</td>\n",
       "      <td>52.0</td>\n",
       "      <td>1627.0</td>\n",
       "      <td>280.0</td>\n",
       "      <td>565.0</td>\n",
       "      <td>259.0</td>\n",
       "      <td>3.8462</td>\n",
       "      <td>342200.0</td>\n",
       "      <td>NEAR BAY</td>\n",
       "    </tr>\n",
       "  </tbody>\n",
       "</table>\n",
       "</div>"
      ],
      "text/plain": [
       "   longitude  latitude  housing_median_age  total_rooms  total_bedrooms  \\\n",
       "0    -122.23     37.88                41.0        880.0           129.0   \n",
       "1    -122.22     37.86                21.0       7099.0          1106.0   \n",
       "2    -122.24     37.85                52.0       1467.0           190.0   \n",
       "3    -122.25     37.85                52.0       1274.0           235.0   \n",
       "4    -122.25     37.85                52.0       1627.0           280.0   \n",
       "\n",
       "   population  households  median_income  median_house_value ocean_proximity  \n",
       "0       322.0       126.0         8.3252            452600.0        NEAR BAY  \n",
       "1      2401.0      1138.0         8.3014            358500.0        NEAR BAY  \n",
       "2       496.0       177.0         7.2574            352100.0        NEAR BAY  \n",
       "3       558.0       219.0         5.6431            341300.0        NEAR BAY  \n",
       "4       565.0       259.0         3.8462            342200.0        NEAR BAY  "
      ]
     },
     "execution_count": 4,
     "metadata": {},
     "output_type": "execute_result"
    }
   ],
   "source": [
    "dataset_url = \"https://actionengine-public.s3.us-east-2.amazonaws.com/housing.csv\"\n",
    "dataset_path = \"housing.csv\"\n",
    "\n",
    "dataset_data = requests.get(dataset_url, allow_redirects=True)\n",
    "with open(dataset_path, \"wb\") as dataset_file:\n",
    "    dataset_file.write(dataset_data.content)\n",
    "\n",
    "housing = pd.read_csv(dataset_path)\n",
    "housing.head()"
   ]
  },
  {
   "cell_type": "markdown",
   "id": "db55a1df-8e19-405c-a28a-f61eb42d8167",
   "metadata": {},
   "source": [
    "## Feature Engineering"
   ]
  },
  {
   "cell_type": "markdown",
   "id": "36ddbd66-1710-45f0-a4bc-fc11754720f1",
   "metadata": {},
   "source": [
    "### Population Clustering"
   ]
  },
  {
   "cell_type": "code",
   "execution_count": 5,
   "id": "a7bd568b",
   "metadata": {},
   "outputs": [
    {
     "data": {
      "application/vnd.jupyter.widget-view+json": {
       "model_id": "fe51505f47764169bf49a0b22a4673b5",
       "version_major": 2,
       "version_minor": 0
      },
      "text/plain": [
       "UnfoldedMap()"
      ]
     },
     "metadata": {},
     "output_type": "display_data"
    }
   ],
   "source": [
    "population_in_CA = UnfoldedMap()\n",
    "dataset_id = uuid4()\n",
    "\n",
    "population_in_CA.add_dataset(\n",
    "    {\"uuid\": dataset_id, \"label\": \"Population_in_CA\", \"data\": housing},\n",
    "    auto_create_layers=False,\n",
    ")\n",
    "\n",
    "population_in_CA.add_layer(\n",
    "    {\n",
    "        \"id\": \"population_CA\",\n",
    "        \"type\": \"cluster\",\n",
    "        \"config\": {\n",
    "            \"label\": \"population in CA\",\n",
    "            \"data_id\": dataset_id,\n",
    "            \"columns\": {\"lat\": \"latitude\", \"lng\": \"longitude\"},\n",
    "            \"is_visible\": True,\n",
    "            \"color_scale\": \"quantize\",\n",
    "            \"color_field\": {\"name\": \"population\", \"type\": \"real\"},\n",
    "        },\n",
    "    }\n",
    ")\n",
    "\n",
    "population_in_CA.set_view_state(\n",
    "    {\"longitude\": -119.417931, \"latitude\": 36.778259, \"zoom\": 5}\n",
    ")\n",
    "\n",
    "population_in_CA"
   ]
  },
  {
   "cell_type": "markdown",
   "id": "99ac9567-396c-429e-86a1-aa7de70f3f7c",
   "metadata": {},
   "source": [
    "This map shows clustering by city with the largest population "
   ]
  },
  {
   "cell_type": "markdown",
   "id": "57e6dce9-abc9-43a4-975d-4b84902851d6",
   "metadata": {},
   "source": [
    "Create a dictionary with latitude and longitude of the first 5 largest cities in CA"
   ]
  },
  {
   "cell_type": "code",
   "execution_count": 6,
   "id": "f81cec6d",
   "metadata": {},
   "outputs": [],
   "source": [
    "big_cities = {\n",
    "    \"Los Angeles\": (34.052, -118.244),\n",
    "    \"San Diego\": (32.716, -117.165),\n",
    "    \"San Jose\": (37.339, -121.895),\n",
    "    \"San Francisco\": (37.775, -122.419),\n",
    "    \"Fresno\": (36.748, -119.772),\n",
    "}"
   ]
  },
  {
   "cell_type": "markdown",
   "id": "0587cfaf-a1be-4940-9c60-d00c31203131",
   "metadata": {},
   "source": [
    "### Distance To Largest Cities"
   ]
  },
  {
   "cell_type": "markdown",
   "id": "a9bcee73-45b5-4fd8-b668-a2618157a561",
   "metadata": {},
   "source": [
    "Create function to calculate nearest city"
   ]
  },
  {
   "cell_type": "code",
   "execution_count": 7,
   "id": "f7794620",
   "metadata": {},
   "outputs": [],
   "source": [
    "def closest_point(location, location_dict):\n",
    "    shortest_distance = None\n",
    "    shortest_distance_coordinates = None\n",
    "\n",
    "    for loc in location_dict.values():\n",
    "        distance = geodesic(location, loc).kilometers\n",
    "        if shortest_distance is None or distance < shortest_distance:\n",
    "            shortest_distance = distance\n",
    "            shortest_distance_coordinates = loc\n",
    "    return shortest_distance, shortest_distance_coordinates"
   ]
  },
  {
   "cell_type": "markdown",
   "id": "ba16d039-317d-4a45-ae8b-581c4c4c9e51",
   "metadata": {},
   "source": [
    "Find and calculate the distance between each city in dataframe and nearest big city to it"
   ]
  },
  {
   "cell_type": "code",
   "execution_count": 8,
   "id": "1a1c8cdd",
   "metadata": {
    "scrolled": true
   },
   "outputs": [],
   "source": [
    "housing[\"big_city\"] = housing.apply(\n",
    "    lambda x: closest_point((x[\"latitude\"], x[\"longitude\"]), big_cities), axis=1\n",
    ")\n",
    "housing[\"closest_location\"] = [x[0] for x in housing[\"big_city\"].values]\n",
    "housing[\"big_city_dist\"] = [x[1] for x in housing[\"big_city\"].values]\n",
    "\n",
    "housing = housing.drop(\"big_city\", axis=1)"
   ]
  },
  {
   "cell_type": "markdown",
   "id": "6609f3d6-5e64-46fa-a35b-16c2cba4fbaa",
   "metadata": {},
   "source": [
    "Make a dataframe from the data obtained above, with the coordinates of the nearest big city"
   ]
  },
  {
   "cell_type": "code",
   "execution_count": 9,
   "id": "f7f1446c",
   "metadata": {},
   "outputs": [],
   "source": [
    "lat = []\n",
    "lon = []\n",
    "target_lat = []\n",
    "target_lon = []\n",
    "\n",
    "for row in housing.itertuples():\n",
    "    lon.append(row.longitude)\n",
    "    lat.append(row.latitude)\n",
    "    target_city = row.big_city_dist\n",
    "    target_lat.append(target_city[0])\n",
    "    target_lon.append(target_city[1])\n",
    "\n",
    "coords_df = pd.DataFrame(\n",
    "    {\"lat\": lat, \"lon\": lon, \"target_lat\": target_lat, \"target_lon\": target_lon}\n",
    ")"
   ]
  },
  {
   "cell_type": "code",
   "execution_count": 10,
   "id": "cf5a6291",
   "metadata": {},
   "outputs": [
    {
     "data": {
      "application/vnd.jupyter.widget-view+json": {
       "model_id": "b26a693761a8432a9f6530f7f6525635",
       "version_major": 2,
       "version_minor": 0
      },
      "text/plain": [
       "UnfoldedMap()"
      ]
     },
     "metadata": {},
     "output_type": "display_data"
    }
   ],
   "source": [
    "distance_to_big_cities = UnfoldedMap()\n",
    "dist_data_id = uuid4()\n",
    "\n",
    "distance_to_big_cities.add_dataset(\n",
    "    {\n",
    "        \"uuid\": dist_data_id,\n",
    "        \"label\": \"Distance to closest big cities\",\n",
    "        \"data\": coords_df,\n",
    "    },\n",
    "    auto_create_layers=False,\n",
    ")\n",
    "\n",
    "distance_to_big_cities.add_layer(\n",
    "    {\n",
    "        \"id\": \"closest_distance\",\n",
    "        \"type\": \"arc\",\n",
    "        \"config\": {\n",
    "            \"data_id\": dist_data_id,\n",
    "            \"label\": \"distance to closest big cities\",\n",
    "            \"columns\": {\n",
    "                \"lng0\": \"lon\",\n",
    "                \"lng1\": \"target_lon\",\n",
    "                \"lat0\": \"lat\",\n",
    "                \"lat1\": \"target_lat\",\n",
    "            },\n",
    "            \"visConfig\": {\"opacity\": 0.8, \"thickness\": 0.3},\n",
    "            \"is_visible\": True,\n",
    "        },\n",
    "    }\n",
    ")\n",
    "\n",
    "distance_to_big_cities.set_view_state(\n",
    "    {\"longitude\": -119.417931, \"latitude\": 36.778259, \"zoom\": 4.5}\n",
    ")\n",
    "\n",
    "distance_to_big_cities"
   ]
  },
  {
   "cell_type": "markdown",
   "id": "93d4660b-396d-4f17-afbc-fc2717f65125",
   "metadata": {},
   "source": [
    "This map shows a distance from each city to the nearest big city"
   ]
  },
  {
   "cell_type": "markdown",
   "id": "7ada3234-1d8e-4371-a913-956c009433af",
   "metadata": {},
   "source": [
    "## Data Preprocessing"
   ]
  },
  {
   "cell_type": "code",
   "execution_count": 11,
   "id": "edb0c5d1",
   "metadata": {},
   "outputs": [],
   "source": [
    "# we can drop null values as their count is less than 5 %\n",
    "housing.dropna(inplace=True)\n",
    "\n",
    "X = pd.DataFrame(\n",
    "    columns=[\n",
    "        \"longitude\",\n",
    "        \"latitude\",\n",
    "        \"housing_median_age\",\n",
    "        \"total_rooms\",\n",
    "        \"total_bedrooms\",\n",
    "        \"population\",\n",
    "        \"households\",\n",
    "        \"median_income\",\n",
    "        \"ocean_proximity\",\n",
    "    ],\n",
    "    data=housing,\n",
    ")\n",
    "y = pd.DataFrame(columns=[\"median_house_value\"], data=housing)\n",
    "\n",
    "# creating dummy values for ocean_proximity\n",
    "X = pd.get_dummies(\n",
    "    data=X, columns=[\"ocean_proximity\"], prefix=[\"ocean_proximity\"], drop_first=True\n",
    ")"
   ]
  },
  {
   "cell_type": "markdown",
   "id": "40993536-76e3-4503-af0c-ef26f2676bcc",
   "metadata": {},
   "source": [
    "## Data Splitting"
   ]
  },
  {
   "cell_type": "markdown",
   "id": "e7673a78-81da-4bf4-bbca-ba15b2135597",
   "metadata": {
    "tags": []
   },
   "source": [
    "Feature Scaling and split to test, train and validation"
   ]
  },
  {
   "cell_type": "code",
   "execution_count": 12,
   "id": "9fe20ec3",
   "metadata": {},
   "outputs": [],
   "source": [
    "# dividing training data into test, validation and train\n",
    "X_train, X_test, y_train, y_test = train_test_split(X, y, test_size=0.2, random_state=1)\n",
    "\n",
    "X_train, X_val, y_train, y_val = train_test_split(\n",
    "    X_train, y_train, test_size=0.25, random_state=1\n",
    ")\n",
    "\n",
    "start_values = X_test.copy(deep=True)"
   ]
  },
  {
   "cell_type": "markdown",
   "id": "33cd6962-258d-4c18-bb8a-270d03f6aa9f",
   "metadata": {},
   "source": [
    "Using standart scaling with mean and standard deviation from training dataset to avoid data leak"
   ]
  },
  {
   "cell_type": "code",
   "execution_count": 13,
   "id": "03e62a28",
   "metadata": {},
   "outputs": [],
   "source": [
    "# feature standardization\n",
    "scaler = StandardScaler()\n",
    "X_train = scaler.fit_transform(X_train)\n",
    "X_val = scaler.transform(X_val)\n",
    "X_test = scaler.transform(X_test)"
   ]
  },
  {
   "cell_type": "markdown",
   "id": "0a8f9308-6d91-475a-83c1-dfbbef814272",
   "metadata": {},
   "source": [
    "## Price Prediction Model"
   ]
  },
  {
   "cell_type": "code",
   "execution_count": 14,
   "id": "75f697f5",
   "metadata": {},
   "outputs": [
    {
     "name": "stderr",
     "output_type": "stream",
     "text": [
      "2021-09-15 15:23:20.689978: W tensorflow/stream_executor/platform/default/dso_loader.cc:64] Could not load dynamic library 'libcuda.so.1'; dlerror: libcuda.so.1: cannot open shared object file: No such file or directory\n",
      "2021-09-15 15:23:20.690009: W tensorflow/stream_executor/cuda/cuda_driver.cc:269] failed call to cuInit: UNKNOWN ERROR (303)\n",
      "2021-09-15 15:23:20.690045: I tensorflow/stream_executor/cuda/cuda_diagnostics.cc:156] kernel driver does not appear to be running on this host (kseniaevin-G3-3500): /proc/driver/nvidia/version does not exist\n",
      "2021-09-15 15:23:20.690560: I tensorflow/core/platform/cpu_feature_guard.cc:142] This TensorFlow binary is optimized with oneAPI Deep Neural Network Library (oneDNN) to use the following CPU instructions in performance-critical operations:  AVX2 FMA\n",
      "To enable them in other operations, rebuild TensorFlow with the appropriate compiler flags.\n"
     ]
    }
   ],
   "source": [
    "model = Sequential()\n",
    "\n",
    "# input Layer\n",
    "model.add(Dense(X.shape[1], activation=\"relu\", input_dim=X.shape[1]))\n",
    "\n",
    "# hidden Layer\n",
    "model.add(Dense(512, activation=\"relu\"))\n",
    "model.add(Dense(512, activation=\"relu\"))\n",
    "model.add(Dense(256, activation=\"relu\"))\n",
    "model.add(Dense(128, activation=\"relu\"))\n",
    "model.add(Dense(64, activation=\"relu\"))\n",
    "model.add(Dense(32, activation=\"relu\"))\n",
    "\n",
    "# output Layer\n",
    "model.add(Dense(1, activation=\"linear\"))"
   ]
  },
  {
   "cell_type": "code",
   "execution_count": 15,
   "id": "6fc6cb8e",
   "metadata": {
    "tags": []
   },
   "outputs": [
    {
     "name": "stdout",
     "output_type": "stream",
     "text": [
      "Model: \"sequential\"\n",
      "_________________________________________________________________\n",
      "Layer (type)                 Output Shape              Param #   \n",
      "=================================================================\n",
      "dense (Dense)                (None, 12)                156       \n",
      "_________________________________________________________________\n",
      "dense_1 (Dense)              (None, 512)               6656      \n",
      "_________________________________________________________________\n",
      "dense_2 (Dense)              (None, 512)               262656    \n",
      "_________________________________________________________________\n",
      "dense_3 (Dense)              (None, 256)               131328    \n",
      "_________________________________________________________________\n",
      "dense_4 (Dense)              (None, 128)               32896     \n",
      "_________________________________________________________________\n",
      "dense_5 (Dense)              (None, 64)                8256      \n",
      "_________________________________________________________________\n",
      "dense_6 (Dense)              (None, 32)                2080      \n",
      "_________________________________________________________________\n",
      "dense_7 (Dense)              (None, 1)                 33        \n",
      "=================================================================\n",
      "Total params: 444,061\n",
      "Trainable params: 444,061\n",
      "Non-trainable params: 0\n",
      "_________________________________________________________________\n"
     ]
    }
   ],
   "source": [
    "model.compile(loss=\"mse\", optimizer=\"adam\", metrics=[\"mse\", \"mae\"])\n",
    "model.summary()"
   ]
  },
  {
   "cell_type": "markdown",
   "id": "313d0bd8-e34d-427e-b150-53a33a5357f4",
   "metadata": {},
   "source": [
    "### Training"
   ]
  },
  {
   "cell_type": "code",
   "execution_count": null,
   "id": "8a020f49",
   "metadata": {
    "tags": []
   },
   "outputs": [
    {
     "name": "stderr",
     "output_type": "stream",
     "text": [
      "2021-09-15 15:23:20.856246: I tensorflow/compiler/mlir/mlir_graph_optimization_pass.cc:185] None of the MLIR Optimization Passes are enabled (registered 2)\n"
     ]
    },
    {
     "name": "stdout",
     "output_type": "stream",
     "text": [
      "Epoch 1/70\n",
      "1226/1226 [==============================] - 5s 4ms/step - loss: 9551548416.0000 - mse: 9551548416.0000 - mae: 66617.3281 - val_loss: 5288917504.0000 - val_mse: 5288917504.0000 - val_mae: 52647.9258\n",
      "Epoch 2/70\n",
      "1226/1226 [==============================] - 3s 3ms/step - loss: 4746385920.0000 - mse: 4746385920.0000 - mae: 49801.7539 - val_loss: 4732055552.0000 - val_mse: 4732055552.0000 - val_mae: 50217.3633\n",
      "Epoch 3/70\n",
      "1226/1226 [==============================] - 3s 3ms/step - loss: 4362116096.0000 - mse: 4362116096.0000 - mae: 47419.7148 - val_loss: 4459332096.0000 - val_mse: 4459332096.0000 - val_mae: 47405.0000\n",
      "Epoch 4/70\n",
      "1226/1226 [==============================] - 3s 3ms/step - loss: 4135240192.0000 - mse: 4135240192.0000 - mae: 45824.9180 - val_loss: 4451029504.0000 - val_mse: 4451029504.0000 - val_mae: 46803.3359\n",
      "Epoch 5/70\n",
      "1226/1226 [==============================] - 4s 3ms/step - loss: 3967634688.0000 - mse: 3967634688.0000 - mae: 44707.6641 - val_loss: 4228296960.0000 - val_mse: 4228297216.0000 - val_mae: 44985.3867\n",
      "Epoch 6/70\n",
      "1226/1226 [==============================] - 4s 3ms/step - loss: 3851069952.0000 - mse: 3851069952.0000 - mae: 43928.6523 - val_loss: 4312272384.0000 - val_mse: 4312272384.0000 - val_mae: 44780.2461\n",
      "Epoch 7/70\n",
      "1226/1226 [==============================] - 3s 3ms/step - loss: 3806252800.0000 - mse: 3806252800.0000 - mae: 43627.7891 - val_loss: 4210142208.0000 - val_mse: 4210142208.0000 - val_mae: 46681.9258\n",
      "Epoch 8/70\n",
      "1226/1226 [==============================] - 3s 3ms/step - loss: 3687477760.0000 - mse: 3687477760.0000 - mae: 42778.7305 - val_loss: 3929650688.0000 - val_mse: 3929650688.0000 - val_mae: 43992.8359\n",
      "Epoch 9/70\n",
      "1226/1226 [==============================] - 4s 3ms/step - loss: 3595807744.0000 - mse: 3595807744.0000 - mae: 42117.0195 - val_loss: 4411138560.0000 - val_mse: 4411138560.0000 - val_mae: 49298.0781\n",
      "Epoch 10/70\n",
      "1226/1226 [==============================] - 3s 3ms/step - loss: 3525441792.0000 - mse: 3525441792.0000 - mae: 41642.1758 - val_loss: 3983488256.0000 - val_mse: 3983488256.0000 - val_mae: 42644.6367\n",
      "Epoch 11/70\n",
      "1226/1226 [==============================] - 3s 3ms/step - loss: 3491463680.0000 - mse: 3491463936.0000 - mae: 41448.9492 - val_loss: 3757383936.0000 - val_mse: 3757383936.0000 - val_mae: 42023.2383\n",
      "Epoch 12/70\n",
      "1226/1226 [==============================] - 3s 3ms/step - loss: 3398703104.0000 - mse: 3398703104.0000 - mae: 40888.0820 - val_loss: 4155144192.0000 - val_mse: 4155144192.0000 - val_mae: 43308.6133\n",
      "Epoch 13/70\n",
      "1226/1226 [==============================] - 3s 3ms/step - loss: 3368238848.0000 - mse: 3368238848.0000 - mae: 40575.7695 - val_loss: 3660162048.0000 - val_mse: 3660162048.0000 - val_mae: 41516.7773\n",
      "Epoch 14/70\n",
      "1226/1226 [==============================] - 3s 3ms/step - loss: 3319115776.0000 - mse: 3319115776.0000 - mae: 40168.5117 - val_loss: 3687994112.0000 - val_mse: 3687994112.0000 - val_mae: 42337.4023\n",
      "Epoch 15/70\n",
      "1226/1226 [==============================] - 3s 3ms/step - loss: 3290283264.0000 - mse: 3290283264.0000 - mae: 39807.8086 - val_loss: 3884457472.0000 - val_mse: 3884457472.0000 - val_mae: 41789.3125\n",
      "Epoch 16/70\n",
      "1226/1226 [==============================] - 4s 3ms/step - loss: 3278188800.0000 - mse: 3278188800.0000 - mae: 39752.6602 - val_loss: 4264480000.0000 - val_mse: 4264480000.0000 - val_mae: 44206.7188\n",
      "Epoch 17/70\n",
      "1226/1226 [==============================] - 3s 3ms/step - loss: 3248962560.0000 - mse: 3248962560.0000 - mae: 39462.8516 - val_loss: 3698778880.0000 - val_mse: 3698778880.0000 - val_mae: 40570.9961\n",
      "Epoch 18/70\n",
      "1226/1226 [==============================] - 3s 3ms/step - loss: 3244819968.0000 - mse: 3244819968.0000 - mae: 39608.8125 - val_loss: 3481981440.0000 - val_mse: 3481981440.0000 - val_mae: 40677.7578\n",
      "Epoch 19/70\n",
      "1226/1226 [==============================] - 3s 3ms/step - loss: 3167309824.0000 - mse: 3167309824.0000 - mae: 39002.6367 - val_loss: 3836606976.0000 - val_mse: 3836606976.0000 - val_mae: 45610.1289\n",
      "Epoch 20/70\n",
      "1226/1226 [==============================] - 3s 3ms/step - loss: 3130823936.0000 - mse: 3130823936.0000 - mae: 38770.7305 - val_loss: 3404606720.0000 - val_mse: 3404606720.0000 - val_mae: 39670.4297\n",
      "Epoch 21/70\n",
      "1226/1226 [==============================] - 3s 3ms/step - loss: 3113676032.0000 - mse: 3113676032.0000 - mae: 38519.0117 - val_loss: 3386242048.0000 - val_mse: 3386241792.0000 - val_mae: 40217.5078\n",
      "Epoch 22/70\n",
      "1226/1226 [==============================] - 3s 3ms/step - loss: 3125746944.0000 - mse: 3125746944.0000 - mae: 38638.5664 - val_loss: 3524602112.0000 - val_mse: 3524602112.0000 - val_mae: 39908.1562\n",
      "Epoch 23/70\n",
      "1226/1226 [==============================] - 3s 3ms/step - loss: 3076700160.0000 - mse: 3076700160.0000 - mae: 38341.6289 - val_loss: 3581455360.0000 - val_mse: 3581455360.0000 - val_mae: 41196.1953\n",
      "Epoch 24/70\n",
      "1226/1226 [==============================] - 3s 3ms/step - loss: 3067231744.0000 - mse: 3067231744.0000 - mae: 38190.0586 - val_loss: 3718031616.0000 - val_mse: 3718031616.0000 - val_mae: 43791.6328\n",
      "Epoch 25/70\n",
      "1226/1226 [==============================] - 4s 3ms/step - loss: 3027229184.0000 - mse: 3027229184.0000 - mae: 37983.5000 - val_loss: 3385648640.0000 - val_mse: 3385648640.0000 - val_mae: 39122.2656\n",
      "Epoch 26/70\n",
      "1226/1226 [==============================] - 4s 3ms/step - loss: 3044796160.0000 - mse: 3044796160.0000 - mae: 38073.0195 - val_loss: 3460941824.0000 - val_mse: 3460941824.0000 - val_mae: 39327.8828\n",
      "Epoch 27/70\n",
      "1226/1226 [==============================] - 3s 3ms/step - loss: 2999863040.0000 - mse: 2999863040.0000 - mae: 37901.9922 - val_loss: 3291848960.0000 - val_mse: 3291849216.0000 - val_mae: 38623.6445\n",
      "Epoch 28/70\n",
      "1226/1226 [==============================] - 3s 3ms/step - loss: 2996874496.0000 - mse: 2996874496.0000 - mae: 37823.5117 - val_loss: 3460667392.0000 - val_mse: 3460667392.0000 - val_mae: 40523.6250\n",
      "Epoch 29/70\n",
      "1226/1226 [==============================] - 4s 3ms/step - loss: 2986370816.0000 - mse: 2986370816.0000 - mae: 37659.3945 - val_loss: 3635745280.0000 - val_mse: 3635745280.0000 - val_mae: 40046.0703\n",
      "Epoch 30/70\n",
      "1226/1226 [==============================] - 4s 3ms/step - loss: 2959975936.0000 - mse: 2959975680.0000 - mae: 37444.4961 - val_loss: 3453059072.0000 - val_mse: 3453058816.0000 - val_mae: 39313.6406\n",
      "Epoch 31/70\n",
      "1226/1226 [==============================] - 4s 3ms/step - loss: 2946219264.0000 - mse: 2946219264.0000 - mae: 37410.0156 - val_loss: 3325721088.0000 - val_mse: 3325721088.0000 - val_mae: 39284.4531\n",
      "Epoch 32/70\n",
      "1226/1226 [==============================] - 4s 3ms/step - loss: 2922441216.0000 - mse: 2922441216.0000 - mae: 37286.9062 - val_loss: 3477251840.0000 - val_mse: 3477251840.0000 - val_mae: 38857.4492\n",
      "Epoch 33/70\n",
      "1226/1226 [==============================] - 4s 3ms/step - loss: 2899854592.0000 - mse: 2899854592.0000 - mae: 37100.2930 - val_loss: 3241273088.0000 - val_mse: 3241273088.0000 - val_mae: 39071.0703\n",
      "Epoch 34/70\n",
      "1226/1226 [==============================] - 4s 3ms/step - loss: 2887209216.0000 - mse: 2887209216.0000 - mae: 37256.5273 - val_loss: 3573356800.0000 - val_mse: 3573356800.0000 - val_mae: 41799.3594\n",
      "Epoch 35/70\n",
      "1226/1226 [==============================] - 4s 3ms/step - loss: 2899066368.0000 - mse: 2899066368.0000 - mae: 37237.5352 - val_loss: 3369908992.0000 - val_mse: 3369908992.0000 - val_mae: 40008.9492\n",
      "Epoch 36/70\n",
      "1226/1226 [==============================] - 4s 3ms/step - loss: 2860684032.0000 - mse: 2860683776.0000 - mae: 36726.6641 - val_loss: 3433190656.0000 - val_mse: 3433190656.0000 - val_mae: 38424.6445\n",
      "Epoch 37/70\n",
      "1226/1226 [==============================] - 4s 3ms/step - loss: 2846783232.0000 - mse: 2846783232.0000 - mae: 36855.5820 - val_loss: 3398266112.0000 - val_mse: 3398266112.0000 - val_mae: 40224.4609\n",
      "Epoch 38/70\n",
      "1226/1226 [==============================] - 4s 3ms/step - loss: 2866944768.0000 - mse: 2866944768.0000 - mae: 36940.8398 - val_loss: 3217891072.0000 - val_mse: 3217891072.0000 - val_mae: 37958.0781\n",
      "Epoch 39/70\n",
      "1226/1226 [==============================] - 4s 3ms/step - loss: 2842736640.0000 - mse: 2842736640.0000 - mae: 36904.2461 - val_loss: 3240540160.0000 - val_mse: 3240540160.0000 - val_mae: 39382.6016\n",
      "Epoch 40/70\n",
      "1226/1226 [==============================] - 4s 3ms/step - loss: 2806508288.0000 - mse: 2806507776.0000 - mae: 36448.5859 - val_loss: 3303889408.0000 - val_mse: 3303889408.0000 - val_mae: 38971.8906\n",
      "Epoch 41/70\n",
      "1226/1226 [==============================] - 4s 3ms/step - loss: 2793069056.0000 - mse: 2793069056.0000 - mae: 36446.7148 - val_loss: 3516907008.0000 - val_mse: 3516907008.0000 - val_mae: 39616.6250\n",
      "Epoch 42/70\n",
      "1226/1226 [==============================] - 4s 3ms/step - loss: 2805490432.0000 - mse: 2805490432.0000 - mae: 36552.7930 - val_loss: 3335614976.0000 - val_mse: 3335615232.0000 - val_mae: 38508.7422\n",
      "Epoch 43/70\n",
      "1226/1226 [==============================] - 4s 3ms/step - loss: 2794990336.0000 - mse: 2794990336.0000 - mae: 36426.5117 - val_loss: 3263059456.0000 - val_mse: 3263059456.0000 - val_mae: 39222.6484\n",
      "Epoch 44/70\n",
      "1226/1226 [==============================] - 4s 3ms/step - loss: 2738287872.0000 - mse: 2738287872.0000 - mae: 36106.2070 - val_loss: 3181520896.0000 - val_mse: 3181520640.0000 - val_mae: 38940.0547\n",
      "Epoch 45/70\n",
      "1226/1226 [==============================] - 4s 3ms/step - loss: 2749795584.0000 - mse: 2749795584.0000 - mae: 36071.5898 - val_loss: 3346954752.0000 - val_mse: 3346954752.0000 - val_mae: 40120.1367\n",
      "Epoch 46/70\n",
      "1226/1226 [==============================] - 4s 3ms/step - loss: 2714550784.0000 - mse: 2714550784.0000 - mae: 35855.0820 - val_loss: 3195119360.0000 - val_mse: 3195119360.0000 - val_mae: 38034.8398\n",
      "Epoch 47/70\n",
      "1226/1226 [==============================] - 4s 3ms/step - loss: 2700528640.0000 - mse: 2700528640.0000 - mae: 35792.2930 - val_loss: 3192791296.0000 - val_mse: 3192791296.0000 - val_mae: 37855.4727\n",
      "Epoch 48/70\n",
      "1226/1226 [==============================] - 4s 3ms/step - loss: 2684452096.0000 - mse: 2684452096.0000 - mae: 35689.6680 - val_loss: 3193277952.0000 - val_mse: 3193277952.0000 - val_mae: 38969.7969\n",
      "Epoch 49/70\n",
      "1226/1226 [==============================] - 4s 3ms/step - loss: 2688888320.0000 - mse: 2688888320.0000 - mae: 35632.3242 - val_loss: 3402158848.0000 - val_mse: 3402158848.0000 - val_mae: 40851.7109\n",
      "Epoch 50/70\n",
      "1226/1226 [==============================] - 4s 3ms/step - loss: 2707294976.0000 - mse: 2707294976.0000 - mae: 35822.3906 - val_loss: 3222238464.0000 - val_mse: 3222238464.0000 - val_mae: 37693.8633\n",
      "Epoch 51/70\n",
      "1226/1226 [==============================] - 4s 3ms/step - loss: 2670773504.0000 - mse: 2670773504.0000 - mae: 35696.7266 - val_loss: 3216910080.0000 - val_mse: 3216910080.0000 - val_mae: 38807.9102\n",
      "Epoch 52/70\n",
      "1226/1226 [==============================] - 4s 3ms/step - loss: 2667693568.0000 - mse: 2667693568.0000 - mae: 35689.7305 - val_loss: 3792600832.0000 - val_mse: 3792600832.0000 - val_mae: 43769.0625\n",
      "Epoch 53/70\n",
      "1226/1226 [==============================] - 4s 3ms/step - loss: 2637295360.0000 - mse: 2637295360.0000 - mae: 35469.0391 - val_loss: 3291641088.0000 - val_mse: 3291641088.0000 - val_mae: 39423.0234\n",
      "Epoch 54/70\n",
      "1226/1226 [==============================] - 4s 3ms/step - loss: 2634320384.0000 - mse: 2634320384.0000 - mae: 35346.0273 - val_loss: 3523500544.0000 - val_mse: 3523500544.0000 - val_mae: 39551.2695\n",
      "Epoch 55/70\n",
      "1226/1226 [==============================] - 4s 3ms/step - loss: 2606717440.0000 - mse: 2606717440.0000 - mae: 35206.9688 - val_loss: 3221422080.0000 - val_mse: 3221422080.0000 - val_mae: 37718.9453\n",
      "Epoch 56/70\n",
      "1226/1226 [==============================] - 4s 3ms/step - loss: 2617700608.0000 - mse: 2617700608.0000 - mae: 35127.1406 - val_loss: 3133541120.0000 - val_mse: 3133541120.0000 - val_mae: 37217.3672\n",
      "Epoch 57/70\n",
      "1226/1226 [==============================] - 4s 3ms/step - loss: 2589059840.0000 - mse: 2589059840.0000 - mae: 34968.5117 - val_loss: 3237638912.0000 - val_mse: 3237638912.0000 - val_mae: 37737.2344\n",
      "Epoch 58/70\n",
      " 900/1226 [=====================>........] - ETA: 0s - loss: 2581355264.0000 - mse: 2581355264.0000 - mae: 34925.0586"
     ]
    }
   ],
   "source": [
    "history = model.fit(\n",
    "    X_train,\n",
    "    y_train.to_numpy(),\n",
    "    batch_size=10,\n",
    "    epochs=70,\n",
    "    verbose=1,\n",
    "    validation_data=(X_val, y_val),\n",
    ")"
   ]
  },
  {
   "cell_type": "code",
   "execution_count": null,
   "id": "4076a3a4-c154-43ea-a833-6d91ce123bde",
   "metadata": {
    "tags": []
   },
   "outputs": [],
   "source": [
    "# summarize history for loss\n",
    "loss_train = history.history[\"loss\"]\n",
    "loss_val = history.history[\"val_loss\"]\n",
    "epochs = range(1, 71)\n",
    "plt.figure(figsize=(10, 8))\n",
    "plt.plot(epochs, loss_train, \"g\", label=\"Training loss\")\n",
    "plt.plot(epochs, loss_val, \"b\", label=\"Validation loss\")\n",
    "plt.title(\"Training and Validation loss\")\n",
    "plt.xlabel(\"Epochs\")\n",
    "plt.ylabel(\"Loss\")\n",
    "plt.legend()\n",
    "plt.show()"
   ]
  },
  {
   "cell_type": "markdown",
   "id": "ed8bdd26-7a6a-4564-af3b-c2c0cac3f5b2",
   "metadata": {},
   "source": [
    "### Evaluation"
   ]
  },
  {
   "cell_type": "code",
   "execution_count": null,
   "id": "18756b3f",
   "metadata": {},
   "outputs": [],
   "source": [
    "y_pred = model.predict(X_test)\n",
    "model.evaluate(X_test, y_test)"
   ]
  },
  {
   "cell_type": "markdown",
   "id": "a87db7d6-d1a3-420d-9ab2-e6e3223a4aeb",
   "metadata": {},
   "source": [
    "### Prediction"
   ]
  },
  {
   "cell_type": "markdown",
   "id": "7120a0d3-d5d6-4485-aa5b-62275aba026f",
   "metadata": {},
   "source": [
    "Create a dataframe with predicted values obtained from the model"
   ]
  },
  {
   "cell_type": "code",
   "execution_count": null,
   "id": "33d3366a",
   "metadata": {},
   "outputs": [],
   "source": [
    "predict_data = pd.DataFrame(\n",
    "    columns=[\"longitude\", \"latitude\"], data=start_values[[\"longitude\", \"latitude\"]]\n",
    ")\n",
    "predict_data[\"price\"] = y_pred"
   ]
  },
  {
   "cell_type": "markdown",
   "id": "bb728127-0c64-4b4e-ab6b-71d451f33513",
   "metadata": {},
   "source": [
    "### Visualization"
   ]
  },
  {
   "cell_type": "code",
   "execution_count": null,
   "id": "9b15e7f3",
   "metadata": {
    "tags": []
   },
   "outputs": [],
   "source": [
    "housing_predict_prices = UnfoldedMap()\n",
    "price_data_id = uuid4()\n",
    "\n",
    "housing_predict_prices.add_dataset(\n",
    "    {\n",
    "        \"uuid\": price_data_id,\n",
    "        \"label\": \"Predict housing prices in CA\",\n",
    "        \"data\": predict_data,\n",
    "    },\n",
    "    auto_create_layers=False,\n",
    ")\n",
    "\n",
    "housing_predict_prices.add_layer(\n",
    "    {\n",
    "        \"id\": \"housing_prices\",\n",
    "        \"type\": \"hexagon\",\n",
    "        \"config\": {\n",
    "            \"label\": \"housing prices\",\n",
    "            \"data_id\": price_data_id,\n",
    "            \"columns\": {\"lat\": \"latitude\", \"lng\": \"longitude\"},\n",
    "            \"is_visible\": True,\n",
    "            \"color_scale\": \"quantize\",\n",
    "            \"color_field\": {\"name\": \"price\", \"type\": \"real\"},\n",
    "            \"vis_config\": {\n",
    "                \"colorRange\": {\n",
    "                    \"colors\": [\n",
    "                        \"#E6F598\",\n",
    "                        \"#ABDDA4\",\n",
    "                        \"#66C2A5\",\n",
    "                        \"#3288BD\",\n",
    "                        \"#5E4FA2\",\n",
    "                        \"#9E0142\",\n",
    "                        \"#D53E4F\",\n",
    "                        \"#F46D43\",\n",
    "                        \"#FDAE61\",\n",
    "                        \"#FEE08B\",\n",
    "                    ]\n",
    "                }\n",
    "            },\n",
    "        },\n",
    "    }\n",
    ")\n",
    "\n",
    "housing_predict_prices.set_view_state(\n",
    "    {\"longitude\": -119.417931, \"latitude\": 36.6, \"zoom\": 6}\n",
    ")\n",
    "\n",
    "housing_predict_prices"
   ]
  },
  {
   "cell_type": "markdown",
   "id": "ddd17fd8-9532-416e-b192-a2313ccfc19a",
   "metadata": {
    "tags": []
   },
   "source": [
    "This map shows obtained prices on houses in CA"
   ]
  },
  {
   "cell_type": "markdown",
   "id": "e9b897ea-3a74-47bf-bf56-e006e4e0bae8",
   "metadata": {
    "tags": []
   },
   "source": [
    "## Clustering Model"
   ]
  },
  {
   "cell_type": "markdown",
   "id": "ae748c09-3336-4b5d-9d7b-f6b5cd8a3674",
   "metadata": {},
   "source": [
    "Create clusters with different price levels using the KMeans algorithm"
   ]
  },
  {
   "cell_type": "code",
   "execution_count": null,
   "id": "f477d583",
   "metadata": {},
   "outputs": [],
   "source": [
    "k = 5\n",
    "km = KMeans(n_clusters=k, init=\"k-means++\")\n",
    "X = predict_data[[\"latitude\", \"longitude\", \"price\"]]\n",
    "\n",
    "# clustering\n",
    "dtf_X = X.copy()\n",
    "dtf_X[\"cluster\"] = km.fit_predict(X)\n",
    "\n",
    "# add clustering info to the original dataset\n",
    "predict_data[[\"cluster\"]] = dtf_X[[\"cluster\"]]"
   ]
  },
  {
   "cell_type": "markdown",
   "id": "cc816d7f-67c1-4b83-abbb-22784a511164",
   "metadata": {},
   "source": [
    "### Visualization"
   ]
  },
  {
   "cell_type": "code",
   "execution_count": null,
   "id": "b0b4943a",
   "metadata": {},
   "outputs": [],
   "source": [
    "fig, ax = plt.subplots()\n",
    "sns.scatterplot(\n",
    "    x=\"latitude\",\n",
    "    y=\"longitude\",\n",
    "    data=predict_data,\n",
    "    palette=sns.color_palette(\"bright\", k),\n",
    "    hue=\"cluster\",\n",
    "    size_order=[1, 0],\n",
    "    ax=ax,\n",
    ").set_title(\"Clustering (k=\" + str(k) + \")\")"
   ]
  },
  {
   "cell_type": "code",
   "execution_count": null,
   "id": "a2897425",
   "metadata": {},
   "outputs": [],
   "source": [
    "prices_dataset_id = uuid4()\n",
    "unfolded_map_prices = UnfoldedMap()\n",
    "\n",
    "unfolded_map_prices.add_dataset(\n",
    "    {\"uuid\": prices_dataset_id, \"label\": \"Prices\", \"data\": predict_data},\n",
    "    auto_create_layers=False,\n",
    ")\n",
    "\n",
    "unfolded_map_prices.add_layer(\n",
    "    {\n",
    "        \"id\": \"prices_CA\",\n",
    "        \"type\": \"point\",\n",
    "        \"config\": {\n",
    "            \"data_id\": prices_dataset_id,\n",
    "            \"label\": \"clustering of prices\",\n",
    "            \"columns\": {\"lat\": \"latitude\", \"lng\": \"longitude\"},\n",
    "            \"is_visible\": True,\n",
    "            \"color_scale\": \"quantize\",\n",
    "            \"color_field\": {\"name\": \"cluster\", \"type\": \"real\"},\n",
    "            \"vis_config\": {\n",
    "                \"colorRange\": {\n",
    "                    \"colors\": [\"#7FFFD4\", \"#8A2BE2\", \"#00008B\", \"#FF8C00\", \"#FF1493\"]\n",
    "                }\n",
    "            },\n",
    "        },\n",
    "    }\n",
    ")\n",
    "\n",
    "unfolded_map_prices.set_view_state(\n",
    "    {\"longitude\": -119.417931, \"latitude\": 36.778259, \"zoom\": 4}\n",
    ")\n",
    "\n",
    "unfolded_map_prices"
   ]
  },
  {
   "cell_type": "markdown",
   "id": "9dcdba5f-f809-4219-9247-060371857895",
   "metadata": {},
   "source": [
    "This map shows obtained clusters"
   ]
  }
 ],
 "metadata": {
  "kernelspec": {
   "display_name": "Python 3 (ipykernel)",
   "language": "python",
   "name": "python3"
  },
  "language_info": {
   "codemirror_mode": {
    "name": "ipython",
    "version": 3
   },
   "file_extension": ".py",
   "mimetype": "text/x-python",
   "name": "python",
   "nbconvert_exporter": "python",
   "pygments_lexer": "ipython3",
   "version": "3.9.5"
  }
 },
 "nbformat": 4,
 "nbformat_minor": 5
}
