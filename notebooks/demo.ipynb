{
 "cells": [
  {
   "cell_type": "markdown",
   "id": "bb890dbc",
   "metadata": {},
   "source": [
    "## Unfolded Map SDK Example\n",
    "\n",
    "This notebook is an example of using the beta `unfolded.map-sdk` module in Jupyter."
   ]
  },
  {
   "cell_type": "code",
   "execution_count": 1,
   "id": "6776c680",
   "metadata": {},
   "outputs": [],
   "source": [
    "from unfolded.map_sdk import UnfoldedMap, models"
   ]
  },
  {
   "cell_type": "markdown",
   "id": "2a2037e8",
   "metadata": {
    "tags": []
   },
   "source": [
    "First we create a map using a UUID of a published map:"
   ]
  },
  {
   "cell_type": "code",
   "execution_count": 2,
   "id": "8ef3a29d",
   "metadata": {},
   "outputs": [],
   "source": [
    "my_map = UnfoldedMap(mapUUID='ae4f5345-8507-49ec-85f6-a1f8c7bc2219')"
   ]
  },
  {
   "cell_type": "markdown",
   "id": "3e50723f-9853-4d8f-a61d-d1e3b651c1b9",
   "metadata": {},
   "source": [
    "We can use the [`jupyterlab-sidecar`](https://github.com/jupyter-widgets/jupyterlab-sidecar) package to display the map in JupyterLab's sidebar.\n",
    "You can install the package with `pip install sidecar`"
   ]
  },
  {
   "cell_type": "code",
   "execution_count": 3,
   "id": "79a5845c-d90a-42c4-9803-636d490e0bbe",
   "metadata": {},
   "outputs": [],
   "source": [
    "from sidecar import Sidecar\n",
    "\n",
    "sc = Sidecar(title='Unfolded Map', anchor='split-right')\n",
    "with sc:\n",
    "    display(my_map)"
   ]
  },
  {
   "cell_type": "markdown",
   "id": "8768bd3f",
   "metadata": {
    "tags": []
   },
   "source": [
    "After waiting for the map to finish loading, we can issue commands to the map:"
   ]
  },
  {
   "cell_type": "code",
   "execution_count": 4,
   "id": "a99965e2",
   "metadata": {},
   "outputs": [],
   "source": [
    "layers_future = my_map.get_layers()"
   ]
  },
  {
   "cell_type": "markdown",
   "id": "3bd8b102",
   "metadata": {},
   "source": [
    "With the current beta implementation, we need to separate these two cells, and need to call `.result` after the `get_layers` function has finished."
   ]
  },
  {
   "cell_type": "code",
   "execution_count": 5,
   "id": "da367624",
   "metadata": {},
   "outputs": [],
   "source": [
    "layers = layers_future.result()\n",
    "layer = layers[0]"
   ]
  },
  {
   "cell_type": "markdown",
   "id": "045d5574",
   "metadata": {},
   "source": [
    "`layers` is now a list of layers that exist on the map shown above."
   ]
  },
  {
   "cell_type": "code",
   "execution_count": 6,
   "id": "20a537fe",
   "metadata": {},
   "outputs": [
    {
     "data": {
      "text/plain": [
       "[Layer(label='Point', id='25smxo6', is_visible=True)]"
      ]
     },
     "execution_count": 6,
     "metadata": {},
     "output_type": "execute_result"
    }
   ],
   "source": [
    "layers"
   ]
  },
  {
   "cell_type": "markdown",
   "id": "815a5da9",
   "metadata": {},
   "source": [
    "We can also turn the visibility of layers on and off:"
   ]
  },
  {
   "cell_type": "code",
   "execution_count": 7,
   "id": "723a7ef3",
   "metadata": {},
   "outputs": [
    {
     "data": {
      "text/plain": [
       "<Future pending>"
      ]
     },
     "execution_count": 7,
     "metadata": {},
     "output_type": "execute_result"
    }
   ],
   "source": [
    "# Hide layer\n",
    "my_map.set_layer_visibility(layer_id=layer.id, is_visible=False)"
   ]
  },
  {
   "cell_type": "code",
   "execution_count": 8,
   "id": "4f146a01",
   "metadata": {},
   "outputs": [
    {
     "data": {
      "text/plain": [
       "<Future pending>"
      ]
     },
     "execution_count": 8,
     "metadata": {},
     "output_type": "execute_result"
    }
   ],
   "source": [
    "# Show layer again\n",
    "my_map.set_layer_visibility(layer_id=layer.id, is_visible=True)"
   ]
  },
  {
   "cell_type": "markdown",
   "id": "2385c73d",
   "metadata": {},
   "source": [
    "We can center the map on a new location:"
   ]
  },
  {
   "cell_type": "code",
   "execution_count": 9,
   "id": "92d9b429",
   "metadata": {},
   "outputs": [
    {
     "data": {
      "text/plain": [
       "<Future pending>"
      ]
     },
     "execution_count": 9,
     "metadata": {},
     "output_type": "execute_result"
    }
   ],
   "source": [
    "# Set view state\n",
    "view_state = models.ViewState(longitude=1, latitude=51, zoom=4)\n",
    "my_map.set_view_state(view_state)"
   ]
  },
  {
   "cell_type": "markdown",
   "id": "b32165de",
   "metadata": {},
   "source": [
    "We can change the map's theme between light and dark:"
   ]
  },
  {
   "cell_type": "code",
   "execution_count": 10,
   "id": "61d9fe8c",
   "metadata": {},
   "outputs": [],
   "source": [
    "# Set map theme\n",
    "my_map.set_theme('light')"
   ]
  },
  {
   "cell_type": "code",
   "execution_count": 11,
   "id": "828bbbfb",
   "metadata": {},
   "outputs": [],
   "source": [
    "my_map.set_theme('dark')"
   ]
  }
 ],
 "metadata": {
  "kernelspec": {
   "display_name": "Python 3",
   "language": "python",
   "name": "python3"
  },
  "language_info": {
   "codemirror_mode": {
    "name": "ipython",
    "version": 3
   },
   "file_extension": ".py",
   "mimetype": "text/x-python",
   "name": "python",
   "nbconvert_exporter": "python",
   "pygments_lexer": "ipython3",
   "version": "3.8.5"
  }
 },
 "nbformat": 4,
 "nbformat_minor": 5
}
