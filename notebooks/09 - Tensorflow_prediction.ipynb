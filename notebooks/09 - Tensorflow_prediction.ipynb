{
 "cells": [
  {
   "cell_type": "markdown",
   "id": "de84a707-c5e0-45af-a66a-66787b417872",
   "metadata": {},
   "source": [
    "# House Price Prediction With TensorFlow"
   ]
  },
  {
   "cell_type": "markdown",
   "id": "05c04f6f-6bdb-4cf6-8a4e-64639c262a74",
   "metadata": {},
   "source": [
    "This example demonstrates how the Unfolded Map SDK allows for more engaging exploratory data visualization, helping to simplify the process of building a machine learning model for predicting median house prices in California."
   ]
  },
  {
   "cell_type": "markdown",
   "id": "db1cc8d4-69cb-412f-8727-233d26ad954f",
   "metadata": {},
   "source": [
    "## Dependencies "
   ]
  },
  {
   "cell_type": "markdown",
   "id": "b241896e-9cdc-4143-ba2b-3fd303ad05f6",
   "metadata": {},
   "source": [
    "This notebook uses the following dependencies:\n",
    "\n",
    "- pandas\n",
    "- numpy\n",
    "- scikit-learn\n",
    "- scipy\n",
    "- seaborn\n",
    "- matplotlib\n",
    "- tensorflow\n",
    "\n",
    "If those aren't already installed, run the following command:\n",
    "\n",
    "```bash\n",
    "pip install pandas numpy scikit-learn scipy seaborn matplotlib tensorflow\n",
    "```\n",
    "\n",
    "This notebook was originally tested with the following package versions, but likely works with a broad range of versions:\n",
    "\n",
    "- pandas==1.3.2\n",
    "- numpy==1.19.5\n",
    "- scikit-learn==0.24.2\n",
    "- scipy==1.7.1\n",
    "- seaborn==0.11.2\n",
    "- matplotlib==3.4.3\n",
    "- tensorflow==2.6.0"
   ]
  },
  {
   "cell_type": "markdown",
   "id": "a3f5160c-4f05-4dc1-9e6a-d044dd81947f",
   "metadata": {},
   "source": [
    "## Imports"
   ]
  },
  {
   "cell_type": "code",
   "execution_count": 1,
   "id": "b45c477b-a2e3-4783-b4d7-6771126de879",
   "metadata": {},
   "outputs": [],
   "source": [
    "from uuid import uuid4\n",
    "\n",
    "import matplotlib.pyplot as plt\n",
    "import numpy as np\n",
    "import pandas as pd\n",
    "import seaborn as sns\n",
    "import tensorflow as tf\n",
    "from scipy.cluster.vq import vq\n",
    "from sklearn.cluster import KMeans\n",
    "from sklearn.model_selection import train_test_split\n",
    "from sklearn.preprocessing import StandardScaler\n",
    "\n",
    "from tensorflow import keras\n",
    "from tensorflow.keras import Sequential, optimizers\n",
    "from tensorflow.keras.layers import Dense, Flatten, Softmax\n",
    "\n",
    "from unfolded.map_sdk import UnfoldedMap"
   ]
  },
  {
   "cell_type": "markdown",
   "id": "a794e22f-8b77-4fe5-899e-1f8cb4604099",
   "metadata": {},
   "source": [
    "## Data Loading"
   ]
  },
  {
   "cell_type": "markdown",
   "id": "135904b7-f8bf-4ffc-96c6-4860dd2a90d9",
   "metadata": {},
   "source": [
    "For this example we'll use data from Kaggle's [California Housing Prices](https://www.kaggle.com/camnugent/california-housing-prices) dataset under the CC0 license."
   ]
  },
  {
   "cell_type": "code",
   "execution_count": 2,
   "id": "3367c4bc-2b9e-4442-a51b-3fb2a2afac78",
   "metadata": {
    "tags": []
   },
   "outputs": [
    {
     "data": {
      "text/html": [
       "<div>\n",
       "<style scoped>\n",
       "    .dataframe tbody tr th:only-of-type {\n",
       "        vertical-align: middle;\n",
       "    }\n",
       "\n",
       "    .dataframe tbody tr th {\n",
       "        vertical-align: top;\n",
       "    }\n",
       "\n",
       "    .dataframe thead th {\n",
       "        text-align: right;\n",
       "    }\n",
       "</style>\n",
       "<table border=\"1\" class=\"dataframe\">\n",
       "  <thead>\n",
       "    <tr style=\"text-align: right;\">\n",
       "      <th></th>\n",
       "      <th>longitude</th>\n",
       "      <th>latitude</th>\n",
       "      <th>housing_median_age</th>\n",
       "      <th>total_rooms</th>\n",
       "      <th>total_bedrooms</th>\n",
       "      <th>population</th>\n",
       "      <th>households</th>\n",
       "      <th>median_income</th>\n",
       "      <th>median_house_value</th>\n",
       "      <th>ocean_proximity</th>\n",
       "    </tr>\n",
       "  </thead>\n",
       "  <tbody>\n",
       "    <tr>\n",
       "      <th>0</th>\n",
       "      <td>-122.23</td>\n",
       "      <td>37.88</td>\n",
       "      <td>41.0</td>\n",
       "      <td>880.0</td>\n",
       "      <td>129.0</td>\n",
       "      <td>322.0</td>\n",
       "      <td>126.0</td>\n",
       "      <td>8.3252</td>\n",
       "      <td>452600.0</td>\n",
       "      <td>NEAR BAY</td>\n",
       "    </tr>\n",
       "    <tr>\n",
       "      <th>1</th>\n",
       "      <td>-122.22</td>\n",
       "      <td>37.86</td>\n",
       "      <td>21.0</td>\n",
       "      <td>7099.0</td>\n",
       "      <td>1106.0</td>\n",
       "      <td>2401.0</td>\n",
       "      <td>1138.0</td>\n",
       "      <td>8.3014</td>\n",
       "      <td>358500.0</td>\n",
       "      <td>NEAR BAY</td>\n",
       "    </tr>\n",
       "    <tr>\n",
       "      <th>2</th>\n",
       "      <td>-122.24</td>\n",
       "      <td>37.85</td>\n",
       "      <td>52.0</td>\n",
       "      <td>1467.0</td>\n",
       "      <td>190.0</td>\n",
       "      <td>496.0</td>\n",
       "      <td>177.0</td>\n",
       "      <td>7.2574</td>\n",
       "      <td>352100.0</td>\n",
       "      <td>NEAR BAY</td>\n",
       "    </tr>\n",
       "    <tr>\n",
       "      <th>3</th>\n",
       "      <td>-122.25</td>\n",
       "      <td>37.85</td>\n",
       "      <td>52.0</td>\n",
       "      <td>1274.0</td>\n",
       "      <td>235.0</td>\n",
       "      <td>558.0</td>\n",
       "      <td>219.0</td>\n",
       "      <td>5.6431</td>\n",
       "      <td>341300.0</td>\n",
       "      <td>NEAR BAY</td>\n",
       "    </tr>\n",
       "    <tr>\n",
       "      <th>4</th>\n",
       "      <td>-122.25</td>\n",
       "      <td>37.85</td>\n",
       "      <td>52.0</td>\n",
       "      <td>1627.0</td>\n",
       "      <td>280.0</td>\n",
       "      <td>565.0</td>\n",
       "      <td>259.0</td>\n",
       "      <td>3.8462</td>\n",
       "      <td>342200.0</td>\n",
       "      <td>NEAR BAY</td>\n",
       "    </tr>\n",
       "  </tbody>\n",
       "</table>\n",
       "</div>"
      ],
      "text/plain": [
       "   longitude  latitude  housing_median_age  total_rooms  total_bedrooms  \\\n",
       "0    -122.23     37.88                41.0        880.0           129.0   \n",
       "1    -122.22     37.86                21.0       7099.0          1106.0   \n",
       "2    -122.24     37.85                52.0       1467.0           190.0   \n",
       "3    -122.25     37.85                52.0       1274.0           235.0   \n",
       "4    -122.25     37.85                52.0       1627.0           280.0   \n",
       "\n",
       "   population  households  median_income  median_house_value ocean_proximity  \n",
       "0       322.0       126.0         8.3252            452600.0        NEAR BAY  \n",
       "1      2401.0      1138.0         8.3014            358500.0        NEAR BAY  \n",
       "2       496.0       177.0         7.2574            352100.0        NEAR BAY  \n",
       "3       558.0       219.0         5.6431            341300.0        NEAR BAY  \n",
       "4       565.0       259.0         3.8462            342200.0        NEAR BAY  "
      ]
     },
     "execution_count": 2,
     "metadata": {},
     "output_type": "execute_result"
    }
   ],
   "source": [
    "dataset_url = \"https://actionengine-public.s3.us-east-2.amazonaws.com/housing.csv\"\n",
    "housing = pd.read_csv(dataset_url)\n",
    "housing.head()"
   ]
  },
  {
   "cell_type": "markdown",
   "id": "db55a1df-8e19-405c-a28a-f61eb42d8167",
   "metadata": {},
   "source": [
    "## Feature Engineering"
   ]
  },
  {
   "cell_type": "markdown",
   "id": "ab58b8d8",
   "metadata": {},
   "source": [
    "First, let's take a look at the input data and try to visualize different aspects of them in a map."
   ]
  },
  {
   "cell_type": "markdown",
   "id": "36ddbd66-1710-45f0-a4bc-fc11754720f1",
   "metadata": {},
   "source": [
    "### Population Clustering"
   ]
  },
  {
   "cell_type": "markdown",
   "id": "c9157662-e55d-4b14-8b50-97b77873ca2f",
   "metadata": {},
   "source": [
    "Here we'll create a map that clusters by city with the largest population. Note that since the clustering happens within Unfolded Studio, the clusters change as you zoom in, allowing you to explore your data at various resolutions."
   ]
  },
  {
   "cell_type": "code",
   "execution_count": 3,
   "id": "a7bd568b",
   "metadata": {},
   "outputs": [
    {
     "data": {
      "application/vnd.jupyter.widget-view+json": {
       "model_id": "28e2c4f2a819486097481f6ca77ab11c",
       "version_major": 2,
       "version_minor": 0
      },
      "text/plain": [
       "UnfoldedMap()"
      ]
     },
     "metadata": {},
     "output_type": "display_data"
    }
   ],
   "source": [
    "population_in_CA = UnfoldedMap()\n",
    "\n",
    "# Create a persistent dataset ID that we can reference in both add_dataset and add_layer\n",
    "dataset_id = uuid4()\n",
    "\n",
    "population_in_CA.add_dataset(\n",
    "    {\"uuid\": dataset_id, \"label\": \"Population_in_CA\", \"data\": housing},\n",
    "    auto_create_layers=False,\n",
    ")\n",
    "\n",
    "population_in_CA.add_layer(\n",
    "    {\n",
    "        \"id\": \"population_CA\",\n",
    "        \"type\": \"cluster\",\n",
    "        \"config\": {\n",
    "            \"label\": \"population in CA\",\n",
    "            \"data_id\": dataset_id,\n",
    "            \"columns\": {\"lat\": \"latitude\", \"lng\": \"longitude\"},\n",
    "            \"is_visible\": True,\n",
    "            \"color_scale\": \"quantize\",\n",
    "            \"color_field\": {\"name\": \"population\", \"type\": \"real\"},\n",
    "        },\n",
    "    }\n",
    ")\n",
    "\n",
    "population_in_CA.set_view_state(\n",
    "    {\"longitude\": -119.417931, \"latitude\": 36.778259, \"zoom\": 5}\n",
    ")\n",
    "\n",
    "population_in_CA"
   ]
  },
  {
   "cell_type": "markdown",
   "id": "0587cfaf-a1be-4940-9c60-d00c31203131",
   "metadata": {},
   "source": [
    "### Distance To Largest Cities"
   ]
  },
  {
   "cell_type": "markdown",
   "id": "77d9f9a7",
   "metadata": {},
   "source": [
    "For example purposes, we'll take the five largest cities in California and compare our input data against these locations."
   ]
  },
  {
   "cell_type": "code",
   "execution_count": 4,
   "id": "f81cec6d",
   "metadata": {},
   "outputs": [],
   "source": [
    "# Longitude-latitude pairs for large cities\n",
    "cities = {\n",
    "    \"Los Angeles\": (-118.244, 34.052),\n",
    "    \"San Diego\": (-117.165, 32.716),\n",
    "    \"San Jose\": (-121.895, 37.339),\n",
    "    \"San Francisco\": (-122.419, 37.775),\n",
    "    \"Fresno\": (-119.772, 36.748),\n",
    "}"
   ]
  },
  {
   "cell_type": "markdown",
   "id": "a9bcee73-45b5-4fd8-b668-a2618157a561",
   "metadata": {},
   "source": [
    "Next we need to find the closest city for each row in our data sample."
   ]
  },
  {
   "cell_type": "code",
   "execution_count": 5,
   "id": "685c99b5-3256-4739-a457-5c670850069f",
   "metadata": {},
   "outputs": [],
   "source": [
    "def distance(lng1, lat1, lng2, lat2):\n",
    "    \"\"\"Vectorized Haversine formula\n",
    "\n",
    "    Computes distances between two sets of points.\n",
    "\n",
    "    From: https://stackoverflow.com/a/51722117\n",
    "    \"\"\"\n",
    "    # approximate radius of earth in km\n",
    "    R = 6372.8\n",
    "\n",
    "    lat1 = lat1*np.pi/180.0\n",
    "    lng1 = np.deg2rad(lng1)\n",
    "    lat2 = np.deg2rad(lat2)\n",
    "    lng2 = np.deg2rad(lng2)\n",
    "\n",
    "    d = np.sin((lat2 - lat1)/2)**2 + np.cos(lat1)*np.cos(lat2) * np.sin((lng2 - lng1)/2)**2\n",
    "\n",
    "    return 2 * R * np.arcsin(np.sqrt(d))"
   ]
  },
  {
   "cell_type": "code",
   "execution_count": 6,
   "id": "5c729046-6a42-4241-8fd7-6dac2264ab54",
   "metadata": {},
   "outputs": [],
   "source": [
    "def closest_city(lng_array, lat_array, cities):\n",
    "    \"\"\"Find the closest_city for each row in lng_array and lat_array input\n",
    "    \"\"\"\n",
    "    distances = []\n",
    "\n",
    "    # Compute distance from each row of arrays to each of our city inputs\n",
    "    for city_name, coord in cities.items():\n",
    "        distances.append(distance(lng_array, lat_array, *coord))\n",
    "\n",
    "    # Convert this list of numpy arrays into a 2D numpy array\n",
    "    distances = np.array(distances)\n",
    "\n",
    "    # Find the shortest distance value for each row\n",
    "    shortest_distances = np.amin(distances, axis=0)\n",
    "\n",
    "    # Find the _index_ of the shortest distance for each row. Then use this value to\n",
    "    # lookup the longitude-latitude pair of the closest city\n",
    "    city_index = np.argmin(distances, axis=0)\n",
    "\n",
    "    # Create a 2D numpy array of location coordinates\n",
    "    # Then use the indexes from above to perform a lookup against the order of cities as\n",
    "    # input. (Note: this relies on the fact that in Python 3.6+ dictionaries are\n",
    "    # ordered)\n",
    "    input_coords = np.array(list(cities.values()))\n",
    "    closest_city_coords = input_coords[city_index]\n",
    "\n",
    "    # Return a 2D array with three columns:\n",
    "    # - Distance to closest city\n",
    "    # - Longitude of closest city\n",
    "    # - Latitude of closest city\n",
    "    return np.hstack((shortest_distances[:, np.newaxis], closest_city_coords))"
   ]
  },
  {
   "cell_type": "markdown",
   "id": "1c5c6f5d-0cab-4881-9612-eacc8327f3bc",
   "metadata": {},
   "source": [
    "Then use the `closest_city` function on our data to create three new columns:"
   ]
  },
  {
   "cell_type": "code",
   "execution_count": 7,
   "id": "50cb61de-5a70-4cd9-86c4-3e9686cbf55e",
   "metadata": {},
   "outputs": [],
   "source": [
    "housing[['closest_city_dist', 'closest_city_lng', 'closest_city_lat']] = closest_city(\n",
    "    housing['longitude'], housing['latitude'], cities\n",
    ")"
   ]
  },
  {
   "cell_type": "markdown",
   "id": "e7c0da2d",
   "metadata": {},
   "source": [
    "This map shows the distances between the locations and their nearest big cities"
   ]
  },
  {
   "cell_type": "code",
   "execution_count": 8,
   "id": "cf5a6291",
   "metadata": {},
   "outputs": [
    {
     "data": {
      "application/vnd.jupyter.widget-view+json": {
       "model_id": "b7e092b2f6a44f578311f67589405a33",
       "version_major": 2,
       "version_minor": 0
      },
      "text/plain": [
       "UnfoldedMap()"
      ]
     },
     "metadata": {},
     "output_type": "display_data"
    }
   ],
   "source": [
    "distance_to_big_cities = UnfoldedMap()\n",
    "dist_data_id = uuid4()\n",
    "\n",
    "distance_to_big_cities.add_dataset(\n",
    "    {\n",
    "        \"uuid\": dist_data_id,\n",
    "        \"label\": \"Distance to closest big cities\",\n",
    "        \"data\": housing,\n",
    "    },\n",
    "    auto_create_layers=False,\n",
    ")\n",
    "\n",
    "distance_to_big_cities.add_layer(\n",
    "    {\n",
    "        \"id\": \"closest_distance\",\n",
    "        \"type\": \"arc\",\n",
    "        \"config\": {\n",
    "            \"data_id\": dist_data_id,\n",
    "            \"label\": \"distance to closest big cities\",\n",
    "            \"columns\": {\n",
    "                \"lng0\": \"longitude\",\n",
    "                \"lat0\": \"latitude\",\n",
    "                \"lng1\": \"closest_city_lng\",\n",
    "                \"lat1\": \"closest_city_lat\",\n",
    "            },\n",
    "            \"visConfig\": {\"opacity\": 0.8, \"thickness\": 0.3},\n",
    "            \"is_visible\": True,\n",
    "        },\n",
    "    }\n",
    ")\n",
    "\n",
    "distance_to_big_cities.set_view_state(\n",
    "    {\"longitude\": -119.417931, \"latitude\": 36.778259, \"zoom\": 4.5}\n",
    ")\n",
    "\n",
    "distance_to_big_cities"
   ]
  },
  {
   "cell_type": "markdown",
   "id": "7ada3234-1d8e-4371-a913-956c009433af",
   "metadata": {},
   "source": [
    "## Data Preprocessing"
   ]
  },
  {
   "cell_type": "markdown",
   "id": "5fd3191d",
   "metadata": {},
   "source": [
    "Here we are preparing data for training a TensorFlow model:"
   ]
  },
  {
   "cell_type": "code",
   "execution_count": 11,
   "id": "edb0c5d1",
   "metadata": {},
   "outputs": [],
   "source": [
    "# we can drop null values as their count is less than 5 %\n",
    "housing = housing.dropna()\n",
    "\n",
    "X = pd.DataFrame(\n",
    "    columns=[\n",
    "        \"longitude\",\n",
    "        \"latitude\",\n",
    "        \"housing_median_age\",\n",
    "        \"total_rooms\",\n",
    "        \"total_bedrooms\",\n",
    "        \"population\",\n",
    "        \"households\",\n",
    "        \"median_income\",\n",
    "        \"ocean_proximity\",\n",
    "    ],\n",
    "    data=housing,\n",
    ")\n",
    "y = pd.DataFrame(columns=[\"median_house_value\"], data=housing)\n",
    "\n",
    "# converting ocean_proximity into new separate columns ('NEAR BAY', '<1H OCEAN', 'INLAND', 'NEAR OCEAN', 'ISLAND')\n",
    "X = pd.get_dummies(\n",
    "    data=X, columns=[\"ocean_proximity\"], prefix=[\"ocean_proximity\"], drop_first=True\n",
    ")"
   ]
  },
  {
   "cell_type": "markdown",
   "id": "40993536-76e3-4503-af0c-ef26f2676bcc",
   "metadata": {},
   "source": [
    "## Data Splitting"
   ]
  },
  {
   "cell_type": "markdown",
   "id": "e7673a78-81da-4bf4-bbca-ba15b2135597",
   "metadata": {
    "tags": []
   },
   "source": [
    "We split the data into training, validation and test sets"
   ]
  },
  {
   "cell_type": "code",
   "execution_count": 13,
   "id": "9fe20ec3",
   "metadata": {},
   "outputs": [],
   "source": [
    "# dividing training data into test, validation and train\n",
    "X_train, X_test, y_train, y_test = train_test_split(X, y, test_size=0.2, random_state=1)\n",
    "\n",
    "X_train, X_val, y_train, y_val = train_test_split(\n",
    "    X_train, y_train, test_size=0.25, random_state=1\n",
    ")\n",
    "\n",
    "start_values = X_test.copy(deep=True)"
   ]
  },
  {
   "cell_type": "markdown",
   "id": "969d9cf3",
   "metadata": {},
   "source": [
    "## Feature Scaling"
   ]
  },
  {
   "cell_type": "markdown",
   "id": "33cd6962-258d-4c18-bb8a-270d03f6aa9f",
   "metadata": {},
   "source": [
    "We use standard scaling with mean and standard deviation from our training dataset to avoid data leakage"
   ]
  },
  {
   "cell_type": "code",
   "execution_count": 14,
   "id": "03e62a28",
   "metadata": {},
   "outputs": [],
   "source": [
    "# feature standardization\n",
    "scaler = StandardScaler()\n",
    "X_train = scaler.fit_transform(X_train)\n",
    "X_val = scaler.transform(X_val)\n",
    "X_test = scaler.transform(X_test)"
   ]
  },
  {
   "cell_type": "markdown",
   "id": "0a8f9308-6d91-475a-83c1-dfbbef814272",
   "metadata": {},
   "source": [
    "## Price Prediction Model"
   ]
  },
  {
   "cell_type": "markdown",
   "id": "f812992b",
   "metadata": {},
   "source": [
    "Here we are specify the parameters for the TensorFlow model:"
   ]
  },
  {
   "cell_type": "code",
   "execution_count": 15,
   "id": "75f697f5",
   "metadata": {},
   "outputs": [
    {
     "name": "stderr",
     "output_type": "stream",
     "text": [
      "2021-09-17 09:20:41.741967: I tensorflow/core/platform/cpu_feature_guard.cc:142] This TensorFlow binary is optimized with oneAPI Deep Neural Network Library (oneDNN) to use the following CPU instructions in performance-critical operations:  AVX2 FMA\n",
      "To enable them in other operations, rebuild TensorFlow with the appropriate compiler flags.\n"
     ]
    }
   ],
   "source": [
    "model = Sequential()\n",
    "\n",
    "number_of_features = X.shape[1]\n",
    "\n",
    "# input Layer\n",
    "model.add(Dense(number_of_features, activation=\"relu\", input_dim=number_of_features))\n",
    "\n",
    "# hidden Layer\n",
    "model.add(Dense(512, activation=\"relu\"))\n",
    "model.add(Dense(512, activation=\"relu\"))\n",
    "model.add(Dense(256, activation=\"relu\"))\n",
    "model.add(Dense(128, activation=\"relu\"))\n",
    "model.add(Dense(64, activation=\"relu\"))\n",
    "model.add(Dense(32, activation=\"relu\"))\n",
    "\n",
    "# output Layer\n",
    "model.add(Dense(1, activation=\"linear\"))"
   ]
  },
  {
   "cell_type": "code",
   "execution_count": 16,
   "id": "6fc6cb8e",
   "metadata": {
    "tags": []
   },
   "outputs": [
    {
     "name": "stdout",
     "output_type": "stream",
     "text": [
      "Model: \"sequential\"\n",
      "_________________________________________________________________\n",
      "Layer (type)                 Output Shape              Param #   \n",
      "=================================================================\n",
      "dense (Dense)                (None, 12)                156       \n",
      "_________________________________________________________________\n",
      "dense_1 (Dense)              (None, 512)               6656      \n",
      "_________________________________________________________________\n",
      "dense_2 (Dense)              (None, 512)               262656    \n",
      "_________________________________________________________________\n",
      "dense_3 (Dense)              (None, 256)               131328    \n",
      "_________________________________________________________________\n",
      "dense_4 (Dense)              (None, 128)               32896     \n",
      "_________________________________________________________________\n",
      "dense_5 (Dense)              (None, 64)                8256      \n",
      "_________________________________________________________________\n",
      "dense_6 (Dense)              (None, 32)                2080      \n",
      "_________________________________________________________________\n",
      "dense_7 (Dense)              (None, 1)                 33        \n",
      "=================================================================\n",
      "Total params: 444,061\n",
      "Trainable params: 444,061\n",
      "Non-trainable params: 0\n",
      "_________________________________________________________________\n"
     ]
    }
   ],
   "source": [
    "model.compile(loss=\"mse\", optimizer=\"adam\", metrics=[\"mse\", \"mae\"])\n",
    "model.summary()"
   ]
  },
  {
   "cell_type": "markdown",
   "id": "313d0bd8-e34d-427e-b150-53a33a5357f4",
   "metadata": {},
   "source": [
    "### Training"
   ]
  },
  {
   "cell_type": "markdown",
   "id": "276f24ea",
   "metadata": {},
   "source": [
    "Here we are starting the model training:"
   ]
  },
  {
   "cell_type": "code",
   "execution_count": 17,
   "id": "8a020f49",
   "metadata": {
    "tags": []
   },
   "outputs": [
    {
     "name": "stderr",
     "output_type": "stream",
     "text": [
      "2021-09-17 09:21:02.707390: I tensorflow/compiler/mlir/mlir_graph_optimization_pass.cc:185] None of the MLIR Optimization Passes are enabled (registered 2)\n"
     ]
    },
    {
     "name": "stdout",
     "output_type": "stream",
     "text": [
      "Epoch 1/70\n",
      "1226/1226 [==============================] - 3s 2ms/step - loss: 8909205504.0000 - mse: 8909205504.0000 - mae: 65358.1328 - val_loss: 5606605824.0000 - val_mse: 5606605824.0000 - val_mae: 54377.5742\n",
      "Epoch 2/70\n",
      "1226/1226 [==============================] - 3s 2ms/step - loss: 4940445184.0000 - mse: 4940445184.0000 - mae: 50409.5977 - val_loss: 5086661120.0000 - val_mse: 5086661120.0000 - val_mae: 48797.4961\n",
      "Epoch 3/70\n",
      "1226/1226 [==============================] - 3s 2ms/step - loss: 4486364160.0000 - mse: 4486364160.0000 - mae: 47773.7266 - val_loss: 4500957184.0000 - val_mse: 4500957184.0000 - val_mae: 47731.9766\n",
      "Epoch 4/70\n",
      "1226/1226 [==============================] - 3s 2ms/step - loss: 4276321280.0000 - mse: 4276321280.0000 - mae: 46616.4219 - val_loss: 4962499584.0000 - val_mse: 4962499584.0000 - val_mae: 53086.5664\n",
      "Epoch 5/70\n",
      "1226/1226 [==============================] - 3s 2ms/step - loss: 4063995904.0000 - mse: 4063995904.0000 - mae: 45257.5117 - val_loss: 4518308864.0000 - val_mse: 4518308864.0000 - val_mae: 45842.5859\n",
      "Epoch 6/70\n",
      "1226/1226 [==============================] - 3s 2ms/step - loss: 3922745600.0000 - mse: 3922745600.0000 - mae: 44293.6992 - val_loss: 4134284288.0000 - val_mse: 4134284288.0000 - val_mae: 44768.0078\n",
      "Epoch 7/70\n",
      "1226/1226 [==============================] - 3s 2ms/step - loss: 3883829760.0000 - mse: 3883829760.0000 - mae: 44078.7656 - val_loss: 4520368128.0000 - val_mse: 4520368128.0000 - val_mae: 45732.7500\n",
      "Epoch 8/70\n",
      "1226/1226 [==============================] - 3s 2ms/step - loss: 3761355520.0000 - mse: 3761355520.0000 - mae: 43227.9844 - val_loss: 4377273856.0000 - val_mse: 4377273856.0000 - val_mae: 47932.4844\n",
      "Epoch 9/70\n",
      "1226/1226 [==============================] - 3s 2ms/step - loss: 3676256256.0000 - mse: 3676256256.0000 - mae: 42589.0859 - val_loss: 3924544000.0000 - val_mse: 3924544000.0000 - val_mae: 42766.9453\n",
      "Epoch 10/70\n",
      "1226/1226 [==============================] - 3s 2ms/step - loss: 3618458880.0000 - mse: 3618458880.0000 - mae: 42168.6406 - val_loss: 3938384128.0000 - val_mse: 3938384128.0000 - val_mae: 42446.5859\n",
      "Epoch 11/70\n",
      "1226/1226 [==============================] - 3s 2ms/step - loss: 3608355840.0000 - mse: 3608355840.0000 - mae: 41904.6289 - val_loss: 4257440512.0000 - val_mse: 4257440512.0000 - val_mae: 47641.1680\n",
      "Epoch 12/70\n",
      "1226/1226 [==============================] - 3s 2ms/step - loss: 3535127040.0000 - mse: 3535127040.0000 - mae: 41508.0039 - val_loss: 3986763776.0000 - val_mse: 3986763776.0000 - val_mae: 43024.2422\n",
      "Epoch 13/70\n",
      "1226/1226 [==============================] - 3s 2ms/step - loss: 3548759552.0000 - mse: 3548759552.0000 - mae: 41560.0938 - val_loss: 3792941568.0000 - val_mse: 3792941568.0000 - val_mae: 41965.7852\n",
      "Epoch 14/70\n",
      "1226/1226 [==============================] - 3s 2ms/step - loss: 3457452544.0000 - mse: 3457452544.0000 - mae: 41013.1055 - val_loss: 3707325184.0000 - val_mse: 3707325184.0000 - val_mae: 41884.0039\n",
      "Epoch 15/70\n",
      "1226/1226 [==============================] - 3s 2ms/step - loss: 3381486848.0000 - mse: 3381487360.0000 - mae: 40592.0391 - val_loss: 3717256448.0000 - val_mse: 3717256448.0000 - val_mae: 43375.2812\n",
      "Epoch 16/70\n",
      "1226/1226 [==============================] - 3s 2ms/step - loss: 3358872576.0000 - mse: 3358872576.0000 - mae: 40320.7305 - val_loss: 3577223936.0000 - val_mse: 3577223936.0000 - val_mae: 41033.0000\n",
      "Epoch 17/70\n",
      "1226/1226 [==============================] - 3s 2ms/step - loss: 3272067584.0000 - mse: 3272067584.0000 - mae: 39816.8945 - val_loss: 3696454144.0000 - val_mse: 3696454144.0000 - val_mae: 40764.4961\n",
      "Epoch 18/70\n",
      "1226/1226 [==============================] - 3s 3ms/step - loss: 3231637248.0000 - mse: 3231637248.0000 - mae: 39465.1367 - val_loss: 3886736128.0000 - val_mse: 3886736128.0000 - val_mae: 45647.5742\n",
      "Epoch 19/70\n",
      "1226/1226 [==============================] - 3s 3ms/step - loss: 3233348096.0000 - mse: 3233348096.0000 - mae: 39702.4375 - val_loss: 4397507584.0000 - val_mse: 4397507584.0000 - val_mae: 49076.2539\n",
      "Epoch 20/70\n",
      "1226/1226 [==============================] - 3s 2ms/step - loss: 3191838720.0000 - mse: 3191838720.0000 - mae: 39409.0742 - val_loss: 3420893696.0000 - val_mse: 3420893696.0000 - val_mae: 40068.7695\n",
      "Epoch 21/70\n",
      "1226/1226 [==============================] - 3s 2ms/step - loss: 3129223424.0000 - mse: 3129223424.0000 - mae: 38923.7539 - val_loss: 3874937344.0000 - val_mse: 3874937344.0000 - val_mae: 41514.5352\n",
      "Epoch 22/70\n",
      "1226/1226 [==============================] - 3s 2ms/step - loss: 3085031168.0000 - mse: 3085031168.0000 - mae: 38592.6602 - val_loss: 3579986944.0000 - val_mse: 3579986944.0000 - val_mae: 39808.0508\n",
      "Epoch 23/70\n",
      "1226/1226 [==============================] - 3s 2ms/step - loss: 3049817600.0000 - mse: 3049817600.0000 - mae: 38300.6133 - val_loss: 3336896000.0000 - val_mse: 3336896000.0000 - val_mae: 39574.4570\n",
      "Epoch 24/70\n",
      "1226/1226 [==============================] - 3s 2ms/step - loss: 2995055360.0000 - mse: 2995055360.0000 - mae: 38048.0898 - val_loss: 3707694080.0000 - val_mse: 3707694080.0000 - val_mae: 44664.5312\n",
      "Epoch 25/70\n",
      "1226/1226 [==============================] - 3s 2ms/step - loss: 2981492992.0000 - mse: 2981492992.0000 - mae: 37912.6406 - val_loss: 3401486080.0000 - val_mse: 3401486080.0000 - val_mae: 41688.5742\n",
      "Epoch 26/70\n",
      "1226/1226 [==============================] - 3s 2ms/step - loss: 2974931712.0000 - mse: 2974931712.0000 - mae: 37897.1328 - val_loss: 3347083520.0000 - val_mse: 3347083520.0000 - val_mae: 40253.0273\n",
      "Epoch 27/70\n",
      "1226/1226 [==============================] - 3s 2ms/step - loss: 2965798144.0000 - mse: 2965798144.0000 - mae: 37761.2695 - val_loss: 3287642112.0000 - val_mse: 3287642112.0000 - val_mae: 39625.4727\n",
      "Epoch 28/70\n",
      "1226/1226 [==============================] - 3s 2ms/step - loss: 2922981120.0000 - mse: 2922981120.0000 - mae: 37560.5586 - val_loss: 3679244288.0000 - val_mse: 3679244288.0000 - val_mae: 40437.1250\n",
      "Epoch 29/70\n",
      "1226/1226 [==============================] - 3s 2ms/step - loss: 2928539136.0000 - mse: 2928539136.0000 - mae: 37572.5391 - val_loss: 3301567744.0000 - val_mse: 3301567744.0000 - val_mae: 39783.9258\n",
      "Epoch 30/70\n",
      "1226/1226 [==============================] - 3s 2ms/step - loss: 2858688000.0000 - mse: 2858688000.0000 - mae: 37098.6328 - val_loss: 3242811648.0000 - val_mse: 3242811648.0000 - val_mae: 39292.2812\n",
      "Epoch 31/70\n",
      "1226/1226 [==============================] - 3s 2ms/step - loss: 2864933120.0000 - mse: 2864933120.0000 - mae: 37134.5312 - val_loss: 3261924608.0000 - val_mse: 3261924608.0000 - val_mae: 38874.3906\n",
      "Epoch 32/70\n",
      "1226/1226 [==============================] - 3s 2ms/step - loss: 2848679680.0000 - mse: 2848679680.0000 - mae: 36947.6953 - val_loss: 3293277440.0000 - val_mse: 3293277440.0000 - val_mae: 38746.7852\n",
      "Epoch 33/70\n",
      "1226/1226 [==============================] - 3s 3ms/step - loss: 2831788288.0000 - mse: 2831788288.0000 - mae: 36976.9922 - val_loss: 3473834496.0000 - val_mse: 3473834496.0000 - val_mae: 39258.4219\n",
      "Epoch 34/70\n",
      "1226/1226 [==============================] - 3s 2ms/step - loss: 2843357696.0000 - mse: 2843357696.0000 - mae: 36905.5938 - val_loss: 3517596416.0000 - val_mse: 3517596416.0000 - val_mae: 43152.4062\n",
      "Epoch 35/70\n",
      "1226/1226 [==============================] - 3s 2ms/step - loss: 2814376448.0000 - mse: 2814376448.0000 - mae: 36716.0547 - val_loss: 3996001024.0000 - val_mse: 3996001024.0000 - val_mae: 42686.4766\n",
      "Epoch 36/70\n",
      "1226/1226 [==============================] - 3s 3ms/step - loss: 2820385536.0000 - mse: 2820385536.0000 - mae: 36718.3125 - val_loss: 3172691968.0000 - val_mse: 3172691968.0000 - val_mae: 38424.1992\n",
      "Epoch 37/70\n",
      "1226/1226 [==============================] - 3s 2ms/step - loss: 2792552192.0000 - mse: 2792552192.0000 - mae: 36584.7383 - val_loss: 3566539520.0000 - val_mse: 3566539520.0000 - val_mae: 39911.8125\n",
      "Epoch 38/70\n",
      "1226/1226 [==============================] - 3s 2ms/step - loss: 2789931264.0000 - mse: 2789931264.0000 - mae: 36526.9336 - val_loss: 3216947200.0000 - val_mse: 3216947200.0000 - val_mae: 40309.1094\n",
      "Epoch 39/70\n",
      "1226/1226 [==============================] - 3s 3ms/step - loss: 2747644416.0000 - mse: 2747644416.0000 - mae: 36375.4375 - val_loss: 3154614016.0000 - val_mse: 3154614016.0000 - val_mae: 38121.5039\n",
      "Epoch 40/70\n",
      "1226/1226 [==============================] - 3s 2ms/step - loss: 2747582720.0000 - mse: 2747582464.0000 - mae: 36128.7930 - val_loss: 3251910144.0000 - val_mse: 3251910144.0000 - val_mae: 40452.7109\n",
      "Epoch 41/70\n",
      "1226/1226 [==============================] - 3s 2ms/step - loss: 2744177408.0000 - mse: 2744177408.0000 - mae: 36168.8320 - val_loss: 3435898112.0000 - val_mse: 3435898112.0000 - val_mae: 39323.2656\n",
      "Epoch 42/70\n",
      "1226/1226 [==============================] - 3s 2ms/step - loss: 2728933888.0000 - mse: 2728933888.0000 - mae: 36035.7500 - val_loss: 3174073600.0000 - val_mse: 3174073600.0000 - val_mae: 39266.0469\n",
      "Epoch 43/70\n",
      "1226/1226 [==============================] - 3s 2ms/step - loss: 2713124608.0000 - mse: 2713124608.0000 - mae: 35925.9883 - val_loss: 3100857088.0000 - val_mse: 3100857088.0000 - val_mae: 37766.8516\n",
      "Epoch 44/70\n",
      "1226/1226 [==============================] - 3s 2ms/step - loss: 2694084608.0000 - mse: 2694084608.0000 - mae: 35951.2461 - val_loss: 3730189312.0000 - val_mse: 3730189312.0000 - val_mae: 40710.0273\n",
      "Epoch 45/70\n",
      "1226/1226 [==============================] - 3s 2ms/step - loss: 2691334912.0000 - mse: 2691334912.0000 - mae: 35680.2031 - val_loss: 3186116864.0000 - val_mse: 3186116864.0000 - val_mae: 38299.8945\n",
      "Epoch 46/70\n",
      "1226/1226 [==============================] - 3s 3ms/step - loss: 2696155648.0000 - mse: 2696155648.0000 - mae: 35785.2344 - val_loss: 3076677888.0000 - val_mse: 3076677888.0000 - val_mae: 37765.2969\n",
      "Epoch 47/70\n",
      "1226/1226 [==============================] - 3s 3ms/step - loss: 2655554048.0000 - mse: 2655554048.0000 - mae: 35546.6914 - val_loss: 3132364800.0000 - val_mse: 3132364800.0000 - val_mae: 38250.9883\n",
      "Epoch 48/70\n",
      "1226/1226 [==============================] - 3s 3ms/step - loss: 2650809856.0000 - mse: 2650809600.0000 - mae: 35346.8945 - val_loss: 3154844416.0000 - val_mse: 3154844416.0000 - val_mae: 38362.2109\n",
      "Epoch 49/70\n",
      "1226/1226 [==============================] - 3s 3ms/step - loss: 2654481664.0000 - mse: 2654481664.0000 - mae: 35521.5078 - val_loss: 3250692864.0000 - val_mse: 3250692864.0000 - val_mae: 37979.4023\n",
      "Epoch 50/70\n",
      "1226/1226 [==============================] - 3s 3ms/step - loss: 2641014528.0000 - mse: 2641014528.0000 - mae: 35386.4102 - val_loss: 3254782208.0000 - val_mse: 3254782208.0000 - val_mae: 38443.0859\n",
      "Epoch 51/70\n",
      "1226/1226 [==============================] - 3s 3ms/step - loss: 2608515584.0000 - mse: 2608515840.0000 - mae: 35028.7461 - val_loss: 3217347072.0000 - val_mse: 3217347072.0000 - val_mae: 39608.4062\n",
      "Epoch 52/70\n",
      "1226/1226 [==============================] - 3s 3ms/step - loss: 2625668864.0000 - mse: 2625668864.0000 - mae: 35297.8164 - val_loss: 3039178240.0000 - val_mse: 3039177984.0000 - val_mae: 38105.4141\n",
      "Epoch 53/70\n",
      "1226/1226 [==============================] - 3s 3ms/step - loss: 2592501248.0000 - mse: 2592501248.0000 - mae: 35070.7500 - val_loss: 3106720512.0000 - val_mse: 3106720000.0000 - val_mae: 37468.0195\n",
      "Epoch 54/70\n",
      "1226/1226 [==============================] - 3s 3ms/step - loss: 2585805312.0000 - mse: 2585805312.0000 - mae: 34960.2969 - val_loss: 3061515008.0000 - val_mse: 3061515008.0000 - val_mae: 37569.7539\n",
      "Epoch 55/70\n",
      "1226/1226 [==============================] - 3s 3ms/step - loss: 2563627776.0000 - mse: 2563628032.0000 - mae: 34735.6836 - val_loss: 3138435584.0000 - val_mse: 3138435584.0000 - val_mae: 37426.5859\n",
      "Epoch 56/70\n",
      "1226/1226 [==============================] - 3s 3ms/step - loss: 2600665600.0000 - mse: 2600665088.0000 - mae: 35097.1992 - val_loss: 3227536896.0000 - val_mse: 3227536896.0000 - val_mae: 38205.0312\n",
      "Epoch 57/70\n",
      "1226/1226 [==============================] - 3s 3ms/step - loss: 2547031552.0000 - mse: 2547031552.0000 - mae: 34836.8984 - val_loss: 3102853632.0000 - val_mse: 3102853376.0000 - val_mae: 37867.2500\n",
      "Epoch 58/70\n",
      "1226/1226 [==============================] - 3s 3ms/step - loss: 2554332928.0000 - mse: 2554332928.0000 - mae: 34814.3828 - val_loss: 3153700352.0000 - val_mse: 3153700352.0000 - val_mae: 37451.4922\n",
      "Epoch 59/70\n",
      "1226/1226 [==============================] - 3s 3ms/step - loss: 2527885824.0000 - mse: 2527885824.0000 - mae: 34587.8281 - val_loss: 3141811200.0000 - val_mse: 3141811200.0000 - val_mae: 38064.9648\n",
      "Epoch 60/70\n",
      "1226/1226 [==============================] - 3s 3ms/step - loss: 2506464000.0000 - mse: 2506464000.0000 - mae: 34341.2539 - val_loss: 3409337344.0000 - val_mse: 3409337344.0000 - val_mae: 41883.0625\n",
      "Epoch 61/70\n",
      "1226/1226 [==============================] - 3s 3ms/step - loss: 2527937024.0000 - mse: 2527937280.0000 - mae: 34491.4219 - val_loss: 3148345344.0000 - val_mse: 3148345344.0000 - val_mae: 38581.3281\n",
      "Epoch 62/70\n",
      "1226/1226 [==============================] - 3s 3ms/step - loss: 2508961280.0000 - mse: 2508961280.0000 - mae: 34541.9688 - val_loss: 3108302336.0000 - val_mse: 3108302336.0000 - val_mae: 37169.9766\n",
      "Epoch 63/70\n",
      "1226/1226 [==============================] - 3s 3ms/step - loss: 2470142720.0000 - mse: 2470142720.0000 - mae: 34110.6172 - val_loss: 3132849920.0000 - val_mse: 3132849920.0000 - val_mae: 37314.2852\n",
      "Epoch 64/70\n",
      "1226/1226 [==============================] - 3s 2ms/step - loss: 2441057792.0000 - mse: 2441057792.0000 - mae: 33967.3672 - val_loss: 3133970176.0000 - val_mse: 3133970176.0000 - val_mae: 37231.6719\n",
      "Epoch 65/70\n",
      "1226/1226 [==============================] - 3s 2ms/step - loss: 2475187456.0000 - mse: 2475187456.0000 - mae: 34189.3984 - val_loss: 2990149888.0000 - val_mse: 2990149888.0000 - val_mae: 36961.6367\n",
      "Epoch 66/70\n",
      "1226/1226 [==============================] - 3s 3ms/step - loss: 2480247552.0000 - mse: 2480247552.0000 - mae: 34181.9141 - val_loss: 3179474688.0000 - val_mse: 3179474688.0000 - val_mae: 37910.1758\n",
      "Epoch 67/70\n",
      "1226/1226 [==============================] - 3s 3ms/step - loss: 2435207936.0000 - mse: 2435207936.0000 - mae: 33849.0156 - val_loss: 3418452736.0000 - val_mse: 3418452736.0000 - val_mae: 41851.2422\n",
      "Epoch 68/70\n",
      "1226/1226 [==============================] - 3s 3ms/step - loss: 2419680512.0000 - mse: 2419680512.0000 - mae: 33811.4414 - val_loss: 3114805504.0000 - val_mse: 3114805504.0000 - val_mae: 37901.5938\n",
      "Epoch 69/70\n",
      "1226/1226 [==============================] - 3s 3ms/step - loss: 2458166528.0000 - mse: 2458166784.0000 - mae: 34071.8945 - val_loss: 3671221504.0000 - val_mse: 3671221504.0000 - val_mae: 44580.5312\n",
      "Epoch 70/70\n",
      "1226/1226 [==============================] - 3s 3ms/step - loss: 2405815040.0000 - mse: 2405815040.0000 - mae: 33498.6602 - val_loss: 2957581312.0000 - val_mse: 2957581312.0000 - val_mae: 36412.2695\n"
     ]
    }
   ],
   "source": [
    "history = model.fit(\n",
    "    X_train,\n",
    "    y_train.to_numpy(),\n",
    "    batch_size=10,\n",
    "    epochs=70,\n",
    "    verbose=1,\n",
    "    validation_data=(X_val, y_val),\n",
    ")"
   ]
  },
  {
   "cell_type": "markdown",
   "id": "ed8bdd26-7a6a-4564-af3b-c2c0cac3f5b2",
   "metadata": {},
   "source": [
    "### Evaluation"
   ]
  },
  {
   "cell_type": "markdown",
   "id": "2acb6304",
   "metadata": {},
   "source": [
    "Here we are looking how well the model was trained:"
   ]
  },
  {
   "cell_type": "code",
   "execution_count": 18,
   "id": "4076a3a4-c154-43ea-a833-6d91ce123bde",
   "metadata": {
    "tags": []
   },
   "outputs": [
    {
     "data": {
      "image/png": "[encoded data removed]",
      "text/plain": [
       "<Figure size 720x576 with 1 Axes>"
      ]
     },
     "metadata": {
      "needs_background": "light"
     },
     "output_type": "display_data"
    }
   ],
   "source": [
    "# summarize history for loss\n",
    "loss_train = history.history[\"loss\"]\n",
    "loss_val = history.history[\"val_loss\"]\n",
    "epochs = range(1, 71)\n",
    "plt.figure(figsize=(10, 8))\n",
    "plt.plot(epochs, loss_train, \"g\", label=\"Training loss\")\n",
    "plt.plot(epochs, loss_val, \"b\", label=\"Validation loss\")\n",
    "plt.title(\"Training and Validation loss\")\n",
    "plt.xlabel(\"Epochs\")\n",
    "plt.ylabel(\"Loss\")\n",
    "plt.legend()\n",
    "plt.show()"
   ]
  },
  {
   "cell_type": "markdown",
   "id": "d65e5e9e",
   "metadata": {},
   "source": [
    "In the above chart we can see that the training loss and validation loss are quite close to each other."
   ]
  },
  {
   "cell_type": "markdown",
   "id": "a3474c70",
   "metadata": {},
   "source": [
    "Now we can use the model to predict prices on unseen data"
   ]
  },
  {
   "cell_type": "code",
   "execution_count": 19,
   "id": "7c742425",
   "metadata": {},
   "outputs": [],
   "source": [
    "y_pred = model.predict(X_test)"
   ]
  },
  {
   "cell_type": "markdown",
   "id": "0d6cbc56",
   "metadata": {},
   "source": [
    "We can see that loss function value on the test data is similar to the loss value on the training data"
   ]
  },
  {
   "cell_type": "code",
   "execution_count": 20,
   "id": "18756b3f",
   "metadata": {},
   "outputs": [
    {
     "name": "stdout",
     "output_type": "stream",
     "text": [
      "128/128 [==============================] - 0s 1ms/step - loss: 2741234432.0000 - mse: 2741234432.0000 - mae: 35377.2344\n"
     ]
    },
    {
     "data": {
      "text/plain": [
       "[2741234432.0, 2741234432.0, 35377.234375]"
      ]
     },
     "execution_count": 20,
     "metadata": {},
     "output_type": "execute_result"
    }
   ],
   "source": [
    "model.evaluate(X_test, y_test)"
   ]
  },
  {
   "cell_type": "markdown",
   "id": "a87db7d6-d1a3-420d-9ab2-e6e3223a4aeb",
   "metadata": {},
   "source": [
    "### Prediction"
   ]
  },
  {
   "cell_type": "markdown",
   "id": "4ea00a7f",
   "metadata": {},
   "source": [
    "Let's now visualize the predicted numbers on the map"
   ]
  },
  {
   "cell_type": "markdown",
   "id": "7120a0d3-d5d6-4485-aa5b-62275aba026f",
   "metadata": {},
   "source": [
    "First, create a dataframe with predicted values obtained from the model"
   ]
  },
  {
   "cell_type": "code",
   "execution_count": 21,
   "id": "33d3366a",
   "metadata": {},
   "outputs": [],
   "source": [
    "predict_data = pd.DataFrame(\n",
    "    columns=[\"longitude\", \"latitude\"], data=start_values[[\"longitude\", \"latitude\"]]\n",
    ")\n",
    "predict_data[\"price\"] = y_pred"
   ]
  },
  {
   "cell_type": "markdown",
   "id": "bb728127-0c64-4b4e-ab6b-71d451f33513",
   "metadata": {},
   "source": [
    "### Visualization"
   ]
  },
  {
   "cell_type": "markdown",
   "id": "94536742",
   "metadata": {},
   "source": [
    "This map shows the predicted prices on houses in CA"
   ]
  },
  {
   "cell_type": "code",
   "execution_count": 22,
   "id": "9b15e7f3",
   "metadata": {
    "tags": []
   },
   "outputs": [
    {
     "data": {
      "application/vnd.jupyter.widget-view+json": {
       "model_id": "760c39ede7624419b866dab9bf2e74bb",
       "version_major": 2,
       "version_minor": 0
      },
      "text/plain": [
       "UnfoldedMap()"
      ]
     },
     "metadata": {},
     "output_type": "display_data"
    }
   ],
   "source": [
    "housing_predict_prices = UnfoldedMap()\n",
    "price_data_id = uuid4()\n",
    "\n",
    "housing_predict_prices.add_dataset(\n",
    "    {\n",
    "        \"uuid\": price_data_id,\n",
    "        \"label\": \"Predict housing prices in CA\",\n",
    "        \"data\": predict_data,\n",
    "    },\n",
    "    auto_create_layers=False,\n",
    ")\n",
    "\n",
    "housing_predict_prices.add_layer(\n",
    "    {\n",
    "        \"id\": \"housing_prices\",\n",
    "        \"type\": \"hexagon\",\n",
    "        \"config\": {\n",
    "            \"label\": \"housing prices\",\n",
    "            \"data_id\": price_data_id,\n",
    "            \"columns\": {\"lat\": \"latitude\", \"lng\": \"longitude\"},\n",
    "            \"is_visible\": True,\n",
    "            \"color_scale\": \"quantize\",\n",
    "            \"color_field\": {\"name\": \"price\", \"type\": \"real\"},\n",
    "            \"vis_config\": {\n",
    "                \"colorRange\": {\n",
    "                    \"colors\": [\n",
    "                        \"#E6F598\",\n",
    "                        \"#ABDDA4\",\n",
    "                        \"#66C2A5\",\n",
    "                        \"#3288BD\",\n",
    "                        \"#5E4FA2\",\n",
    "                        \"#9E0142\",\n",
    "                        \"#D53E4F\",\n",
    "                        \"#F46D43\",\n",
    "                        \"#FDAE61\",\n",
    "                        \"#FEE08B\",\n",
    "                    ]\n",
    "                }\n",
    "            },\n",
    "        },\n",
    "    }\n",
    ")\n",
    "\n",
    "housing_predict_prices.set_view_state(\n",
    "    {\"longitude\": -119.417931, \"latitude\": 36.6, \"zoom\": 6}\n",
    ")\n",
    "\n",
    "housing_predict_prices"
   ]
  },
  {
   "cell_type": "markdown",
   "id": "e9b897ea-3a74-47bf-bf56-e006e4e0bae8",
   "metadata": {
    "tags": []
   },
   "source": [
    "## Clustering Model"
   ]
  },
  {
   "cell_type": "markdown",
   "id": "ae748c09-3336-4b5d-9d7b-f6b5cd8a3674",
   "metadata": {},
   "source": [
    "Let's cluster the predicted data by price levels using the KMeans algorithm"
   ]
  },
  {
   "cell_type": "code",
   "execution_count": 23,
   "id": "f477d583",
   "metadata": {},
   "outputs": [],
   "source": [
    "k = 5\n",
    "km = KMeans(n_clusters=k, init=\"k-means++\")\n",
    "X = predict_data[[\"latitude\", \"longitude\", \"price\"]]\n",
    "\n",
    "# clustering\n",
    "dtf_X = X.copy()\n",
    "dtf_X[\"cluster\"] = km.fit_predict(X)\n",
    "\n",
    "# add clustering info to the original dataset\n",
    "predict_data[[\"cluster\"]] = dtf_X[[\"cluster\"]]"
   ]
  },
  {
   "cell_type": "markdown",
   "id": "cc816d7f-67c1-4b83-abbb-22784a511164",
   "metadata": {},
   "source": [
    "### Visualization"
   ]
  },
  {
   "cell_type": "markdown",
   "id": "0e502b33",
   "metadata": {},
   "source": [
    "Let's show the price clusters in a chart"
   ]
  },
  {
   "cell_type": "code",
   "execution_count": 26,
   "id": "b0b4943a",
   "metadata": {},
   "outputs": [
    {
     "data": {
      "text/plain": [
       "Text(0.5, 1.0, 'Clustering (k=5)')"
      ]
     },
     "execution_count": 26,
     "metadata": {},
     "output_type": "execute_result"
    },
    {
     "data": {
      "image/png": "[encoded data removed]",
      "text/plain": [
       "<Figure size 432x288 with 1 Axes>"
      ]
     },
     "metadata": {
      "needs_background": "light"
     },
     "output_type": "display_data"
    }
   ],
   "source": [
    "fig, ax = plt.subplots()\n",
    "sns.scatterplot(\n",
    "    x=\"latitude\",\n",
    "    y=\"longitude\",\n",
    "    data=predict_data,\n",
    "    palette=sns.color_palette(\"bright\", k),\n",
    "    hue=\"cluster\",\n",
    "    size_order=[1, 0],\n",
    "    ax=ax,\n",
    ").set_title(f\"Clustering (k={k})\")"
   ]
  },
  {
   "cell_type": "markdown",
   "id": "619dcb6a",
   "metadata": {},
   "source": [
    "This map shows the same clusters in the geographic context\n",
    "\n",
    "Here we can see that the prices for cities close to the largest cities are the highest, in contrast to those that are far from them and, moreover, far from the ocean."
   ]
  },
  {
   "cell_type": "code",
   "execution_count": 25,
   "id": "a2897425",
   "metadata": {},
   "outputs": [
    {
     "data": {
      "application/vnd.jupyter.widget-view+json": {
       "model_id": "71425fffe38640f58f9bc92b0fe73a94",
       "version_major": 2,
       "version_minor": 0
      },
      "text/plain": [
       "UnfoldedMap()"
      ]
     },
     "metadata": {},
     "output_type": "display_data"
    }
   ],
   "source": [
    "prices_dataset_id = uuid4()\n",
    "unfolded_map_prices = UnfoldedMap()\n",
    "\n",
    "unfolded_map_prices.add_dataset(\n",
    "    {\"uuid\": prices_dataset_id, \"label\": \"Prices\", \"data\": predict_data},\n",
    "    auto_create_layers=False,\n",
    ")\n",
    "\n",
    "unfolded_map_prices.add_layer(\n",
    "    {\n",
    "        \"id\": \"prices_CA\",\n",
    "        \"type\": \"point\",\n",
    "        \"config\": {\n",
    "            \"data_id\": prices_dataset_id,\n",
    "            \"label\": \"clustering of prices\",\n",
    "            \"columns\": {\"lat\": \"latitude\", \"lng\": \"longitude\"},\n",
    "            \"is_visible\": True,\n",
    "            \"color_scale\": \"quantize\",\n",
    "            \"color_field\": {\"name\": \"cluster\", \"type\": \"real\"},\n",
    "            \"vis_config\": {\n",
    "                \"colorRange\": {\n",
    "                    \"colors\": [\"#7FFFD4\", \"#8A2BE2\", \"#00008B\", \"#FF8C00\", \"#FF1493\"]\n",
    "                }\n",
    "            },\n",
    "        },\n",
    "    }\n",
    ")\n",
    "\n",
    "unfolded_map_prices.set_view_state(\n",
    "    {\"longitude\": -119.417931, \"latitude\": 36.778259, \"zoom\": 4}\n",
    ")\n",
    "\n",
    "unfolded_map_prices"
   ]
  },
  {
   "cell_type": "code",
   "execution_count": null,
   "id": "9f176aed-7d48-4615-9031-bfe45dd801a4",
   "metadata": {},
   "outputs": [],
   "source": []
  }
 ],
 "metadata": {
  "kernelspec": {
   "display_name": "Python 3 (ipykernel)",
   "language": "python",
   "name": "python3"
  },
  "language_info": {
   "codemirror_mode": {
    "name": "ipython",
    "version": 3
   },
   "file_extension": ".py",
   "mimetype": "text/x-python",
   "name": "python",
   "nbconvert_exporter": "python",
   "pygments_lexer": "ipython3",
   "version": "3.8.10"
  }
 },
 "nbformat": 4,
 "nbformat_minor": 5
}
