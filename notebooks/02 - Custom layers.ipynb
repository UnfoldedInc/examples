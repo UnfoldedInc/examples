{
 "cells": [
  {
   "cell_type": "code",
   "execution_count": 1,
   "id": "71c77df9-1d42-4993-9a0a-d311064d03c9",
   "metadata": {},
   "outputs": [],
   "source": [
    "from unfolded.map_sdk import UnfoldedMap\n",
    "unfolded_map = UnfoldedMap(\n",
    "   # mapUrl='http://localhost:8080/incognito'\n",
    "   # mapUrl='https://staging.unfolded.ai/incognito'\n",
    ")"
   ]
  },
  {
   "cell_type": "code",
   "execution_count": 2,
   "id": "67fbd3d3-2eb6-45f4-b3e4-7391fc5282a7",
   "metadata": {},
   "outputs": [],
   "source": [
    "from sidecar import Sidecar\n",
    "sc = Sidecar(title='Unfolded map demo', anchor='split-right')\n",
    "with sc:\n",
    "    display(unfolded_map)"
   ]
  },
  {
   "cell_type": "markdown",
   "id": "05b6f62b",
   "metadata": {},
   "source": [
    "## Load data into a DataFrame "
   ]
  },
  {
   "cell_type": "code",
   "execution_count": 5,
   "id": "3366a68b",
   "metadata": {},
   "outputs": [],
   "source": [
    "from uuid import uuid4\n",
    "dataset_id=uuid4()"
   ]
  },
  {
   "cell_type": "code",
   "execution_count": 6,
   "id": "37ebfcb5",
   "metadata": {},
   "outputs": [
    {
     "data": {
      "text/plain": [
       "<Future pending>"
      ]
     },
     "execution_count": 6,
     "metadata": {},
     "output_type": "execute_result"
    }
   ],
   "source": [
    "import pandas as pd\n",
    "unfolded_map.add_dataset({\n",
    "    'uuid': dataset_id,\n",
    "    'label':'Earthquakes',\n",
    "    'data': pd.read_csv('data/earthquakes.csv')\n",
    "}, auto_create_layers=False)"
   ]
  },
  {
   "cell_type": "code",
   "execution_count": 7,
   "id": "fa6da747",
   "metadata": {},
   "outputs": [],
   "source": [
    "unfolded_map.add_layer({\n",
    "    'id': 'earthquake_points',\n",
    "    'type': 'point',\n",
    "    'config': {\n",
    "        'data_id': dataset_id,\n",
    "        'label': 'Earthquakes',\n",
    "        'columns': {'lat': 'Latitude','lng': 'Longitude'},\n",
    "        'is_visible': True,\n",
    "        'color_field': {'name': 'Depth','type': 'real'}\n",
    "    }\n",
    "})"
   ]
  },
  {
   "cell_type": "code",
   "execution_count": 20,
   "id": "c15e6ea3",
   "metadata": {},
   "outputs": [],
   "source": [
    "unfolded_map.remove_layer('earthquake_points')"
   ]
  },
  {
   "cell_type": "code",
   "execution_count": 22,
   "id": "0ab8deca",
   "metadata": {},
   "outputs": [
    {
     "data": {
      "text/plain": [
       "<Future pending>"
      ]
     },
     "execution_count": 22,
     "metadata": {},
     "output_type": "execute_result"
    }
   ],
   "source": [
    "unfolded_map.remove_dataset(dataset_id)"
   ]
  },
  {
   "cell_type": "markdown",
   "id": "ac8d0da2",
   "metadata": {},
   "source": [
    "## GeoDataFrame"
   ]
  },
  {
   "cell_type": "code",
   "execution_count": 27,
   "id": "53f0e171",
   "metadata": {},
   "outputs": [
    {
     "data": {
      "text/plain": [
       "<Future pending>"
      ]
     },
     "execution_count": 27,
     "metadata": {},
     "output_type": "execute_result"
    }
   ],
   "source": [
    "import geopandas\n",
    "country_gdf = geopandas.read_file(\"http://eric.clst.org/assets/wiki/uploads/Stuff/gz_2010_us_040_00_500k.json\")\n",
    "unfolded_map.add_dataset({'data': country_gdf})"
   ]
  },
  {
   "cell_type": "markdown",
   "id": "8d137c8a",
   "metadata": {},
   "source": [
    "## GeoJSON"
   ]
  },
  {
   "cell_type": "code",
   "execution_count": 29,
   "id": "0e891430",
   "metadata": {},
   "outputs": [
    {
     "ename": "FileNotFoundError",
     "evalue": "[Errno 2] No such file or directory: 'us-census-tracts.json'",
     "output_type": "error",
     "traceback": [
      "\u001b[0;31m-------------------------------------------------\u001b[0m",
      "\u001b[0;31mFileNotFoundError\u001b[0mTraceback (most recent call last)",
      "\u001b[0;32m<ipython-input-29-fc1aae60c967>\u001b[0m in \u001b[0;36m<module>\u001b[0;34m\u001b[0m\n\u001b[1;32m      1\u001b[0m \u001b[0;31m#https://github.com/uber-web/kepler.gl-data/blob/master/nyc_census/data.json?raw=true\u001b[0m\u001b[0;34m\u001b[0m\u001b[0;34m\u001b[0m\u001b[0;34m\u001b[0m\u001b[0m\n\u001b[0;32m----> 2\u001b[0;31m \u001b[0;32mwith\u001b[0m \u001b[0mopen\u001b[0m\u001b[0;34m(\u001b[0m\u001b[0;34m'us-census-tracts.json'\u001b[0m\u001b[0;34m,\u001b[0m \u001b[0;34m'r'\u001b[0m\u001b[0;34m)\u001b[0m \u001b[0;32mas\u001b[0m \u001b[0mf\u001b[0m\u001b[0;34m:\u001b[0m\u001b[0;34m\u001b[0m\u001b[0;34m\u001b[0m\u001b[0m\n\u001b[0m\u001b[1;32m      3\u001b[0m     \u001b[0mcensus_tracts_geojson\u001b[0m \u001b[0;34m=\u001b[0m \u001b[0mf\u001b[0m\u001b[0;34m.\u001b[0m\u001b[0mread\u001b[0m\u001b[0;34m(\u001b[0m\u001b[0;34m)\u001b[0m\u001b[0;34m\u001b[0m\u001b[0;34m\u001b[0m\u001b[0m\n\u001b[1;32m      4\u001b[0m \u001b[0munfolded_map\u001b[0m\u001b[0;34m.\u001b[0m\u001b[0madd_dataset\u001b[0m\u001b[0;34m(\u001b[0m\u001b[0;34m{\u001b[0m\u001b[0;34m'data'\u001b[0m\u001b[0;34m:\u001b[0m \u001b[0mcensus_tracts_geojson\u001b[0m\u001b[0;34m}\u001b[0m\u001b[0;34m)\u001b[0m\u001b[0;34m\u001b[0m\u001b[0;34m\u001b[0m\u001b[0m\n",
      "\u001b[0;31mFileNotFoundError\u001b[0m: [Errno 2] No such file or directory: 'us-census-tracts.json'"
     ]
    }
   ],
   "source": [
    "#https://github.com/uber-web/kepler.gl-data/blob/master/nyc_census/data.json?raw=true\n",
    "with open('us-census-tracts.json', 'r') as f:\n",
    "    census_tracts_geojson = f.read()\n",
    "unfolded_map.add_dataset({'data': census_tracts_geojson})\n"
   ]
  },
  {
   "cell_type": "markdown",
   "id": "5b785d01",
   "metadata": {},
   "source": [
    "## Simple DataFrame"
   ]
  },
  {
   "cell_type": "code",
   "execution_count": 60,
   "id": "888820b3",
   "metadata": {},
   "outputs": [
    {
     "data": {
      "text/plain": [
       "<Future pending>"
      ]
     },
     "execution_count": 60,
     "metadata": {},
     "output_type": "execute_result"
    }
   ],
   "source": [
    "unfolded_map.add_dataset({ 'data': pd.DataFrame(\n",
    "    {'City': ['Buenos Aires', 'Brasilia', 'Santiago', 'Bogota', 'Caracas'],\n",
    "     'Country': ['Argentina', 'Brazil', 'Chile', 'Colombia', 'Venezuela'],\n",
    "     'Latitude': [-34.58, -15.78, -33.45, 4.60, 10.48],\n",
    "     'Longitude': [-58.66, -47.91, -70.66, -74.08, -66.86],\n",
    "     'Time': ['2019-09-01 08:00','2019-09-01 09:00','2019-09-01 10:00','2019-09-01 11:00', '2019-09-01 12:00']\n",
    "    })\n",
    "})"
   ]
  },
  {
   "cell_type": "code",
   "execution_count": null,
   "id": "0805d037",
   "metadata": {},
   "outputs": [],
   "source": []
  }
 ],
 "metadata": {
  "kernelspec": {
   "display_name": "Python 3",
   "language": "python",
   "name": "python3"
  },
  "language_info": {
   "codemirror_mode": {
    "name": "ipython",
    "version": 3
   },
   "file_extension": ".py",
   "mimetype": "text/x-python",
   "name": "python",
   "nbconvert_exporter": "python",
   "pygments_lexer": "ipython3",
   "version": "3.9.2"
  }
 },
 "nbformat": 4,
 "nbformat_minor": 5
}
