{
 "cells": [
  {
   "cell_type": "markdown",
   "id": "a586d9f1-59a1-4359-9954-bf807c8d1cd6",
   "metadata": {},
   "source": [
    "# Introduction to Unfolded Map SDK"
   ]
  },
  {
   "cell_type": "markdown",
   "id": "83d160e4-f70a-4cb8-9d70-1e90a8768d4f",
   "metadata": {},
   "source": [
    "This notebook demonstrates how to create a local Unfolded map and then how to add a simple dataset to it."
   ]
  },
  {
   "cell_type": "code",
   "execution_count": 2,
   "id": "6252a03d-7e1f-4218-a7c1-55d0bef9f6a5",
   "metadata": {},
   "outputs": [],
   "source": [
    "from unfolded.map_sdk import UnfoldedMap\n",
    "unfolded_map = UnfoldedMap()"
   ]
  },
  {
   "cell_type": "code",
   "execution_count": 3,
   "id": "f14794d3-b596-4568-ad6b-4005cd3e472f",
   "metadata": {},
   "outputs": [],
   "source": [
    "from sidecar import Sidecar\n",
    "sc = Sidecar(title='Unfolded Map', anchor='split-right')\n",
    "with sc:\n",
    "    display(unfolded_map)"
   ]
  },
  {
   "cell_type": "markdown",
   "id": "34c2509f-ed30-40b5-86b0-54857a45eeff",
   "metadata": {},
   "source": [
    "## Simple DataFrame"
   ]
  },
  {
   "cell_type": "code",
   "execution_count": null,
   "id": "93c4b4ca-5842-44b5-a8c4-7edf96b64929",
   "metadata": {},
   "outputs": [],
   "source": [
    "import pandas as pd\n",
    "unfolded_map.add_dataset({\n",
    "    'data': pd.DataFrame({\n",
    "        'City': ['Buenos Aires', 'Brasilia', 'Santiago', 'Bogota', 'Caracas'],\n",
    "        'Country': ['Argentina', 'Brazil', 'Chile', 'Colombia', 'Venezuela'],\n",
    "        'Latitude': [-34.58, -15.78, -33.45, 4.60, 10.48],\n",
    "        'Longitude': [-58.66, -47.91, -70.66, -74.08, -66.86]\n",
    "    })\n",
    "})"
   ]
  }
 ],
 "metadata": {
  "kernelspec": {
   "display_name": "Python 3",
   "language": "python",
   "name": "python3"
  },
  "language_info": {
   "codemirror_mode": {
    "name": "ipython",
    "version": 3
   },
   "file_extension": ".py",
   "mimetype": "text/x-python",
   "name": "python",
   "nbconvert_exporter": "python",
   "pygments_lexer": "ipython3",
   "version": "3.9.2"
  }
 },
 "nbformat": 4,
 "nbformat_minor": 5
}
